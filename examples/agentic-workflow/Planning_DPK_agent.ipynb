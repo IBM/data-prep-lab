{
 "cells": [
  {
   "cell_type": "markdown",
   "metadata": {},
   "source": [
    "<div style=\"background-color: #04D7FD; padding: 20px; text-align: left;\">\n",
    "    <h1 style=\"color: #000000; font-size: 30px; margin: 0;\">data-prep-kit planning agent</h1>   \n",
    "</div>"
   ]
  },
  {
   "cell_type": "code",
   "execution_count": null,
   "metadata": {},
   "outputs": [],
   "source": [
    "%pip install -qq -r requirements.txt"
   ]
  },
  {
   "cell_type": "code",
   "execution_count": 1,
   "metadata": {},
   "outputs": [
    {
     "data": {
      "text/html": [
       "<p><span style='color:blue; font-weight:bold; font-size:14.0pt;'>TASK: Process the provided PDF dataset to identify and extract only documents that don't contain inappropriate language. Remove the duplications.</span></p>"
      ],
      "text/plain": [
       "<IPython.core.display.HTML object>"
      ]
     },
     "execution_count": 1,
     "metadata": {},
     "output_type": "execute_result"
    }
   ],
   "source": [
    "from IPython.display import HTML\n",
    "task = \"Process the provided PDF dataset to identify and extract only documents that don't contain inappropriate language. Remove the duplications.\"\n",
    "HTML(f\"<p><span style='color:blue; font-weight:bold; font-size:14.0pt;'>TASK: {task}</span></p>\")"
   ]
  },
  {
   "cell_type": "code",
   "execution_count": 2,
   "metadata": {},
   "outputs": [
    {
     "data": {
      "text/plain": [
       "0"
      ]
     },
     "execution_count": 2,
     "metadata": {},
     "output_type": "execute_result"
    }
   ],
   "source": [
    "import logging\n",
    "import os\n",
    "\n",
    "from llm_utils.logging import prep_loggers\n",
    "os.environ[\"LLM_LOG_PATH\"] = \"./logs/llm_log.txt\"\n",
    "prep_loggers(\"llm=INFO\")"
   ]
  },
  {
   "cell_type": "code",
   "execution_count": 3,
   "metadata": {},
   "outputs": [
    {
     "name": "stdout",
     "output_type": "stream",
     "text": [
      "\n",
      "[\n",
      "    {\"name\": \"exact_dedup\", \"description\": \"Exact data deduplication is used to identify (and remove) redundant records.\",\n",
      "        \"input\": [{\"name\": \"in_folder\", \"description\": \"input directory to transform files from.\", \"type\": \"str\"},\n",
      "            {\"name\": \"out_folder\", \"description\": \"destination directory to store the transformed files.\", \"type\": \"str\"}],\n",
      "        \"import\": \"from llm_utils.dpk.langchain_tools.tools.universal.ededup import EdedupTransform\"},\n",
      "\n",
      "    {\"name\": \"Pdf2Parquet\", \"description\": \"The Pdf2Parquet transform generates parquet files containing the converted document.\",\n",
      "        \"input\": [{\"name\": \"in_folder\", \"description\": \"input directory to transform files from.\", \"type\": \"str\"},\n",
      "            {\"name\": \"out_folder\", \"description\": \"destination directory to store the transformed files.\", \"type\": \"str\"},\n",
      "            {\"name\": \"data_files_to_use\", \"description\": \"files extentions to transform.\", \"type\": \"list\"}],\n",
      "        \"import\": \"from llm_utils.dpk.langchain_tools.tools.language.pdf2parquet import Pdf2parquetTransform\"},\n",
      "\n",
      "    {\"name\": \"doc_quality\", \"description\": \"The doc_quality transform will calculate and annotate several metrics which are useful to assess the quality of the document.\",\n",
      "        \"input\": [{\"name\": \"in_folder\", \"description\": \"input directory to transform files from.\", \"type\": \"str\"},\n",
      "            {\"name\": \"out_folder\", \"description\": \"destination directory to store the transformed files.\", \"type\": \"str\"},\n",
      "            {\"name\": \"docq_bad_word_filepath\", \"description\": \"path to bad words file.\", \"type\": \"str\"}],\n",
      "        \"import\": \"from llm_utils.dpk.langchain_tools.tools.language.doc_quality import DocQualityTransform\"},\n",
      "\n",
      "    {\"name\": \"document_id\", \"description\": \"The Document ID transforms adds a document identification (unique integers and content hashes), which later can be used in de-duplication operations.\",\n",
      "    \"input\": [{\"name\": \"in_folder\", \"description\": \"input directory to transform files from.\", \"type\": \"str\"},\n",
      "        {\"name\": \"out_folder\", \"description\": \"destination directory to store the transformed files.\", \"type\": \"str\"},\n",
      "        {\"name\": \"doc_id_int_column\", \"description\": \"Compute unique integer id and place in the given named column.\", \"type\": \"str\"}],\n",
      "    \"import\": \"from llm_utils.dpk.langchain_tools.tools.universal.doc_id import DocIDTransform\"},\n",
      "\n",
      "    {\"name\": \"language_id\", \"description\": \"The Language Identification transforms added a column containing the language of the document.\",\n",
      "    \"input\": [{\"name\": \"in_folder\", \"description\": \"input directory to transform files from.\", \"type\": \"str\"},\n",
      "        {\"name\": \"out_folder\", \"description\": \"destination directory to store the transformed files.\", \"type\": \"str\"}],\n",
      "    \"import\": \"from llm_utils.dpk.langchain_tools.tools.language.lang_id import LangIdentificationTransform\"},\n",
      "\n",
      "    {\"name\": \"filter_transform\", \"description\": \"The filter transforms provides SQL-based expressions for filtering rows and optionally column removal from parquet files.\",\n",
      "    \"input\": [{\"name\": \"in_folder\", \"description\": \"input directory to transform files from.\", \"type\": \"str\"},\n",
      "        {\"name\": \"out_folder\", \"description\": \"destination directory to store the transformed files.\", \"type\": \"str\"},\n",
      "        {\"name\": \"filter_criteria_list\", \"description\": \"list of sql queries to filter the input files.\", \"type\": \"list\"}],\n",
      "    \"import\": \"from llm_utils.dpk.langchain_tools.tools.universal.filter import FilterTransform\"},\n",
      "\n",
      "    {\"name\": \"tokenization\", \"description\": \"The tokenization transform annotates pyarrow tables and parquet files to add a column containing tokens for the document column.\",\n",
      "    \"input\": [{\"name\": \"in_folder\", \"description\": \"input directory to transform files from.\", \"type\": \"str\"},\n",
      "        {\"name\": \"out_folder\", \"description\": \"destination directory to store the transformed files.\", \"type\": \"str\"}],\n",
      "    \"import\": \"from llm_utils.dpk.langchain_tools.tools.universal.tokenization import TokenizationTransform\"},\n",
      "\n",
      "    {\"name\": \"tool_not_implemented\", \"description\": \"A placeholder tool for the casses when a suitable tool cannot be found\"}\n",
      "]\n",
      "\n"
     ]
    }
   ],
   "source": [
    "from llm_utils.dpk.tools import *\n",
    "print(tools_json)"
   ]
  },
  {
   "cell_type": "code",
   "execution_count": 4,
   "metadata": {},
   "outputs": [
    {
     "name": "stdout",
     "output_type": "stream",
     "text": [
      "\n",
      "For example, If the required task was Filter the parquet files to include only english documents. The the plan should be the following:\n",
      "{\"step_name\": \"Step #1 language identification\", \"tool_name\": \"language_id\", \"tool_input\": [{\"in_folder\": \"user_input\", \"out_folder\": \"user_input\"}], \"step_ev\": \"Ev1\"}\n",
      "{\"step_name\": \"Step #2 filter english documents\", \"tool_name\": \"filter_transform\", \"tool_input\": [{\"in_folder\": \"#Ev1\"}, {\"out_folder\": \"user_input\"}, {\"filter_criteria_list\": [lang==en]}], \"step_ev\": \"Ev2\"}\n",
      "\n"
     ]
    }
   ],
   "source": [
    "from llm_utils.dpk.examples import *\n",
    "print(example_task)"
   ]
  },
  {
   "cell_type": "code",
   "execution_count": 5,
   "metadata": {},
   "outputs": [
    {
     "name": "stdout",
     "output_type": "stream",
     "text": [
      "constraint: If the 'exact_dedup' tool is needed then it must run as the first step or immediately after 'Pdf2Parquet'.\n",
      "constraint: If the 'tokenization' transform is needed then it must run as the last transform of the plan. Otherwise, it should not be part of the plan.\n",
      "constraint: run 'Pdf2Parquet' tool as a first step if the input is pdf files.\n",
      "\n"
     ]
    }
   ],
   "source": [
    "from llm_utils.dpk.constraints import *\n",
    "print(constraints)"
   ]
  },
  {
   "cell_type": "code",
   "execution_count": 6,
   "metadata": {},
   "outputs": [],
   "source": [
    "from llm_utils.models import getChatLLM\n",
    "from dotenv import dotenv_values\n",
    "\n",
    "config = dotenv_values(\"./.env\")\n",
    "model_id1 = \"ibm-granite/granite-3.1-8b-instruct\"\n",
    "model_id2 = \"meta-llama/llama-3-1-70b-instruct\"\n",
    "model_id3 = \"mistralai/mixtral-8x7B-instruct-v0.1\"\n",
    "model_id4 = \"ibm/granite-34b-code-instruct\"\n",
    "\n",
    "llm_plan = getChatLLM(\"watsonx\", model_id2, config)\n",
    "llm_judge = getChatLLM(\"watsonx\", model_id2, config)\n",
    "llm_generate = getChatLLM(\"watsonx\", model_id2, config)"
   ]
  },
  {
   "cell_type": "code",
   "execution_count": 7,
   "metadata": {},
   "outputs": [
    {
     "data": {
      "text/plain": [
       "<langgraph.graph.state.StateGraph at 0x104f660f0>"
      ]
     },
     "execution_count": 7,
     "metadata": {},
     "output_type": "execute_result"
    }
   ],
   "source": [
    "from langgraph.graph import StateGraph, END\n",
    "from llm_utils.agent_helpers import *\n",
    "from llm_utils.prompts.planner_prompt import *\n",
    "from llm_utils.prompts.judge_prompt import *\n",
    "from llm_utils.prompts.generate_prompt import *\n",
    "from llm_utils.dpk.tools import *\n",
    "from llm_utils.dpk.examples import *\n",
    "from llm_utils.dpk.constraints import *\n",
    "from functools import partial\n",
    "\n",
    "\n",
    "# Create the graph\n",
    "workflow = StateGraph(State)\n",
    "\n",
    "# Add nodes\n",
    "workflow.add_node(\"planner\", partial(planner, prompt=planner_prompt_str, tools=tools_json, example=example_task1, context=constraints, llm=llm_plan))\n",
    "workflow.add_node(\"judge\", partial(judge, prompt=judge_prompt_str_dpk, tools=tools_json, context=constraints, llm=llm_judge))\n",
    "workflow.add_node(\"user_review\", get_user_review)\n",
    "workflow.add_node(\"code generator\", partial(generator, prompt=generate_prompt_str_with_example, llm=llm_generate))\n",
    "workflow.add_node(\"code validator\", code_validator)\n",
    "\n",
    "# Add edges\n",
    "# workflow.add_edge(\"planner\", \"judge\")\n",
    "workflow.set_entry_point(\"planner\")\n",
    "workflow.add_edge(\"code generator\", \"code validator\")\n",
    "workflow.add_edge(\"code validator\", END)\n",
    "\n",
    "# Add conditional edges from judge\n",
    "workflow.add_conditional_edges(\n",
    "    \"judge\",\n",
    "    is_plan_OK,\n",
    "    {\n",
    "        False: \"planner\",  # If needs revision, go back to planner\n",
    "        True: \"user_review\"  # If plan is good, proceed to user review\n",
    "    }\n",
    ")\n",
    "\n",
    "# Add conditional edges from planner\n",
    "workflow.add_conditional_edges(\n",
    "    \"planner\",\n",
    "    need_judge,\n",
    "    {\n",
    "        True: \"judge\",  # If needs revision, go back to planner\n",
    "        False: \"user_review\"  # If plan is good, proceed to user review\n",
    "    }\n",
    ")\n",
    "\n",
    "workflow.add_conditional_edges(\n",
    "    \"user_review\",\n",
    "    is_user_review_OK,\n",
    "    {\n",
    "        False: \"planner\",  # If needs revision, go back to planner\n",
    "        True: \"code generator\",\n",
    "    }\n",
    ")\n"
   ]
  },
  {
   "cell_type": "code",
   "execution_count": 8,
   "metadata": {},
   "outputs": [
    {
     "data": {
      "image/png": "[encoded data removed]",
      "text/plain": [
       "<IPython.core.display.Image object>"
      ]
     },
     "metadata": {},
     "output_type": "display_data"
    }
   ],
   "source": [
    "app = workflow.compile()\n",
    "\n",
    "from IPython.display import Image, display\n",
    "\n",
    "#display(Image(app.get_graph(xray=True).draw_mermaid_png()))\n",
    "display(Image(app.get_graph().draw_mermaid_png()))"
   ]
  },
  {
   "cell_type": "code",
   "execution_count": null,
   "metadata": {},
   "outputs": [
    {
     "name": "stdout",
     "output_type": "stream",
     "text": [
      "\u001b[36m\u001b[1m\n",
      "Planner: suggested plan is:\u001b[0m\n",
      " I will generate a plan to accomplish the task: Process the provided PDF dataset to identify and extract only documents that don't contain inappropriate language. Remove the duplications.\n",
      "Here is the plan: \n",
      "{\"step_name\": \"Step #1 convert pdf to parquet\", \"tool_name\": \"Pdf2Parquet\", \"tool_input\": [{\"in_folder\": \"user_input\", \"out_folder\": \"user_input\", \"data_files_to_use\": \"['pdf']\"}], \"import\": \"from llm_utils.dpk.langchain_tools.tools.language.pdf2parquet import Pdf2parquetTransform\", \"step_ev\": \"#E1\"}\n",
      "{\"step_name\": \"Step #2 remove duplicates\", \"tool_name\": \"exact_dedup\", \"tool_input\": [{\"in_folder\": \"#E1\", \"out_folder\": \"#E1\"}], \"import\": \"from llm_utils.dpk.langchain_tools.tools.universal.ededup import EdedupTransform\", \"step_ev\": \"#E2\"}\n",
      "{\"step_name\": \"Step #3 calculate document quality\", \"tool_name\": \"doc_quality\", \"tool_input\": [{\"in_folder\": \"#E2\", \"out_folder\": \"#E2\", \"docq_bad_word_filepath\": \"user_input\"}], \"import\": \"from llm_utils.dpk.langchain_tools.tools.language.doc_quality import DocQualityTransform\", \"step_ev\": \"#E3\"}\n",
      "{\"step_name\": \"Step #4 filter documents with inappropriate language\", \"tool_name\": \"filter_transform\", \"tool_input\": [{\"in_folder\": \"#E3\", \"out_folder\": \"#E3\", \"filter_criteria_list\": \"['docq_bad_word_count==0']\"}], \"import\": \"from llm_utils.dpk.langchain_tools.tools.universal.filter import FilterTransform\", \"step_ev\": \"#E4\"}\n",
      "{\"step_name\": \"Step #5 tokenization\", \"tool_name\": \"tokenization\", \"tool_input\": [{\"in_folder\": \"#E4\", \"out_folder\": \"#E4\"}], \"import\": \"from llm_utils.dpk.langchain_tools.tools.universal.tokenization import TokenizationTransform\", \"step_ev\": \"#E5\"}\n"
     ]
    },
    {
     "data": {
      "text/markdown": [
       "```mermaid\n",
       "graph LR;\n",
       "    step0[\"Pdf2Parquet\"]\n",
       "    step0 --> step1\n",
       "    step1[\"exact_dedup\"]\n",
       "    step1 --> step2\n",
       "    step2[\"doc_quality\"]\n",
       "    step2 --> step3\n",
       "    step3[\"filter_transform\"]\n",
       "    step3 --> step4\n",
       "    step4[\"tokenization\"]\n",
       "```"
      ],
      "text/plain": [
       "<IPython.core.display.Markdown object>"
      ]
     },
     "metadata": {},
     "output_type": "display_data"
    },
    {
     "name": "stdout",
     "output_type": "stream",
     "text": [
      "\u001b[36m\u001b[1m\n",
      "Judge: review:\u001b[0m\n",
      "1. The plan is valid and properly addresses the task requirements according to the given tools.\n",
      "2. The plan satisfies all constraints. \n",
      "3. No unnecessary transforms are found.\n",
      "\n",
      "NEEDS_REVISION: No\n"
     ]
    },
    {
     "name": "stdin",
     "output_type": "stream",
     "text": [
      "\n",
      "Please review the plan and provide feedback (or print 'okay', 'OK' or just Enter to continue):  please remove the tpkenization step\n"
     ]
    },
    {
     "name": "stdout",
     "output_type": "stream",
     "text": [
      "\u001b[36m\u001b[1m\n",
      "Planner: suggested plan is:\u001b[0m\n",
      " I will generate a plan to accomplish the task: Process the provided PDF dataset to identify and extract only documents that don't contain inappropriate language. Remove the duplications.\n",
      "Here is the plan: \n",
      "{\"step_name\": \"Step #1 convert pdf to parquet\", \"tool_name\": \"Pdf2Parquet\", \"tool_input\": [{\"in_folder\": \"user_input\", \"out_folder\": \"user_input\", \"data_files_to_use\": \"['pdf']\"}], \"import\": \"from llm_utils.dpk.langchain_tools.tools.language.pdf2parquet import Pdf2parquetTransform\", \"step_ev\": \"#E1\"}\n",
      "{\"step_name\": \"Step #2 remove duplicates\", \"tool_name\": \"exact_dedup\", \"tool_input\": [{\"in_folder\": \"#E1\", \"out_folder\": \"#E1\"}], \"import\": \"from llm_utils.dpk.langchain_tools.tools.universal.ededup import EdedupTransform\", \"step_ev\": \"#E2\"}\n",
      "{\"step_name\": \"Step #3 calculate document quality\", \"tool_name\": \"doc_quality\", \"tool_input\": [{\"in_folder\": \"#E2\", \"out_folder\": \"#E2\", \"docq_bad_word_filepath\": \"user_input\"}], \"import\": \"from llm_utils.dpk.langchain_tools.tools.language.doc_quality import DocQualityTransform\", \"step_ev\": \"#E3\"}\n",
      "{\"step_name\": \"Step #4 filter documents with inappropriate language\", \"tool_name\": \"filter_transform\", \"tool_input\": [{\"in_folder\": \"#E3\", \"out_folder\": \"#E3\", \"filter_criteria_list\": \"['docq_bad_word_count==0']\"}], \"import\": \"from llm_utils.dpk.langchain_tools.tools.universal.filter import FilterTransform\", \"step_ev\": \"#E4\"}\n"
     ]
    },
    {
     "data": {
      "text/markdown": [
       "```mermaid\n",
       "graph LR;\n",
       "    step0[\"Pdf2Parquet\"]\n",
       "    step0 --> step1\n",
       "    step1[\"exact_dedup\"]\n",
       "    step1 --> step2\n",
       "    step2[\"doc_quality\"]\n",
       "    step2 --> step3\n",
       "    step3[\"filter_transform\"]\n",
       "```"
      ],
      "text/plain": [
       "<IPython.core.display.Markdown object>"
      ]
     },
     "metadata": {},
     "output_type": "display_data"
    }
   ],
   "source": [
    "# Run the graph\n",
    "initial_state = {\n",
    "    \"task\": task,\n",
    "    \"context\": \"\",\n",
    "    \"plan\": [\"still no plan\"],\n",
    "    \"planning_attempts\": 0,\n",
    "    \"feedback\": \"Still no review\",\n",
    "    \"needs_revision\": \"\",\n",
    "    \"need_judge\": True,\n",
    "}\n",
    "\n",
    "state = initial_state\n",
    "\n",
    "for output in app.stream(state):\n",
    "    pass"
   ]
  },
  {
   "cell_type": "code",
   "execution_count": null,
   "metadata": {},
   "outputs": [],
   "source": []
  }
 ],
 "metadata": {
  "kernelspec": {
   "display_name": "Python 3 (ipykernel)",
   "language": "python",
   "name": "python3"
  },
  "language_info": {
   "codemirror_mode": {
    "name": "ipython",
    "version": 3
   },
   "file_extension": ".py",
   "mimetype": "text/x-python",
   "name": "python",
   "nbconvert_exporter": "python",
   "pygments_lexer": "ipython3",
   "version": "3.12.8"
  }
 },
 "nbformat": 4,
 "nbformat_minor": 4
}
