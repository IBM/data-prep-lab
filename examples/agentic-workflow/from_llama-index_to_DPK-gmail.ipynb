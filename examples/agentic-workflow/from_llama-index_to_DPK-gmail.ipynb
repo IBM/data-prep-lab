{
 "cells": [
  {
   "cell_type": "markdown",
   "id": "de9d6bc5-21bb-4826-82f2-5512892989ef",
   "metadata": {},
   "source": [
    "# From llama-index to DPK - Importing Gmails emails example"
   ]
  },
  {
   "cell_type": "markdown",
   "id": "8c9cc862-6d41-4f73-9c82-639b14442001",
   "metadata": {},
   "source": [
    "### This notebook shows how llama-index documents can be processed by DPK.\n",
    "\n",
    "To execute this notebook, ensure the credentials.json file is located in the notebook directory. \n",
    "For instructions on creating this file, please visit: LlamaHub Google Reader Guide (https://llamahub.ai/l/readers/llama-index-readers-google?from=)"
   ]
  },
  {
   "cell_type": "code",
   "execution_count": null,
   "id": "9947ecb3-a810-4129-acc5-f38894411639",
   "metadata": {},
   "outputs": [],
   "source": [
    "%pip install -qq -r requirements.txt"
   ]
  },
  {
   "cell_type": "code",
   "execution_count": null,
   "id": "cd34a19a-202c-4b67-9725-e16a4c3efd07",
   "metadata": {},
   "outputs": [],
   "source": [
    "%pip install -qq -r dpk-requirements.txt"
   ]
  },
  {
   "cell_type": "code",
   "execution_count": null,
   "id": "f96b1e0d-72c2-4c2b-829e-b50764e2e4ad",
   "metadata": {},
   "outputs": [],
   "source": [
    "%pip install -qq llama-index"
   ]
  },
  {
   "cell_type": "code",
   "execution_count": null,
   "id": "edb9b4f8-360a-4124-a9ca-8f3f8296b6d1",
   "metadata": {},
   "outputs": [],
   "source": [
    "%pip install -qq llama-index-readers-google\n",
    "%pip install -qq llama-index google-auth google-auth-oauthlib google-auth-httplib2"
   ]
  },
  {
   "cell_type": "code",
   "execution_count": null,
   "id": "363c6f69-62be-4a26-a058-5e3bb633aa75",
   "metadata": {},
   "outputs": [],
   "source": [
    "import shutil\n",
    "import os\n",
    "cwd = os.getcwd()\n",
    "\n",
    "output_base_path = f\"{cwd}/output\"\n",
    "\n",
    "output_folder =  f\"{output_base_path}/llama_index/\"\n",
    "\n",
    "shutil.rmtree(output_base_path, ignore_errors=True)\n",
    "print (f\"✅ Cleared {output_folder} directory\")\n",
    "os.mkdir(output_base_path)\n",
    "os.mkdir(output_folder)"
   ]
  },
  {
   "cell_type": "markdown",
   "id": "86d89a19-6b9e-45bd-a681-2d962564920d",
   "metadata": {},
   "source": [
    "## Ingest emails from Gmail"
   ]
  },
  {
   "cell_type": "code",
   "execution_count": null,
   "id": "8559d656-358c-4164-9924-a1df74ce3321",
   "metadata": {},
   "outputs": [],
   "source": [
    "from llama_index.readers.google import GmailReader\n",
    "\n",
    "reader = GmailReader(query=\"\", results_per_page=1000, service=None)\n"
   ]
  },
  {
   "cell_type": "code",
   "execution_count": null,
   "id": "a47154d3-aeb4-4f10-bc31-286a724e47c4",
   "metadata": {},
   "outputs": [],
   "source": [
    "# Load data\n",
    "documents = reader.load_data()"
   ]
  },
  {
   "cell_type": "markdown",
   "id": "375edc2c-8537-4cc1-af5e-2c3d32b2b79e",
   "metadata": {},
   "source": [
    "## Convert llama index documents to parquet file"
   ]
  },
  {
   "cell_type": "code",
   "execution_count": null,
   "id": "2743b24e-389a-49e1-bdbc-d96f2c7316b9",
   "metadata": {},
   "outputs": [],
   "source": [
    "# convert llama-index documents to parquet files\n",
    "import pandas as pd\n",
    "idx=0\n",
    "data={}\n",
    "data[\"contents\"]=[]\n",
    "data[\"llama_index_metadata\"]=[]\n",
    "data[\"llama_index_doc_id\"]=[]\n",
    "data[\"snippet\"]=[]\n",
    "idx=0\n",
    "for document in documents:\n",
    "    data[\"llama_index_metadata\"].append(document.metadata)\n",
    "    data[\"llama_index_doc_id\"].append(document.doc_id)\n",
    "    data[\"contents\"].append(document.text)\n",
    "    data[\"snippet\"].append(document.metadata[\"snippet\"])\n",
    "    idx=idx+1\n",
    "df = pd.DataFrame.from_dict(data)"
   ]
  },
  {
   "cell_type": "markdown",
   "id": "5dfc91e7-5044-425a-8f3b-a8ef834a4910",
   "metadata": {},
   "source": [
    "## Save the parquet file"
   ]
  },
  {
   "cell_type": "code",
   "execution_count": null,
   "id": "0cfd4efa-bce6-4280-a92d-f24788ea1615",
   "metadata": {},
   "outputs": [],
   "source": [
    "df.to_parquet(output_folder+'out.parquet')"
   ]
  },
  {
   "cell_type": "markdown",
   "id": "c46fba98-b2aa-459f-8945-cdd1dcc6a78b",
   "metadata": {},
   "source": [
    "## Print the output"
   ]
  },
  {
   "cell_type": "code",
   "execution_count": null,
   "id": "344ebfa8-31b3-4fcb-b8a5-1c07dc679b99",
   "metadata": {},
   "outputs": [],
   "source": [
    "df"
   ]
  },
  {
   "cell_type": "markdown",
   "id": "098d2984-98eb-420f-95f2-7691c7643f2e",
   "metadata": {},
   "source": [
    "## Run DPK Doc ID"
   ]
  },
  {
   "cell_type": "code",
   "execution_count": null,
   "id": "543c53ce-75b5-4cc6-9da4-935006c5628f",
   "metadata": {},
   "outputs": [],
   "source": [
    "from dpk_doc_id.transform_python import DocID\n",
    "DocID(input_folder= output_folder,\n",
    "        output_folder= output_folder+\"docid\",\n",
    "        doc_id_doc_column= \"contents\",\n",
    "        doc_id_hash_column= \"document_id\",\n",
    "        doc_id_int_column= \"int_id_column\",\n",
    "        doc_id_start_id= 5).transform()\n"
   ]
  },
  {
   "cell_type": "markdown",
   "id": "56f49f7d-f931-4b4c-86b3-bac760594268",
   "metadata": {},
   "source": [
    "## Run DPK fdedup"
   ]
  },
  {
   "cell_type": "code",
   "execution_count": null,
   "id": "1f52d3ee-921c-411b-b1db-7c3f8dbb2539",
   "metadata": {},
   "outputs": [],
   "source": [
    "from dpk_fdedup.transform_python import Fdedup\n",
    "Fdedup(input_folder=output_folder+\"docid\",\n",
    "    output_folder=output_folder+\"fdedup\",\n",
    "    contents_column= \"contents\",\n",
    "    document_id_column= \"int_id_column\",\n",
    "    num_permutations= 112,\n",
    "    num_bands= 14,\n",
    "    num_minhashes_per_band= 8,\n",
    "    operation_mode=\"filter_duplicates\").transform()"
   ]
  },
  {
   "cell_type": "code",
   "execution_count": null,
   "id": "7c06fa17-02a2-4248-ba58-d094196037e6",
   "metadata": {},
   "outputs": [],
   "source": [
    "os.environ[\"TOKENIZERS_PARALLELISM\"] = \"false\"\n",
    "!wget -O 'my_utils.py'  'https://raw.githubusercontent.com/IBM/data-prep-kit/dev/examples/notebooks/intro/my_utils.py'"
   ]
  },
  {
   "cell_type": "code",
   "execution_count": null,
   "id": "e2c58d35-2e64-4b8f-8cc8-4516e1e30739",
   "metadata": {},
   "outputs": [],
   "source": [
    "from my_utils import read_parquet_files_as_df\n",
    "\n",
    "output_df = read_parquet_files_as_df(output_folder+'fdedup/cleaned')\n",
    "\n",
    "output_df"
   ]
  },
  {
   "cell_type": "markdown",
   "id": "ba5d3953-a17e-4a03-af7d-fbed3c3cced2",
   "metadata": {},
   "source": [
    "## Apply DPK Doc quality"
   ]
  },
  {
   "cell_type": "code",
   "execution_count": null,
   "id": "4c332af8-a346-42c7-a50b-97c77388889d",
   "metadata": {},
   "outputs": [],
   "source": [
    "from dpk_doc_quality.transform_python import DocQuality\n",
    "DocQuality(input_folder=output_folder+\"fdedup/cleaned\",\n",
    "            output_folder= output_folder+'docq',\n",
    "            docq_text_lang = \"en\",\n",
    "            docq_doc_content_column =\"contents\").transform()\n"
   ]
  },
  {
   "cell_type": "markdown",
   "id": "293c8a6a-4b95-436a-a259-d225513554fb",
   "metadata": {},
   "source": [
    "## Print the output"
   ]
  },
  {
   "cell_type": "code",
   "execution_count": null,
   "id": "b44cfd6b-4561-42d6-835e-4daedd443acb",
   "metadata": {},
   "outputs": [],
   "source": [
    "from my_utils import read_parquet_files_as_df\n",
    "\n",
    "pd.set_option('display.max_columns', None)\n",
    "pd.set_option('display.max_rows', None)\n",
    "\n",
    "output_df = read_parquet_files_as_df(output_folder+'docq')\n",
    "\n",
    "output_df[['contents','docq_contain_bad_word']]\n",
    "\n",
    "output_df"
   ]
  },
  {
   "cell_type": "markdown",
   "id": "9e102be6-6905-414f-98d6-174237c31cc0",
   "metadata": {},
   "source": [
    "## Apply DPK Filtering¶"
   ]
  },
  {
   "cell_type": "code",
   "execution_count": null,
   "id": "76e764f1-e6b1-4487-8a5a-e001ebc17f61",
   "metadata": {},
   "outputs": [],
   "source": [
    "# remove rows with bad words\n",
    "from dpk_filter.transform_python import Filter\n",
    "Filter(input_folder= output_folder+'docq',\n",
    "        output_folder= output_folder+'filter',\n",
    "        filter_criteria_list= [\n",
    "            \"NOT docq_contain_bad_word\",\n",
    "        ],\n",
    "       ).transform()"
   ]
  },
  {
   "cell_type": "markdown",
   "id": "f2380059-7b6d-4e58-9acc-54aebab09cbc",
   "metadata": {},
   "source": [
    "## Print the output"
   ]
  },
  {
   "cell_type": "code",
   "execution_count": null,
   "id": "aafec980-e64f-4a77-9e19-55132729edb7",
   "metadata": {},
   "outputs": [],
   "source": [
    "from my_utils import read_parquet_files_as_df\n",
    "\n",
    "pd.set_option('display.max_columns', None)\n",
    "pd.set_option('display.max_rows', None)\n",
    "\n",
    "output_df = read_parquet_files_as_df(output_folder+'filter')\n",
    "\n",
    "output_df[['contents','docq_contain_bad_word']]\n",
    "\n",
    "output_df"
   ]
  },
  {
   "cell_type": "markdown",
   "id": "b17c3557-0a61-4e1a-b90d-446e20f57d96",
   "metadata": {},
   "source": [
    "## Convert parquet rows back to llama-index Documents"
   ]
  },
  {
   "cell_type": "code",
   "execution_count": null,
   "id": "8367cfb4-b2b1-487b-9fa1-ca1771ae953e",
   "metadata": {},
   "outputs": [],
   "source": [
    "from llama_index.core import Document as LIDocument\n",
    "from llama_index.core import Document, SummaryIndex\n",
    "from llama_index.core.node_parser import SimpleNodeParser\n",
    "\n",
    "output_df = read_parquet_files_as_df(output_folder+'filter')\n",
    "\n",
    "docs = []\n",
    "rows = output_df.to_records()\n",
    "for row in rows:\n",
    "    docs.append(LIDocument(doc_id=row[\"llama_index_doc_id\"], text=row[\"contents\"], metadata=row[\"llama_index_metadata\"]))    "
   ]
  },
  {
   "cell_type": "markdown",
   "id": "94ed1f5e-d309-49a3-a295-4f05dcb836c9",
   "metadata": {},
   "source": [
    "## Create the llama-index nodes"
   ]
  },
  {
   "cell_type": "code",
   "execution_count": null,
   "id": "d973fca3-1f9b-4e64-8f32-da64d74303c7",
   "metadata": {},
   "outputs": [],
   "source": [
    "parser = SimpleNodeParser.from_defaults()\n",
    "nodes = parser.get_nodes_from_documents(docs)\n",
    "num=len(nodes)\n",
    "print(f\"number of nodes: {num}\")"
   ]
  },
  {
   "cell_type": "markdown",
   "id": "bf8e829e-b51b-4610-8d4c-7cc537672320",
   "metadata": {},
   "source": [
    "## Convert llama-index nodes to rows in parquet table"
   ]
  },
  {
   "cell_type": "code",
   "execution_count": null,
   "id": "52d15192-8aed-483a-8b07-a8d5f278a739",
   "metadata": {},
   "outputs": [],
   "source": [
    "# convert llama-index documents to parquet files\n",
    "import pandas as pd\n",
    "\n",
    "# convert llama-index node metedata keys to table columns\n",
    "idx=0\n",
    "data={}\n",
    "data[\"contents\"]=[]\n",
    "data[\"llama_index_metadata\"]=[]\n",
    "idx=0\n",
    "for node in nodes:\n",
    "    # convert node metadata keys to columns\n",
    "    data[\"llama_index_metadata\"].append(document.metadata)\n",
    "    data[\"contents\"].append(node.text)\n",
    "    idx=idx+1\n",
    "df = pd.DataFrame.from_dict(data)"
   ]
  },
  {
   "cell_type": "markdown",
   "id": "da4b1bf0-32db-4026-959b-e0bc4e90bb4a",
   "metadata": {},
   "source": [
    "## Print the output"
   ]
  },
  {
   "cell_type": "code",
   "execution_count": null,
   "id": "df31cfc9-a7bf-4e42-9262-7713d0b51713",
   "metadata": {},
   "outputs": [],
   "source": [
    "df"
   ]
  },
  {
   "cell_type": "markdown",
   "id": "2219a1b0-5215-48a7-8502-31faa996d7cc",
   "metadata": {},
   "source": [
    "## Save the output to parquet file"
   ]
  },
  {
   "cell_type": "code",
   "execution_count": null,
   "id": "b841937d-04f6-475c-bc48-ae531d9982b4",
   "metadata": {},
   "outputs": [],
   "source": [
    "shutil.rmtree(output_folder+'nodes/', ignore_errors=True)\n",
    "print (f\"✅ Cleared {output_folder}/nodes/ directory\")\n",
    "os.mkdir(output_folder+'nodes/')\n",
    "df.to_parquet(output_folder+'nodes/out.parquet')"
   ]
  },
  {
   "cell_type": "markdown",
   "id": "8f22ddb1-7bd8-4372-951b-8a7d4f885ec1",
   "metadata": {},
   "source": [
    "### Apply DPK text encoding"
   ]
  },
  {
   "cell_type": "code",
   "execution_count": null,
   "id": "3669610d-a11c-4086-ba78-622c8fc43b03",
   "metadata": {},
   "outputs": [],
   "source": [
    "%pip install -qq -U ipywidgets"
   ]
  },
  {
   "cell_type": "code",
   "execution_count": null,
   "id": "548ce6b0-1447-4129-8ee2-8e6179976051",
   "metadata": {},
   "outputs": [],
   "source": [
    "from dpk_text_encoder.transform_python import TextEncoder\n",
    "from data_processing.utils import GB\n",
    "\n",
    "EMBEDDING_MODEL = 'sentence-transformers/all-MiniLM-L6-v2'\n",
    "\n",
    "x=TextEncoder(input_folder= output_folder+'nodes', \n",
    "               output_folder= output_folder+'encoding', \n",
    "               text_encoder_model_name = EMBEDDING_MODEL).transform()"
   ]
  },
  {
   "cell_type": "code",
   "execution_count": null,
   "id": "1506fa74-3a40-41cc-bf00-17899b18afcf",
   "metadata": {},
   "outputs": [],
   "source": [
    "from my_utils import read_parquet_files_as_df\n",
    "\n",
    "output_df = read_parquet_files_as_df(output_folder+'encoding')\n",
    "\n",
    "print (\"Output data dimensions (rows x columns)= \", output_df.shape)\n",
    "\n",
    "output_df"
   ]
  },
  {
   "cell_type": "markdown",
   "id": "33cb2b23-0b63-4779-a43e-5cee14116d94",
   "metadata": {},
   "source": [
    "## Load Processed Data into Vector Database\n",
    "### ref: https://github.com/IBM/data-prep-kit/blob/dev/examples/notebooks/rag/rag_1B_load_data_into_milvus.ipynb"
   ]
  },
  {
   "cell_type": "markdown",
   "id": "7d25b2d8-9415-4ccd-8a38-1a5c0a57f2e5",
   "metadata": {},
   "source": [
    "### Load Parquet Data"
   ]
  },
  {
   "cell_type": "code",
   "execution_count": null,
   "id": "faf9b156-7ccf-48d5-9a68-a2461573dd12",
   "metadata": {},
   "outputs": [],
   "source": [
    "import pandas as pd\n",
    "import glob\n",
    "\n",
    "print ('Loading data from : ', output_folder+'encoding')\n",
    "\n",
    "data_df = read_parquet_files_as_df(output_folder+'encoding')\n",
    "\n",
    "print (f\"\\nTotal number of rows = {data_df.shape[0]}\")"
   ]
  },
  {
   "cell_type": "code",
   "execution_count": null,
   "id": "c5a6d06a-41b2-450d-b46d-90cd2510383f",
   "metadata": {},
   "outputs": [],
   "source": [
    "## Shape the data\n",
    "\n",
    "EMBEDDING_LENGTH =  len(data_df.iloc[0]['embeddings'])\n",
    "print ('embedding length: ', EMBEDDING_LENGTH)\n",
    "\n",
    "data={}\n",
    "data[\"embeddings\"]=data_df['embeddings'].tolist()\n",
    "data[\"text\"]=data_df[\"contents\"].tolist()\n",
    "data[\"metadata\"]=data_df[\"llama_index_metadata\"].tolist()\n",
    "data\n",
    "df_new = pd.DataFrame(data)"
   ]
  },
  {
   "cell_type": "code",
   "execution_count": null,
   "id": "5a229330-0757-4b06-b427-499722d8fb9a",
   "metadata": {},
   "outputs": [],
   "source": [
    "data_list=[]\n",
    "# rename 'embeddings' columns as 'vector' to match default schema\n",
    "for index, row in df_new.iterrows():\n",
    "    data_list.append({\n",
    "        \"vector\": row['embeddings'],\n",
    "        \"text\": row['text'],\n",
    "        \"metadata\": row[\"metadata\"]\n",
    "    })\n",
    "data_list"
   ]
  },
  {
   "cell_type": "markdown",
   "id": "6ab59090-b8c5-49f3-9657-15b7c69c072d",
   "metadata": {},
   "source": [
    "### Connect to Vector Database"
   ]
  },
  {
   "cell_type": "code",
   "execution_count": null,
   "id": "c87bd5e1-f96a-41cd-995a-6a8731275889",
   "metadata": {},
   "outputs": [],
   "source": [
    "%pip install -qq -U pymilvus\n",
    "%pip install -qq pymilvus[model]"
   ]
  },
  {
   "cell_type": "code",
   "execution_count": null,
   "id": "f6763618-c96a-4e33-b262-73405d6d7ad0",
   "metadata": {},
   "outputs": [],
   "source": [
    "DB_URI = './rag_1_dpk.db'  # For embedded instance\n",
    "#MY_CONFIG.DB_URI = 'http://localhost:19530'  # For Docker instance\n",
    "COLLECTION_NAME = 'test'"
   ]
  },
  {
   "cell_type": "code",
   "execution_count": null,
   "id": "41731402-12d2-4242-aab5-757b93693e88",
   "metadata": {},
   "outputs": [],
   "source": [
    "from pymilvus import MilvusClient\n",
    "\n",
    "milvus_client = MilvusClient(DB_URI)\n",
    "\n",
    "print (\"✅ Connected to Milvus instance:\", DB_URI)"
   ]
  },
  {
   "cell_type": "markdown",
   "id": "a8704d95-ffb6-45de-9f51-f4202faae8c6",
   "metadata": {},
   "source": [
    "### Create A Collection"
   ]
  },
  {
   "cell_type": "code",
   "execution_count": null,
   "id": "e4cb2d19-fa72-4ab9-b83f-e45672714e86",
   "metadata": {},
   "outputs": [],
   "source": [
    "if milvus_client.has_collection(collection_name=COLLECTION_NAME):\n",
    "    milvus_client.drop_collection(collection_name=COLLECTION_NAME)\n",
    "    print ('✅ Cleared collection :', COLLECTION_NAME)\n",
    "\n",
    "\n",
    "milvus_client.create_collection(\n",
    "    collection_name=COLLECTION_NAME,\n",
    "    dimension=EMBEDDING_LENGTH,\n",
    "    metric_type=\"IP\",  # Inner product distance\n",
    "    consistency_level=\"Strong\",  # Strong consistency level\n",
    "    auto_id=True\n",
    ")\n",
    "print (\"✅ Created collection :\", COLLECTION_NAME)"
   ]
  },
  {
   "cell_type": "code",
   "execution_count": null,
   "id": "a577f90d-1295-4e21-8aaa-eecdc996013d",
   "metadata": {},
   "outputs": [],
   "source": [
    "res = milvus_client.insert(collection_name=COLLECTION_NAME, data=data_list)\n",
    "\n",
    "print('inserted # rows', res['insert_count'])\n",
    "\n",
    "milvus_client.get_collection_stats(COLLECTION_NAME)"
   ]
  },
  {
   "cell_type": "markdown",
   "id": "d38da9b0-9408-43cb-a4b6-4793f929b5a5",
   "metadata": {},
   "source": [
    "## Do vector_search.\n",
    "### ref: https://github.com/IBM/data-prep-kit/blob/765d7afdb39a7c44987453b6c80b9888f3ac0574/examples/notebooks/rag/rag_1C_vector_search.ipynb"
   ]
  },
  {
   "cell_type": "markdown",
   "id": "63fe1213-c156-4731-bdaa-ad015c1dcd71",
   "metadata": {},
   "source": [
    "## Setup Embeddings"
   ]
  },
  {
   "cell_type": "code",
   "execution_count": null,
   "id": "b6dbfe83-eeb9-4915-9c5c-c8f783f09e06",
   "metadata": {},
   "outputs": [],
   "source": [
    "## Option 1 - use sentence transformers directly\n",
    "\n",
    "# If connection to https://huggingface.co/ failed, uncomment the following path\n",
    "import os\n",
    "os.environ['HF_ENDPOINT'] = 'https://hf-mirror.com'\n",
    "\n",
    "from sentence_transformers import SentenceTransformer\n",
    "\n",
    "embedding_model = SentenceTransformer(EMBEDDING_MODEL)\n",
    "\n",
    "def get_embeddings (str):\n",
    "    embeddings = embedding_model.encode(str, normalize_embeddings=True)\n",
    "    return embeddings"
   ]
  },
  {
   "cell_type": "code",
   "execution_count": null,
   "id": "663bb4b6-8477-4639-955e-a9d25d24e98e",
   "metadata": {},
   "outputs": [],
   "source": [
    "## Option 2 - Milvus model\n",
    "from pymilvus import model\n",
    "\n",
    "# embedding_fn = model.DefaultEmbeddingFunction()\n",
    "\n",
    "## initialize the SentenceTransformerEmbeddingFunction\n",
    "embedding_fn = model.dense.SentenceTransformerEmbeddingFunction(\n",
    "    model_name = EMBEDDING_MODEL,\n",
    "    device='cpu' # this will work on all devices (KIS)\n",
    ")"
   ]
  },
  {
   "cell_type": "code",
   "execution_count": null,
   "id": "6e24a59b-ab0c-4b33-9488-4f7d144ab1d0",
   "metadata": {},
   "outputs": [],
   "source": [
    "# Test Embeddings\n",
    "text = 'Paris 2024 Olympics'\n",
    "embeddings = get_embeddings(text)\n",
    "print ('sentence transformer : embeddings len =', len(embeddings))\n",
    "print ('sentence transformer : embeddings[:5] = ', embeddings[:5])\n",
    "\n",
    "embeddings = embedding_fn([text])\n",
    "print ('milvus model wrapper : embeddings len =', len(embeddings[0]))\n",
    "print ('milvus model wrapper  : embeddings[:5] = ', embeddings[0][:5])"
   ]
  },
  {
   "cell_type": "markdown",
   "id": "76ca97de-c952-4ae6-8686-acc3ffb590f3",
   "metadata": {},
   "source": [
    "## Do A Vector Search"
   ]
  },
  {
   "cell_type": "code",
   "execution_count": null,
   "id": "0dce69d1-9daf-413a-82fa-df10abe81281",
   "metadata": {},
   "outputs": [],
   "source": [
    "import random\n",
    "\n",
    "\n",
    "## helper function to perform vector search\n",
    "def  do_vector_search (query):\n",
    "    query_vectors = [get_embeddings(query)]  # Option 1 - using sentence transformers\n",
    "    # query_vectors = embedding_fn([query])  # using Milvus model \n",
    "\n",
    "    results = milvus_client.search(\n",
    "        collection_name=COLLECTION_NAME,  # target collection\n",
    "        data=query_vectors,  # query vectors\n",
    "        limit=5,  # number of returned entities\n",
    "        output_fields=[\"text\"],  # specifies fields to be returned\n",
    "    )\n",
    "    return results\n",
    "## ----\n",
    "\n",
    "def  print_search_results (results):\n",
    "    # pprint (results)\n",
    "    print ('num results : ', len(results[0]))\n",
    "\n",
    "    for i, r in enumerate (results[0]):\n",
    "        #pprint(r, indent=4)\n",
    "        print (f'------ result {i+1} --------')\n",
    "        print(r)\n",
    "        print()"
   ]
  },
  {
   "cell_type": "code",
   "execution_count": null,
   "id": "8c39b7ae-88d3-486e-b972-f33a6e484abe",
   "metadata": {},
   "outputs": [],
   "source": [
    "query = \"Security alert\"\n",
    "\n",
    "results = do_vector_search (query)\n",
    "print_search_results(results)"
   ]
  }
 ],
 "metadata": {
  "kernelspec": {
   "display_name": "venv-save13",
   "language": "python",
   "name": "venv-save13"
  },
  "language_info": {
   "codemirror_mode": {
    "name": "ipython",
    "version": 3
   },
   "file_extension": ".py",
   "mimetype": "text/x-python",
   "name": "python",
   "nbconvert_exporter": "python",
   "pygments_lexer": "ipython3",
   "version": "3.11.9"
  }
 },
 "nbformat": 4,
 "nbformat_minor": 5
}
