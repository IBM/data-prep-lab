{
 "cells": [
  {
   "cell_type": "markdown",
   "id": "4d8e3c83-2995-4e5e-a113-88d14d559044",
   "metadata": {},
   "source": [
    "# From llama-index to DPK"
   ]
  },
  {
   "cell_type": "markdown",
   "id": "4e8ed6e5-f516-4956-be51-267b03ca0a9e",
   "metadata": {},
   "source": [
    "### This notebook shows how llama-index nodes can be converted to parquet file and then processed by DPK."
   ]
  },
  {
   "cell_type": "code",
   "execution_count": null,
   "id": "9947ecb3-a810-4129-acc5-f38894411639",
   "metadata": {},
   "outputs": [],
   "source": [
    "%pip install -qq -r requirements.txt"
   ]
  },
  {
   "cell_type": "code",
   "execution_count": null,
   "id": "cd34a19a-202c-4b67-9725-e16a4c3efd07",
   "metadata": {},
   "outputs": [],
   "source": [
    "%pip install -qq -r dpk-requirements.txt"
   ]
  },
  {
   "cell_type": "code",
   "execution_count": null,
   "id": "f96b1e0d-72c2-4c2b-829e-b50764e2e4ad",
   "metadata": {},
   "outputs": [],
   "source": [
    "%pip install -qq llama-index%pip install -qq llama-index-readers-wikipedia%pip install -qq wikipedia"
   ]
  },
  {
   "cell_type": "code",
   "execution_count": 1,
   "id": "34b76236-ad1e-4404-ad7e-d550e895974b",
   "metadata": {},
   "outputs": [
    {
     "name": "stdout",
     "output_type": "stream",
     "text": [
      "✅ Cleared /Users/alexey/goWork/src/github.com/data-preprocessing/data-prep-lab/examples/agentic-workflow/output/llama_index/ directory\n"
     ]
    }
   ],
   "source": [
    "import shutil\n",
    "import os\n",
    "cwd = os.getcwd()\n",
    "\n",
    "output_base_path = f\"{cwd}/output\"\n",
    "\n",
    "output_folder =  f\"{output_base_path}/llama_index/\"\n",
    "\n",
    "shutil.rmtree(output_base_path, ignore_errors=True)\n",
    "print (f\"✅ Cleared {output_folder} directory\")\n",
    "os.mkdir(output_base_path)\n",
    "os.mkdir(output_folder)"
   ]
  },
  {
   "cell_type": "markdown",
   "id": "b8c2f89f-d3d7-4d2e-8995-a47b5da5abc1",
   "metadata": {},
   "source": [
    "## Ingest Wikipedia page"
   ]
  },
  {
   "cell_type": "code",
   "execution_count": 2,
   "id": "b125fb56-bdd6-4835-a7f1-668f6b16a4ae",
   "metadata": {},
   "outputs": [],
   "source": [
    "from llama_index.core import Document, SummaryIndex\n",
    "from llama_index.readers.wikipedia import WikipediaReader\n",
    "from llama_index.core.node_parser import SimpleNodeParser\n",
    "from pathlib import Path\n",
    "import pandas as pd\n",
    "\n",
    "loader = WikipediaReader()\n",
    "documents = loader.load_data(pages=[\"swear words\"])\n",
    "parser = SimpleNodeParser.from_defaults()\n",
    "nodes = parser.get_nodes_from_documents(documents)\n",
    "\n",
    "#for node in nodes:\n",
    "#    print(node.text)\n",
    "#    print(\"+++\")\n"
   ]
  },
  {
   "cell_type": "markdown",
   "id": "bf8e829e-b51b-4610-8d4c-7cc537672320",
   "metadata": {},
   "source": [
    "## Convert llama-index nodes to rows in parquet table"
   ]
  },
  {
   "cell_type": "code",
   "execution_count": 3,
   "id": "52d15192-8aed-483a-8b07-a8d5f278a739",
   "metadata": {},
   "outputs": [],
   "source": [
    "# convert llama-index node metedata keys to table columns\n",
    "idx=0\n",
    "data={}\n",
    "data[\"contents\"]=[]\n",
    "idx=0\n",
    "for node in nodes:\n",
    "    # convert node metadata keys to columns\n",
    "    for k, v in node.metadata.items():\n",
    "        if idx==0:\n",
    "            data[k]=[v]\n",
    "        else:\n",
    "            data[k].append(v)\n",
    "    data[\"contents\"].append(node.text)\n",
    "    idx=idx+1\n",
    "df = pd.DataFrame.from_dict(data)"
   ]
  },
  {
   "cell_type": "markdown",
   "id": "dbadbc21-5f2f-43e3-bf4f-032c06f13ffd",
   "metadata": {},
   "source": [
    "## Save the parquet file"
   ]
  },
  {
   "cell_type": "code",
   "execution_count": 4,
   "id": "a7b5fa30-8479-47fb-82cb-fb1261cc303d",
   "metadata": {},
   "outputs": [],
   "source": [
    "df.to_parquet(output_folder+'out.parquet')"
   ]
  },
  {
   "cell_type": "markdown",
   "id": "ae2b518a-0147-4ea1-a320-7860bf38e10e",
   "metadata": {},
   "source": [
    "## Run DPK transforms to remove chuncks with bad words."
   ]
  },
  {
   "cell_type": "markdown",
   "id": "b27bd7ad-894e-456c-907a-0a1171c6d708",
   "metadata": {},
   "source": [
    "### Apply DPK Doc quality"
   ]
  },
  {
   "cell_type": "code",
   "execution_count": 5,
   "id": "f9859f05-f2de-4924-a43d-daba376dd93f",
   "metadata": {},
   "outputs": [
    {
     "name": "stderr",
     "output_type": "stream",
     "text": [
      "13:28:37 INFO - doc_quality parameters are : {'text_lang': 'en', 'doc_content_column': 'contents', 'bad_word_filepath': '/Users/alexey/goWork/src/github.com/data-preprocessing/data-prep-lab/examples/agentic-workflow/venv/lib/python3.12/site-packages/dpk_doc_quality/ldnoobw/en', 's3_cred': None, 'docq_data_factory': <data_processing.data_access.data_access_factory.DataAccessFactory object at 0x16aa861b0>}\n",
      "13:28:37 INFO - data factory docq_ is using local configuration without input/output path\n",
      "13:28:37 INFO - data factory docq_ max_files -1, n_sample -1\n",
      "13:28:37 INFO - data factory docq_ Not using data sets, checkpointing False, max files -1, random samples -1, files to use ['.parquet'], files to checkpoint ['.parquet']\n",
      "13:28:37 INFO - pipeline id pipeline_id\n",
      "13:28:37 INFO - code location None\n",
      "13:28:37 INFO - data factory data_ is using local data access: input_folder - /Users/alexey/goWork/src/github.com/data-preprocessing/data-prep-lab/examples/agentic-workflow/output/llama_index/ output_folder - /Users/alexey/goWork/src/github.com/data-preprocessing/data-prep-lab/examples/agentic-workflow/output/llama_index/docq\n",
      "13:28:37 INFO - data factory data_ max_files -1, n_sample -1\n",
      "13:28:37 INFO - data factory data_ Not using data sets, checkpointing False, max files -1, random samples -1, files to use ['.parquet'], files to checkpoint ['.parquet']\n",
      "13:28:37 INFO - orchestrator docq started at 2025-01-16 13:28:37\n",
      "13:28:37 INFO - Number of files is 1, source profile {'max_file_size': 0.02628326416015625, 'min_file_size': 0.02628326416015625, 'total_file_size': 0.02628326416015625}\n",
      "13:28:37 INFO - Load badwords found locally from /Users/alexey/goWork/src/github.com/data-preprocessing/data-prep-lab/examples/agentic-workflow/venv/lib/python3.12/site-packages/dpk_doc_quality/ldnoobw/en\n",
      "13:28:37 INFO - Completed 1 files (100.0%) in 0.001 min\n",
      "13:28:37 INFO - Done processing 1 files, waiting for flush() completion.\n",
      "13:28:37 INFO - done flushing in 0.0 sec\n",
      "13:28:37 INFO - Completed execution in 0.002 min, execution result 0\n"
     ]
    },
    {
     "data": {
      "text/plain": [
       "0"
      ]
     },
     "execution_count": 5,
     "metadata": {},
     "output_type": "execute_result"
    }
   ],
   "source": [
    "from dpk_doc_quality.transform_python import DocQuality\n",
    "DocQuality(input_folder=output_folder,\n",
    "            output_folder= output_folder+'docq',\n",
    "            docq_text_lang = \"en\",\n",
    "            docq_doc_content_column =\"contents\").transform()\n",
    "\n"
   ]
  },
  {
   "cell_type": "markdown",
   "id": "4fd649c5-ba9e-4192-826e-35e29bb179f9",
   "metadata": {},
   "source": [
    "### Print the output"
   ]
  },
  {
   "cell_type": "code",
   "execution_count": 6,
   "id": "4b2c3409-488c-40c0-ba3d-6af34476adcd",
   "metadata": {},
   "outputs": [
    {
     "data": {
      "text/html": [
       "<div>\n",
       "<style scoped>\n",
       "    .dataframe tbody tr th:only-of-type {\n",
       "        vertical-align: middle;\n",
       "    }\n",
       "\n",
       "    .dataframe tbody tr th {\n",
       "        vertical-align: top;\n",
       "    }\n",
       "\n",
       "    .dataframe thead th {\n",
       "        text-align: right;\n",
       "    }\n",
       "</style>\n",
       "<table border=\"1\" class=\"dataframe\">\n",
       "  <thead>\n",
       "    <tr style=\"text-align: right;\">\n",
       "      <th></th>\n",
       "      <th>contents</th>\n",
       "      <th>docq_contain_bad_word</th>\n",
       "    </tr>\n",
       "  </thead>\n",
       "  <tbody>\n",
       "    <tr>\n",
       "      <th>0</th>\n",
       "      <td>Profanity, also known as swearing, cursing, or...</td>\n",
       "      <td>True</td>\n",
       "    </tr>\n",
       "    <tr>\n",
       "      <th>1</th>\n",
       "      <td>== Subjects ==\\nProfanities have literal meani...</td>\n",
       "      <td>True</td>\n",
       "    </tr>\n",
       "    <tr>\n",
       "      <th>2</th>\n",
       "      <td>=== Anatomy and sexuality ===\\n\\nProfanity rel...</td>\n",
       "      <td>True</td>\n",
       "    </tr>\n",
       "    <tr>\n",
       "      <th>3</th>\n",
       "      <td>=== Other subjects ===\\nIllness has historical...</td>\n",
       "      <td>True</td>\n",
       "    </tr>\n",
       "    <tr>\n",
       "      <th>4</th>\n",
       "      <td>In some circumstances, swearing can be used as...</td>\n",
       "      <td>True</td>\n",
       "    </tr>\n",
       "    <tr>\n",
       "      <th>5</th>\n",
       "      <td>Though profanity is usually associated with ta...</td>\n",
       "      <td>True</td>\n",
       "    </tr>\n",
       "    <tr>\n",
       "      <th>6</th>\n",
       "      <td>== Censorship and avoidance ==\\n\\nThe idea of ...</td>\n",
       "      <td>True</td>\n",
       "    </tr>\n",
       "    <tr>\n",
       "      <th>7</th>\n",
       "      <td>== Legality ==\\n\\n\\n=== Australia ===\\nIn ever...</td>\n",
       "      <td>True</td>\n",
       "    </tr>\n",
       "    <tr>\n",
       "      <th>8</th>\n",
       "      <td>=== Pakistan ===\\nPolitical leaders in Pakista...</td>\n",
       "      <td>False</td>\n",
       "    </tr>\n",
       "    <tr>\n",
       "      <th>9</th>\n",
       "      <td>== Religious views ==\\n\\n\\n=== Judaism ===\\nRa...</td>\n",
       "      <td>False</td>\n",
       "    </tr>\n",
       "    <tr>\n",
       "      <th>10</th>\n",
       "      <td>=== Islam ===\\nAccording to Ayatullah Ibrahim ...</td>\n",
       "      <td>False</td>\n",
       "    </tr>\n",
       "    <tr>\n",
       "      <th>11</th>\n",
       "      <td>== Further reading ==\\nAlmond, Ian (2003). \"De...</td>\n",
       "      <td>False</td>\n",
       "    </tr>\n",
       "  </tbody>\n",
       "</table>\n",
       "</div>"
      ],
      "text/plain": [
       "                                             contents  docq_contain_bad_word\n",
       "0   Profanity, also known as swearing, cursing, or...                   True\n",
       "1   == Subjects ==\\nProfanities have literal meani...                   True\n",
       "2   === Anatomy and sexuality ===\\n\\nProfanity rel...                   True\n",
       "3   === Other subjects ===\\nIllness has historical...                   True\n",
       "4   In some circumstances, swearing can be used as...                   True\n",
       "5   Though profanity is usually associated with ta...                   True\n",
       "6   == Censorship and avoidance ==\\n\\nThe idea of ...                   True\n",
       "7   == Legality ==\\n\\n\\n=== Australia ===\\nIn ever...                   True\n",
       "8   === Pakistan ===\\nPolitical leaders in Pakista...                  False\n",
       "9   == Religious views ==\\n\\n\\n=== Judaism ===\\nRa...                  False\n",
       "10  === Islam ===\\nAccording to Ayatullah Ibrahim ...                  False\n",
       "11  == Further reading ==\\nAlmond, Ian (2003). \"De...                  False"
      ]
     },
     "execution_count": 6,
     "metadata": {},
     "output_type": "execute_result"
    }
   ],
   "source": [
    "from my_utils import read_parquet_files_as_df\n",
    "\n",
    "output_df = read_parquet_files_as_df(output_folder+'docq')\n",
    "\n",
    "output_df[['contents','docq_contain_bad_word']]"
   ]
  },
  {
   "cell_type": "markdown",
   "id": "87bda2a3-1fa4-4755-80ec-6025d0d1db26",
   "metadata": {},
   "source": [
    "### Apply DPK Filtering"
   ]
  },
  {
   "cell_type": "code",
   "execution_count": 7,
   "id": "119b3bae-75f8-4276-a778-f142bed324f3",
   "metadata": {},
   "outputs": [
    {
     "name": "stderr",
     "output_type": "stream",
     "text": [
      "13:28:41 INFO - pipeline id pipeline_id\n",
      "13:28:41 INFO - code location None\n",
      "13:28:41 INFO - data factory data_ is using local data access: input_folder - /Users/alexey/goWork/src/github.com/data-preprocessing/data-prep-lab/examples/agentic-workflow/output/llama_index/docq output_folder - /Users/alexey/goWork/src/github.com/data-preprocessing/data-prep-lab/examples/agentic-workflow/output/llama_index/filter\n",
      "13:28:41 INFO - data factory data_ max_files -1, n_sample -1\n",
      "13:28:41 INFO - data factory data_ Not using data sets, checkpointing False, max files -1, random samples -1, files to use ['.parquet'], files to checkpoint ['.parquet']\n",
      "13:28:41 INFO - orchestrator filter started at 2025-01-16 13:28:41\n",
      "13:28:41 INFO - Number of files is 1, source profile {'max_file_size': 0.023977279663085938, 'min_file_size': 0.023977279663085938, 'total_file_size': 0.023977279663085938}\n",
      "13:28:41 INFO - Completed 1 files (100.0%) in 0.0 min\n",
      "13:28:41 INFO - Done processing 1 files, waiting for flush() completion.\n",
      "13:28:41 INFO - done flushing in 0.0 sec\n",
      "13:28:41 INFO - Completed execution in 0.0 min, execution result 0\n"
     ]
    },
    {
     "data": {
      "text/plain": [
       "0"
      ]
     },
     "execution_count": 7,
     "metadata": {},
     "output_type": "execute_result"
    }
   ],
   "source": [
    "# remove rows with bad words\n",
    "from dpk_filter.transform_python import Filter\n",
    "Filter(input_folder= output_folder+'docq',\n",
    "        output_folder= output_folder+'filter',\n",
    "        filter_criteria_list= [\n",
    "            \"NOT docq_contain_bad_word\",\n",
    "        ],\n",
    "       ).transform()"
   ]
  },
  {
   "cell_type": "markdown",
   "id": "2be1d871-39a1-4e44-81cc-a74759b58223",
   "metadata": {},
   "source": [
    "### Inspect Generated Output File"
   ]
  },
  {
   "cell_type": "code",
   "execution_count": 8,
   "id": "470f039e-1b7a-438d-b7d4-75f4b60a0c2d",
   "metadata": {},
   "outputs": [
    {
     "name": "stdout",
     "output_type": "stream",
     "text": [
      "--2025-01-16 13:28:43--  https://raw.githubusercontent.com/IBM/data-prep-kit/dev/examples/notebooks/intro/my_utils.py\n",
      "Resolving raw.githubusercontent.com (raw.githubusercontent.com)... 2606:50c0:8000::154, 2606:50c0:8003::154, 2606:50c0:8001::154, ...\n",
      "connected. to raw.githubusercontent.com (raw.githubusercontent.com)|2606:50c0:8000::154|:443... \n",
      "...הבושת תלבקל ןיתממ ,החלשנ HTTP תיינפ 200 OK\n",
      "Length: 1856 (1.8K) [text/plain]\n",
      "Saving to: ‘my_utils.py’\n",
      "\n",
      "my_utils.py         100%[===================>]   1.81K  --.-KB/s    in 0s      \n",
      "\n",
      "2025-01-16 13:28:44 (4.05 MB/s) - ‘my_utils.py’ saved [1856/1856]\n",
      "\n"
     ]
    }
   ],
   "source": [
    "os.environ[\"TOKENIZERS_PARALLELISM\"] = \"false\"\n",
    "!wget -O 'my_utils.py'  'https://raw.githubusercontent.com/IBM/data-prep-kit/dev/examples/notebooks/intro/my_utils.py'"
   ]
  },
  {
   "cell_type": "code",
   "execution_count": 9,
   "id": "0de240e5-b6cd-4deb-aa41-1426be64d6aa",
   "metadata": {},
   "outputs": [
    {
     "name": "stdout",
     "output_type": "stream",
     "text": [
      "Output data dimensions (rows x columns)=  (4, 12)\n"
     ]
    },
    {
     "data": {
      "text/html": [
       "<div>\n",
       "<style scoped>\n",
       "    .dataframe tbody tr th:only-of-type {\n",
       "        vertical-align: middle;\n",
       "    }\n",
       "\n",
       "    .dataframe tbody tr th {\n",
       "        vertical-align: top;\n",
       "    }\n",
       "\n",
       "    .dataframe thead th {\n",
       "        text-align: right;\n",
       "    }\n",
       "</style>\n",
       "<table border=\"1\" class=\"dataframe\">\n",
       "  <thead>\n",
       "    <tr style=\"text-align: right;\">\n",
       "      <th></th>\n",
       "      <th>contents</th>\n",
       "      <th>docq_total_words</th>\n",
       "      <th>docq_mean_word_len</th>\n",
       "      <th>docq_symbol_to_word_ratio</th>\n",
       "      <th>docq_sentence_count</th>\n",
       "      <th>docq_lorem_ipsum_ratio</th>\n",
       "      <th>docq_curly_bracket_ratio</th>\n",
       "      <th>docq_contain_bad_word</th>\n",
       "      <th>docq_bullet_point_ratio</th>\n",
       "      <th>docq_ellipsis_line_ratio</th>\n",
       "      <th>docq_alphabet_word_ratio</th>\n",
       "      <th>docq_contain_common_en_words</th>\n",
       "    </tr>\n",
       "  </thead>\n",
       "  <tbody>\n",
       "    <tr>\n",
       "      <th>0</th>\n",
       "      <td>=== Pakistan ===\\nPolitical leaders in Pakista...</td>\n",
       "      <td>793</td>\n",
       "      <td>5.104666</td>\n",
       "      <td>0.0</td>\n",
       "      <td>30</td>\n",
       "      <td>0.0</td>\n",
       "      <td>0.0</td>\n",
       "      <td>False</td>\n",
       "      <td>0.0</td>\n",
       "      <td>0.0</td>\n",
       "      <td>0.959647</td>\n",
       "      <td>True</td>\n",
       "    </tr>\n",
       "    <tr>\n",
       "      <th>1</th>\n",
       "      <td>== Religious views ==\\n\\n\\n=== Judaism ===\\nRa...</td>\n",
       "      <td>460</td>\n",
       "      <td>5.093478</td>\n",
       "      <td>0.0</td>\n",
       "      <td>23</td>\n",
       "      <td>0.0</td>\n",
       "      <td>0.0</td>\n",
       "      <td>False</td>\n",
       "      <td>0.0</td>\n",
       "      <td>0.0</td>\n",
       "      <td>0.952174</td>\n",
       "      <td>True</td>\n",
       "    </tr>\n",
       "    <tr>\n",
       "      <th>2</th>\n",
       "      <td>=== Islam ===\\nAccording to Ayatullah Ibrahim ...</td>\n",
       "      <td>264</td>\n",
       "      <td>7.416667</td>\n",
       "      <td>0.0</td>\n",
       "      <td>78</td>\n",
       "      <td>0.0</td>\n",
       "      <td>0.0</td>\n",
       "      <td>False</td>\n",
       "      <td>0.0</td>\n",
       "      <td>0.0</td>\n",
       "      <td>0.825758</td>\n",
       "      <td>True</td>\n",
       "    </tr>\n",
       "    <tr>\n",
       "      <th>3</th>\n",
       "      <td>== Further reading ==\\nAlmond, Ian (2003). \"De...</td>\n",
       "      <td>265</td>\n",
       "      <td>6.033962</td>\n",
       "      <td>0.0</td>\n",
       "      <td>51</td>\n",
       "      <td>0.0</td>\n",
       "      <td>0.0</td>\n",
       "      <td>False</td>\n",
       "      <td>0.0</td>\n",
       "      <td>0.0</td>\n",
       "      <td>0.852830</td>\n",
       "      <td>True</td>\n",
       "    </tr>\n",
       "  </tbody>\n",
       "</table>\n",
       "</div>"
      ],
      "text/plain": [
       "                                            contents  docq_total_words  \\\n",
       "0  === Pakistan ===\\nPolitical leaders in Pakista...               793   \n",
       "1  == Religious views ==\\n\\n\\n=== Judaism ===\\nRa...               460   \n",
       "2  === Islam ===\\nAccording to Ayatullah Ibrahim ...               264   \n",
       "3  == Further reading ==\\nAlmond, Ian (2003). \"De...               265   \n",
       "\n",
       "   docq_mean_word_len  docq_symbol_to_word_ratio  docq_sentence_count  \\\n",
       "0            5.104666                        0.0                   30   \n",
       "1            5.093478                        0.0                   23   \n",
       "2            7.416667                        0.0                   78   \n",
       "3            6.033962                        0.0                   51   \n",
       "\n",
       "   docq_lorem_ipsum_ratio  docq_curly_bracket_ratio  docq_contain_bad_word  \\\n",
       "0                     0.0                       0.0                  False   \n",
       "1                     0.0                       0.0                  False   \n",
       "2                     0.0                       0.0                  False   \n",
       "3                     0.0                       0.0                  False   \n",
       "\n",
       "   docq_bullet_point_ratio  docq_ellipsis_line_ratio  \\\n",
       "0                      0.0                       0.0   \n",
       "1                      0.0                       0.0   \n",
       "2                      0.0                       0.0   \n",
       "3                      0.0                       0.0   \n",
       "\n",
       "   docq_alphabet_word_ratio  docq_contain_common_en_words  \n",
       "0                  0.959647                          True  \n",
       "1                  0.952174                          True  \n",
       "2                  0.825758                          True  \n",
       "3                  0.852830                          True  "
      ]
     },
     "execution_count": 9,
     "metadata": {},
     "output_type": "execute_result"
    }
   ],
   "source": [
    "from my_utils import read_parquet_files_as_df\n",
    "\n",
    "output_df = read_parquet_files_as_df(output_folder+'filter')\n",
    "\n",
    "print (\"Output data dimensions (rows x columns)= \", output_df.shape)\n",
    "\n",
    "output_df"
   ]
  },
  {
   "cell_type": "markdown",
   "id": "8f22ddb1-7bd8-4372-951b-8a7d4f885ec1",
   "metadata": {},
   "source": [
    "### Apply DPK text encoding"
   ]
  },
  {
   "cell_type": "code",
   "execution_count": 10,
   "id": "3669610d-a11c-4086-ba78-622c8fc43b03",
   "metadata": {},
   "outputs": [
    {
     "name": "stdout",
     "output_type": "stream",
     "text": [
      "Note: you may need to restart the kernel to use updated packages.\n"
     ]
    }
   ],
   "source": [
    "%pip install -qq -U ipywidgets"
   ]
  },
  {
   "cell_type": "code",
   "execution_count": 11,
   "id": "548ce6b0-1447-4129-8ee2-8e6179976051",
   "metadata": {},
   "outputs": [
    {
     "name": "stderr",
     "output_type": "stream",
     "text": [
      "13:28:51 INFO - text_encoder parameters are : {'content_column_name': 'contents', 'output_embeddings_column_name': 'embeddings', 'model_name': 'BAAI/bge-small-en-v1.5'}\n",
      "13:28:51 INFO - pipeline id pipeline_id\n",
      "13:28:51 INFO - code location None\n",
      "13:28:51 INFO - data factory data_ is using local data access: input_folder - /Users/alexey/goWork/src/github.com/data-preprocessing/data-prep-lab/examples/agentic-workflow/output/llama_index/filter output_folder - /Users/alexey/goWork/src/github.com/data-preprocessing/data-prep-lab/examples/agentic-workflow/output/llama_index/encoding\n",
      "13:28:51 INFO - data factory data_ max_files -1, n_sample -1\n",
      "13:28:51 INFO - data factory data_ Not using data sets, checkpointing False, max files -1, random samples -1, files to use ['.parquet'], files to checkpoint ['.parquet']\n",
      "13:28:51 INFO - orchestrator text_encoder started at 2025-01-16 13:28:51\n",
      "13:28:51 INFO - Number of files is 1, source profile {'max_file_size': 0.01585102081298828, 'min_file_size': 0.01585102081298828, 'total_file_size': 0.01585102081298828}\n",
      "13:28:54 INFO - Completed 1 files (100.0%) in 0.005 min\n",
      "13:28:54 INFO - Done processing 1 files, waiting for flush() completion.\n",
      "13:28:54 INFO - done flushing in 0.0 sec\n",
      "13:28:54 INFO - Completed execution in 0.052 min, execution result 0\n"
     ]
    }
   ],
   "source": [
    "from dpk_text_encoder.transform_python import TextEncoder\n",
    "from data_processing.utils import GB\n",
    "\n",
    "x=TextEncoder(input_folder= output_folder+'filter', \n",
    "               output_folder= output_folder+'encoding', \n",
    "               text_encoder_model_name = 'BAAI/bge-small-en-v1.5').transform()"
   ]
  },
  {
   "cell_type": "code",
   "execution_count": 12,
   "id": "1506fa74-3a40-41cc-bf00-17899b18afcf",
   "metadata": {},
   "outputs": [
    {
     "name": "stdout",
     "output_type": "stream",
     "text": [
      "Output data dimensions (rows x columns)=  (4, 13)\n"
     ]
    },
    {
     "data": {
      "text/html": [
       "<div>\n",
       "<style scoped>\n",
       "    .dataframe tbody tr th:only-of-type {\n",
       "        vertical-align: middle;\n",
       "    }\n",
       "\n",
       "    .dataframe tbody tr th {\n",
       "        vertical-align: top;\n",
       "    }\n",
       "\n",
       "    .dataframe thead th {\n",
       "        text-align: right;\n",
       "    }\n",
       "</style>\n",
       "<table border=\"1\" class=\"dataframe\">\n",
       "  <thead>\n",
       "    <tr style=\"text-align: right;\">\n",
       "      <th></th>\n",
       "      <th>contents</th>\n",
       "      <th>docq_total_words</th>\n",
       "      <th>docq_mean_word_len</th>\n",
       "      <th>docq_symbol_to_word_ratio</th>\n",
       "      <th>docq_sentence_count</th>\n",
       "      <th>docq_lorem_ipsum_ratio</th>\n",
       "      <th>docq_curly_bracket_ratio</th>\n",
       "      <th>docq_contain_bad_word</th>\n",
       "      <th>docq_bullet_point_ratio</th>\n",
       "      <th>docq_ellipsis_line_ratio</th>\n",
       "      <th>docq_alphabet_word_ratio</th>\n",
       "      <th>docq_contain_common_en_words</th>\n",
       "      <th>embeddings</th>\n",
       "    </tr>\n",
       "  </thead>\n",
       "  <tbody>\n",
       "    <tr>\n",
       "      <th>0</th>\n",
       "      <td>=== Pakistan ===\\nPolitical leaders in Pakista...</td>\n",
       "      <td>793</td>\n",
       "      <td>5.104666</td>\n",
       "      <td>0.0</td>\n",
       "      <td>30</td>\n",
       "      <td>0.0</td>\n",
       "      <td>0.0</td>\n",
       "      <td>False</td>\n",
       "      <td>0.0</td>\n",
       "      <td>0.0</td>\n",
       "      <td>0.959647</td>\n",
       "      <td>True</td>\n",
       "      <td>[-0.038121343, -0.03633737, 0.03001021, -0.034...</td>\n",
       "    </tr>\n",
       "    <tr>\n",
       "      <th>1</th>\n",
       "      <td>== Religious views ==\\n\\n\\n=== Judaism ===\\nRa...</td>\n",
       "      <td>460</td>\n",
       "      <td>5.093478</td>\n",
       "      <td>0.0</td>\n",
       "      <td>23</td>\n",
       "      <td>0.0</td>\n",
       "      <td>0.0</td>\n",
       "      <td>False</td>\n",
       "      <td>0.0</td>\n",
       "      <td>0.0</td>\n",
       "      <td>0.952174</td>\n",
       "      <td>True</td>\n",
       "      <td>[0.0014923534, 0.04133316, 0.010005907, -0.015...</td>\n",
       "    </tr>\n",
       "    <tr>\n",
       "      <th>2</th>\n",
       "      <td>=== Islam ===\\nAccording to Ayatullah Ibrahim ...</td>\n",
       "      <td>264</td>\n",
       "      <td>7.416667</td>\n",
       "      <td>0.0</td>\n",
       "      <td>78</td>\n",
       "      <td>0.0</td>\n",
       "      <td>0.0</td>\n",
       "      <td>False</td>\n",
       "      <td>0.0</td>\n",
       "      <td>0.0</td>\n",
       "      <td>0.825758</td>\n",
       "      <td>True</td>\n",
       "      <td>[-0.048527546, 0.008751696, -0.028325684, 0.01...</td>\n",
       "    </tr>\n",
       "    <tr>\n",
       "      <th>3</th>\n",
       "      <td>== Further reading ==\\nAlmond, Ian (2003). \"De...</td>\n",
       "      <td>265</td>\n",
       "      <td>6.033962</td>\n",
       "      <td>0.0</td>\n",
       "      <td>51</td>\n",
       "      <td>0.0</td>\n",
       "      <td>0.0</td>\n",
       "      <td>False</td>\n",
       "      <td>0.0</td>\n",
       "      <td>0.0</td>\n",
       "      <td>0.852830</td>\n",
       "      <td>True</td>\n",
       "      <td>[-0.038133983, -0.007959435, 0.016050057, 0.01...</td>\n",
       "    </tr>\n",
       "  </tbody>\n",
       "</table>\n",
       "</div>"
      ],
      "text/plain": [
       "                                            contents  docq_total_words  \\\n",
       "0  === Pakistan ===\\nPolitical leaders in Pakista...               793   \n",
       "1  == Religious views ==\\n\\n\\n=== Judaism ===\\nRa...               460   \n",
       "2  === Islam ===\\nAccording to Ayatullah Ibrahim ...               264   \n",
       "3  == Further reading ==\\nAlmond, Ian (2003). \"De...               265   \n",
       "\n",
       "   docq_mean_word_len  docq_symbol_to_word_ratio  docq_sentence_count  \\\n",
       "0            5.104666                        0.0                   30   \n",
       "1            5.093478                        0.0                   23   \n",
       "2            7.416667                        0.0                   78   \n",
       "3            6.033962                        0.0                   51   \n",
       "\n",
       "   docq_lorem_ipsum_ratio  docq_curly_bracket_ratio  docq_contain_bad_word  \\\n",
       "0                     0.0                       0.0                  False   \n",
       "1                     0.0                       0.0                  False   \n",
       "2                     0.0                       0.0                  False   \n",
       "3                     0.0                       0.0                  False   \n",
       "\n",
       "   docq_bullet_point_ratio  docq_ellipsis_line_ratio  \\\n",
       "0                      0.0                       0.0   \n",
       "1                      0.0                       0.0   \n",
       "2                      0.0                       0.0   \n",
       "3                      0.0                       0.0   \n",
       "\n",
       "   docq_alphabet_word_ratio  docq_contain_common_en_words  \\\n",
       "0                  0.959647                          True   \n",
       "1                  0.952174                          True   \n",
       "2                  0.825758                          True   \n",
       "3                  0.852830                          True   \n",
       "\n",
       "                                          embeddings  \n",
       "0  [-0.038121343, -0.03633737, 0.03001021, -0.034...  \n",
       "1  [0.0014923534, 0.04133316, 0.010005907, -0.015...  \n",
       "2  [-0.048527546, 0.008751696, -0.028325684, 0.01...  \n",
       "3  [-0.038133983, -0.007959435, 0.016050057, 0.01...  "
      ]
     },
     "execution_count": 12,
     "metadata": {},
     "output_type": "execute_result"
    }
   ],
   "source": [
    "from my_utils import read_parquet_files_as_df\n",
    "\n",
    "output_df = read_parquet_files_as_df(output_folder+'encoding')\n",
    "\n",
    "print (\"Output data dimensions (rows x columns)= \", output_df.shape)\n",
    "\n",
    "output_df"
   ]
  },
  {
   "cell_type": "markdown",
   "id": "33cb2b23-0b63-4779-a43e-5cee14116d94",
   "metadata": {},
   "source": [
    "## Load Processed Data into Vector Database\n",
    "### ref: https://github.com/IBM/data-prep-kit/blob/dev/examples/notebooks/rag/rag_1B_load_data_into_milvus.ipynb"
   ]
  },
  {
   "cell_type": "markdown",
   "id": "7d25b2d8-9415-4ccd-8a38-1a5c0a57f2e5",
   "metadata": {},
   "source": [
    "### Load Parquet Data"
   ]
  },
  {
   "cell_type": "code",
   "execution_count": 13,
   "id": "faf9b156-7ccf-48d5-9a68-a2461573dd12",
   "metadata": {},
   "outputs": [
    {
     "name": "stdout",
     "output_type": "stream",
     "text": [
      "Loading data from :  /Users/alexey/goWork/src/github.com/data-preprocessing/data-prep-lab/examples/agentic-workflow/output/llama_index/encoding\n",
      "\n",
      "Total number of rows = 4\n"
     ]
    }
   ],
   "source": [
    "import pandas as pd\n",
    "import glob\n",
    "\n",
    "print ('Loading data from : ', output_folder+'encoding')\n",
    "\n",
    "data_df = read_parquet_files_as_df(output_folder+'encoding')\n",
    "\n",
    "print (f\"\\nTotal number of rows = {data_df.shape[0]}\")"
   ]
  },
  {
   "cell_type": "code",
   "execution_count": 14,
   "id": "c5a6d06a-41b2-450d-b46d-90cd2510383f",
   "metadata": {},
   "outputs": [
    {
     "name": "stdout",
     "output_type": "stream",
     "text": [
      "embedding length:  384\n",
      "<class 'pandas.core.frame.DataFrame'>\n",
      "RangeIndex: 4 entries, 0 to 3\n",
      "Data columns (total 13 columns):\n",
      " #   Column                        Non-Null Count  Dtype  \n",
      "---  ------                        --------------  -----  \n",
      " 0   text                          4 non-null      object \n",
      " 1   docq_total_words              4 non-null      int64  \n",
      " 2   docq_mean_word_len            4 non-null      float64\n",
      " 3   docq_symbol_to_word_ratio     4 non-null      float64\n",
      " 4   docq_sentence_count           4 non-null      int64  \n",
      " 5   docq_lorem_ipsum_ratio        4 non-null      float64\n",
      " 6   docq_curly_bracket_ratio      4 non-null      float64\n",
      " 7   docq_contain_bad_word         4 non-null      bool   \n",
      " 8   docq_bullet_point_ratio       4 non-null      float64\n",
      " 9   docq_ellipsis_line_ratio      4 non-null      float64\n",
      " 10  docq_alphabet_word_ratio      4 non-null      float64\n",
      " 11  docq_contain_common_en_words  4 non-null      bool   \n",
      " 12  vector                        4 non-null      object \n",
      "dtypes: bool(2), float64(7), int64(2), object(2)\n",
      "memory usage: 492.0+ bytes\n",
      "None\n"
     ]
    },
    {
     "data": {
      "text/html": [
       "<div>\n",
       "<style scoped>\n",
       "    .dataframe tbody tr th:only-of-type {\n",
       "        vertical-align: middle;\n",
       "    }\n",
       "\n",
       "    .dataframe tbody tr th {\n",
       "        vertical-align: top;\n",
       "    }\n",
       "\n",
       "    .dataframe thead th {\n",
       "        text-align: right;\n",
       "    }\n",
       "</style>\n",
       "<table border=\"1\" class=\"dataframe\">\n",
       "  <thead>\n",
       "    <tr style=\"text-align: right;\">\n",
       "      <th></th>\n",
       "      <th>text</th>\n",
       "      <th>docq_total_words</th>\n",
       "      <th>docq_mean_word_len</th>\n",
       "      <th>docq_symbol_to_word_ratio</th>\n",
       "      <th>docq_sentence_count</th>\n",
       "      <th>docq_lorem_ipsum_ratio</th>\n",
       "      <th>docq_curly_bracket_ratio</th>\n",
       "      <th>docq_contain_bad_word</th>\n",
       "      <th>docq_bullet_point_ratio</th>\n",
       "      <th>docq_ellipsis_line_ratio</th>\n",
       "      <th>docq_alphabet_word_ratio</th>\n",
       "      <th>docq_contain_common_en_words</th>\n",
       "      <th>vector</th>\n",
       "    </tr>\n",
       "  </thead>\n",
       "  <tbody>\n",
       "    <tr>\n",
       "      <th>0</th>\n",
       "      <td>=== Pakistan ===\\nPolitical leaders in Pakista...</td>\n",
       "      <td>793</td>\n",
       "      <td>5.104666</td>\n",
       "      <td>0.0</td>\n",
       "      <td>30</td>\n",
       "      <td>0.0</td>\n",
       "      <td>0.0</td>\n",
       "      <td>False</td>\n",
       "      <td>0.0</td>\n",
       "      <td>0.0</td>\n",
       "      <td>0.959647</td>\n",
       "      <td>True</td>\n",
       "      <td>[-0.038121343, -0.03633737, 0.03001021, -0.034...</td>\n",
       "    </tr>\n",
       "    <tr>\n",
       "      <th>1</th>\n",
       "      <td>== Religious views ==\\n\\n\\n=== Judaism ===\\nRa...</td>\n",
       "      <td>460</td>\n",
       "      <td>5.093478</td>\n",
       "      <td>0.0</td>\n",
       "      <td>23</td>\n",
       "      <td>0.0</td>\n",
       "      <td>0.0</td>\n",
       "      <td>False</td>\n",
       "      <td>0.0</td>\n",
       "      <td>0.0</td>\n",
       "      <td>0.952174</td>\n",
       "      <td>True</td>\n",
       "      <td>[0.0014923534, 0.04133316, 0.010005907, -0.015...</td>\n",
       "    </tr>\n",
       "    <tr>\n",
       "      <th>2</th>\n",
       "      <td>=== Islam ===\\nAccording to Ayatullah Ibrahim ...</td>\n",
       "      <td>264</td>\n",
       "      <td>7.416667</td>\n",
       "      <td>0.0</td>\n",
       "      <td>78</td>\n",
       "      <td>0.0</td>\n",
       "      <td>0.0</td>\n",
       "      <td>False</td>\n",
       "      <td>0.0</td>\n",
       "      <td>0.0</td>\n",
       "      <td>0.825758</td>\n",
       "      <td>True</td>\n",
       "      <td>[-0.048527546, 0.008751696, -0.028325684, 0.01...</td>\n",
       "    </tr>\n",
       "  </tbody>\n",
       "</table>\n",
       "</div>"
      ],
      "text/plain": [
       "                                                text  docq_total_words  \\\n",
       "0  === Pakistan ===\\nPolitical leaders in Pakista...               793   \n",
       "1  == Religious views ==\\n\\n\\n=== Judaism ===\\nRa...               460   \n",
       "2  === Islam ===\\nAccording to Ayatullah Ibrahim ...               264   \n",
       "\n",
       "   docq_mean_word_len  docq_symbol_to_word_ratio  docq_sentence_count  \\\n",
       "0            5.104666                        0.0                   30   \n",
       "1            5.093478                        0.0                   23   \n",
       "2            7.416667                        0.0                   78   \n",
       "\n",
       "   docq_lorem_ipsum_ratio  docq_curly_bracket_ratio  docq_contain_bad_word  \\\n",
       "0                     0.0                       0.0                  False   \n",
       "1                     0.0                       0.0                  False   \n",
       "2                     0.0                       0.0                  False   \n",
       "\n",
       "   docq_bullet_point_ratio  docq_ellipsis_line_ratio  \\\n",
       "0                      0.0                       0.0   \n",
       "1                      0.0                       0.0   \n",
       "2                      0.0                       0.0   \n",
       "\n",
       "   docq_alphabet_word_ratio  docq_contain_common_en_words  \\\n",
       "0                  0.959647                          True   \n",
       "1                  0.952174                          True   \n",
       "2                  0.825758                          True   \n",
       "\n",
       "                                              vector  \n",
       "0  [-0.038121343, -0.03633737, 0.03001021, -0.034...  \n",
       "1  [0.0014923534, 0.04133316, 0.010005907, -0.015...  \n",
       "2  [-0.048527546, 0.008751696, -0.028325684, 0.01...  "
      ]
     },
     "execution_count": 14,
     "metadata": {},
     "output_type": "execute_result"
    }
   ],
   "source": [
    "## Shape the data\n",
    "\n",
    "EMBEDDING_LENGTH =  len(data_df.iloc[0]['embeddings'])\n",
    "print ('embedding length: ', EMBEDDING_LENGTH)\n",
    "\n",
    "# rename 'embeddings' columns as 'vector' to match default schema\n",
    "# if 'vector' not in data_df.columns and 'embeddings' in data_df.columns:\n",
    "#     data_df = data_df.rename( columns= {'embeddings' : 'vector'})\n",
    "# if 'text' not in data_df.columns and 'contents' in data_df.columns:\n",
    "#     data_df = data_df.rename( columns= {'contents' : 'text'})\n",
    "\n",
    "data_df = data_df.rename( columns= {'embeddings' : 'vector', 'contents' : 'text'})\n",
    "\n",
    "print (data_df.info())\n",
    "data_df.head(3)"
   ]
  },
  {
   "cell_type": "markdown",
   "id": "6ab59090-b8c5-49f3-9657-15b7c69c072d",
   "metadata": {},
   "source": [
    "### Connect to Vector Database"
   ]
  },
  {
   "cell_type": "code",
   "execution_count": 15,
   "id": "c87bd5e1-f96a-41cd-995a-6a8731275889",
   "metadata": {},
   "outputs": [
    {
     "name": "stdout",
     "output_type": "stream",
     "text": [
      "Note: you may need to restart the kernel to use updated packages.\n",
      "zsh:1: no matches found: pymilvus[model]\n",
      "Note: you may need to restart the kernel to use updated packages.\n"
     ]
    }
   ],
   "source": [
    "%pip install -qq -U pymilvus\n",
    "%pip install -qq pymilvus[model]"
   ]
  },
  {
   "cell_type": "code",
   "execution_count": 16,
   "id": "41731402-12d2-4242-aab5-757b93693e88",
   "metadata": {},
   "outputs": [
    {
     "name": "stdout",
     "output_type": "stream",
     "text": [
      "✅ Connected to Milvus instance: ./milvus_demo.db\n"
     ]
    }
   ],
   "source": [
    "from pymilvus import MilvusClient\n",
    "\n",
    "milvus_client = MilvusClient(\"./milvus_demo.db\")\n",
    "\n",
    "print (\"✅ Connected to Milvus instance:\", \"./milvus_demo.db\")"
   ]
  },
  {
   "cell_type": "markdown",
   "id": "a8704d95-ffb6-45de-9f51-f4202faae8c6",
   "metadata": {},
   "source": [
    "### Create A Collection"
   ]
  },
  {
   "cell_type": "code",
   "execution_count": 17,
   "id": "e4cb2d19-fa72-4ab9-b83f-e45672714e86",
   "metadata": {},
   "outputs": [
    {
     "name": "stdout",
     "output_type": "stream",
     "text": [
      "✅ Cleared collection : test\n",
      "✅ Created collection : test\n"
     ]
    }
   ],
   "source": [
    "COLLECTION_NAME=\"test\"\n",
    "if milvus_client.has_collection(collection_name=COLLECTION_NAME):\n",
    "    milvus_client.drop_collection(collection_name=COLLECTION_NAME)\n",
    "    print ('✅ Cleared collection :', COLLECTION_NAME)\n",
    "\n",
    "\n",
    "milvus_client.create_collection(\n",
    "    collection_name=COLLECTION_NAME,\n",
    "    dimension=EMBEDDING_LENGTH,\n",
    "    metric_type=\"IP\",  # Inner product distance\n",
    "    consistency_level=\"Strong\",  # Strong consistency level\n",
    "    auto_id=True\n",
    ")\n",
    "print (\"✅ Created collection :\", COLLECTION_NAME)"
   ]
  },
  {
   "cell_type": "code",
   "execution_count": 18,
   "id": "a577f90d-1295-4e21-8aaa-eecdc996013d",
   "metadata": {},
   "outputs": [
    {
     "name": "stdout",
     "output_type": "stream",
     "text": [
      "inserted # rows 4\n"
     ]
    },
    {
     "data": {
      "text/plain": [
       "{'row_count': 4}"
      ]
     },
     "execution_count": 18,
     "metadata": {},
     "output_type": "execute_result"
    }
   ],
   "source": [
    "res = milvus_client.insert(collection_name=COLLECTION_NAME, data=data_df.to_dict('records'))\n",
    "\n",
    "print('inserted # rows', res['insert_count'])\n",
    "\n",
    "milvus_client.get_collection_stats(COLLECTION_NAME)"
   ]
  },
  {
   "cell_type": "markdown",
   "id": "d95ca5ba-4733-4353-bfef-610a8f9535eb",
   "metadata": {},
   "source": [
    "### Close DB Connection"
   ]
  },
  {
   "cell_type": "code",
   "execution_count": 19,
   "id": "e6fec788-86f6-4533-9339-bb0010e8dd10",
   "metadata": {},
   "outputs": [
    {
     "name": "stdout",
     "output_type": "stream",
     "text": [
      "✅ SUCCESS\n"
     ]
    }
   ],
   "source": [
    "milvus_client.close()\n",
    "\n",
    "print (\"✅ SUCCESS\")"
   ]
  },
  {
   "cell_type": "code",
   "execution_count": null,
   "id": "afd2e714-525c-4a0b-b6c1-e3dd21c04d80",
   "metadata": {},
   "outputs": [],
   "source": []
  }
 ],
 "metadata": {
  "kernelspec": {
   "display_name": "Python venv",
   "language": "python",
   "name": "venv"
  },
  "language_info": {
   "codemirror_mode": {
    "name": "ipython",
    "version": 3
   },
   "file_extension": ".py",
   "mimetype": "text/x-python",
   "name": "python",
   "nbconvert_exporter": "python",
   "pygments_lexer": "ipython3",
   "version": "3.12.8"
  }
 },
 "nbformat": 4,
 "nbformat_minor": 5
}
