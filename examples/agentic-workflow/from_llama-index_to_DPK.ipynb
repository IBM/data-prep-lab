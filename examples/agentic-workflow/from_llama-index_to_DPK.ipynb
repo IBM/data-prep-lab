{
 "cells": [
  {
   "cell_type": "markdown",
   "id": "4d8e3c83-2995-4e5e-a113-88d14d559044",
   "metadata": {},
   "source": [
    "# From llama-index to DPK"
   ]
  },
  {
   "cell_type": "markdown",
   "id": "4e8ed6e5-f516-4956-be51-267b03ca0a9e",
   "metadata": {},
   "source": [
    "### This notebook shows how llama-index nodes can be converted to parquet file and then processed by DPK."
   ]
  },
  {
   "cell_type": "code",
   "execution_count": null,
   "id": "9947ecb3-a810-4129-acc5-f38894411639",
   "metadata": {},
   "outputs": [],
   "source": [
    "%pip install -qq -r requirements.txt"
   ]
  },
  {
   "cell_type": "code",
   "execution_count": null,
   "id": "cd34a19a-202c-4b67-9725-e16a4c3efd07",
   "metadata": {},
   "outputs": [],
   "source": [
    "%pip install -qq -r dpk-requirements.txt"
   ]
  },
  {
   "cell_type": "code",
   "execution_count": null,
   "id": "f96b1e0d-72c2-4c2b-829e-b50764e2e4ad",
   "metadata": {},
   "outputs": [],
   "source": [
    "%pip install -qq llama-index",
    "%pip install -qq llama-index-readers-wikipedia",
    "%pip install -qq wikipedia"
   ]
  },
  {
   "cell_type": "code",
   "execution_count": null,
   "id": "34b76236-ad1e-4404-ad7e-d550e895974b",
   "metadata": {},
   "outputs": [],
   "source": [
    "import shutil\n",
    "import os\n",
    "cwd = os.getcwd()\n",
    "\n",
    "output_base_path = f\"{cwd}/output\"\n",
    "\n",
    "output_folder =  f\"{output_base_path}/llama_index/\"\n",
    "\n",
    "shutil.rmtree(output_base_path, ignore_errors=True)\n",
    "print (f\"✅ Cleared {output_folder} directory\")\n",
    "os.mkdir(output_base_path)\n",
    "os.mkdir(output_folder)"
   ]
  },
  {
   "cell_type": "markdown",
   "id": "b8c2f89f-d3d7-4d2e-8995-a47b5da5abc1",
   "metadata": {},
   "source": [
    "## Ingest Wikipedia page"
   ]
  },
  {
   "cell_type": "code",
   "execution_count": null,
   "id": "b125fb56-bdd6-4835-a7f1-668f6b16a4ae",
   "metadata": {},
   "outputs": [],
   "source": [
    "from llama_index.core import Document, SummaryIndex\n",
    "from llama_index.readers.wikipedia import WikipediaReader\n",
    "from llama_index.core.node_parser import SimpleNodeParser\n",
    "from pathlib import Path\n",
    "import pandas as pd\n",
    "\n",
    "loader = WikipediaReader()\n",
    "documents = loader.load_data(pages=[\"swear words\"])\n",
    "parser = SimpleNodeParser.from_defaults()\n",
    "nodes = parser.get_nodes_from_documents(documents)\n",
    "\n",
    "#for node in nodes:\n",
    "#    print(node.text)\n",
    "#    print(\"+++\")\n"
   ]
  },
  {
   "cell_type": "markdown",
   "id": "bf8e829e-b51b-4610-8d4c-7cc537672320",
   "metadata": {},
   "source": [
    "## Convert llama-index nodes to rows in parquet table"
   ]
  },
  {
   "cell_type": "code",
   "execution_count": null,
   "id": "52d15192-8aed-483a-8b07-a8d5f278a739",
   "metadata": {},
   "outputs": [],
   "source": [
    "# convert llama-index node metedata keys to table columns\n",
    "idx=0\n",
    "data={}\n",
    "data[\"contents\"]=[]\n",
    "idx=0\n",
    "for node in nodes:\n",
    "    # convert node metadata keys to columns\n",
    "    for k, v in node.metadata.items():\n",
    "        if idx==0:\n",
    "            data[k]=[v]\n",
    "        else:\n",
    "            data[k].append(v)\n",
    "    data[\"contents\"].append(node.text)\n",
    "    idx=idx+1\n",
    "df = pd.DataFrame.from_dict(data)"
   ]
  },
  {
   "cell_type": "markdown",
   "id": "dbadbc21-5f2f-43e3-bf4f-032c06f13ffd",
   "metadata": {},
   "source": [
    "## Save the parquet file"
   ]
  },
  {
   "cell_type": "code",
   "execution_count": null,
   "id": "a7b5fa30-8479-47fb-82cb-fb1261cc303d",
   "metadata": {},
   "outputs": [],
   "source": [
    "df.to_parquet(output_folder+'out.parquet')"
   ]
  },
  {
   "cell_type": "markdown",
   "id": "ae2b518a-0147-4ea1-a320-7860bf38e10e",
   "metadata": {},
   "source": [
    "## Run DPK transforms to remove chuncks with bad words."
   ]
  },
  {
   "cell_type": "markdown",
   "id": "b27bd7ad-894e-456c-907a-0a1171c6d708",
   "metadata": {},
   "source": [
    "### Apply DPK Doc quality"
   ]
  },
  {
   "cell_type": "code",
   "execution_count": null,
   "id": "f9859f05-f2de-4924-a43d-daba376dd93f",
   "metadata": {},
   "outputs": [],
   "source": [
    "from dpk_doc_quality.transform_python import DocQuality\n",
    "DocQuality(input_folder=output_folder,\n",
    "            output_folder= output_folder+'docq',\n",
    "            docq_text_lang = \"en\",\n",
    "            docq_doc_content_column =\"contents\").transform()\n",
    "\n"
   ]
  },
  {
   "cell_type": "markdown",
   "id": "4fd649c5-ba9e-4192-826e-35e29bb179f9",
   "metadata": {},
   "source": [
    "### Print the output"
   ]
  },
  {
   "cell_type": "code",
   "execution_count": null,
   "id": "4b2c3409-488c-40c0-ba3d-6af34476adcd",
   "metadata": {},
   "outputs": [],
   "source": [
    "from my_utils import read_parquet_files_as_df\n",
    "\n",
    "output_df = read_parquet_files_as_df(output_folder+'docq')\n",
    "\n",
    "output_df[['contents','docq_contain_bad_word']]"
   ]
  },
  {
   "cell_type": "markdown",
   "id": "87bda2a3-1fa4-4755-80ec-6025d0d1db26",
   "metadata": {},
   "source": [
    "### Apply DPK Filtering"
   ]
  },
  {
   "cell_type": "code",
   "execution_count": null,
   "id": "119b3bae-75f8-4276-a778-f142bed324f3",
   "metadata": {},
   "outputs": [],
   "source": [
    "# remove rows with bad words\n",
    "from dpk_filter.transform_python import Filter\n",
    "Filter(input_folder= output_folder+'docq',\n",
    "        output_folder= output_folder+'filter',\n",
    "        filter_criteria_list= [\n",
    "            \"NOT docq_contain_bad_word\",\n",
    "        ],\n",
    "       ).transform()"
   ]
  },
  {
   "cell_type": "markdown",
   "id": "2be1d871-39a1-4e44-81cc-a74759b58223",
   "metadata": {},
   "source": [
    "### Inspect Generated Output File"
   ]
  },
  {
   "cell_type": "code",
   "execution_count": null,
   "id": "470f039e-1b7a-438d-b7d4-75f4b60a0c2d",
   "metadata": {},
   "outputs": [],
   "source": [
    "os.environ[\"TOKENIZERS_PARALLELISM\"] = \"false\"\n",
    "!wget -O 'my_utils.py'  'https://raw.githubusercontent.com/IBM/data-prep-kit/dev/examples/notebooks/intro/my_utils.py'"
   ]
  },
  {
   "cell_type": "code",
   "execution_count": null,
   "id": "0de240e5-b6cd-4deb-aa41-1426be64d6aa",
   "metadata": {},
   "outputs": [],
   "source": [
    "from my_utils import read_parquet_files_as_df\n",
    "\n",
    "output_df = read_parquet_files_as_df(output_folder+'filter')\n",
    "\n",
    "print (\"Output data dimensions (rows x columns)= \", output_df.shape)\n",
    "\n",
    "output_df"
   ]
  },
  {
   "cell_type": "markdown",
   "id": "8f22ddb1-7bd8-4372-951b-8a7d4f885ec1",
   "metadata": {},
   "source": [
    "### Apply DPK text encoding"
   ]
  },
  {
   "cell_type": "code",
   "execution_count": null,
   "id": "3669610d-a11c-4086-ba78-622c8fc43b03",
   "metadata": {},
   "outputs": [],
   "source": [
    "%pip install -qq -U ipywidgets"
   ]
  },
  {
   "cell_type": "code",
   "execution_count": null,
   "id": "548ce6b0-1447-4129-8ee2-8e6179976051",
   "metadata": {},
   "outputs": [],
   "source": [
    "from dpk_text_encoder.transform_python import TextEncoder\n",
    "from data_processing.utils import GB\n",
    "\n",
    "x=TextEncoder(input_folder= output_folder+'filter', \n",
    "               output_folder= output_folder+'encoding', \n",
    "               text_encoder_model_name = 'BAAI/bge-small-en-v1.5').transform()"
   ]
  },
  {
   "cell_type": "code",
<<<<<<< HEAD
   "execution_count": null,
   "id": "1506fa74-3a40-41cc-bf00-17899b18afcf",
   "metadata": {},
   "outputs": [],
=======
   "execution_count": 12,
   "id": "1506fa74-3a40-41cc-bf00-17899b18afcf",
   "metadata": {},
   "outputs": [
    {
     "name": "stdout",
     "output_type": "stream",
     "text": [
      "Output data dimensions (rows x columns)=  (4, 13)\n"
     ]
    },
    {
     "data": {
      "text/html": [
       "<div>\n",
       "<style scoped>\n",
       "    .dataframe tbody tr th:only-of-type {\n",
       "        vertical-align: middle;\n",
       "    }\n",
       "\n",
       "    .dataframe tbody tr th {\n",
       "        vertical-align: top;\n",
       "    }\n",
       "\n",
       "    .dataframe thead th {\n",
       "        text-align: right;\n",
       "    }\n",
       "</style>\n",
       "<table border=\"1\" class=\"dataframe\">\n",
       "  <thead>\n",
       "    <tr style=\"text-align: right;\">\n",
       "      <th></th>\n",
       "      <th>contents</th>\n",
       "      <th>docq_total_words</th>\n",
       "      <th>docq_mean_word_len</th>\n",
       "      <th>docq_symbol_to_word_ratio</th>\n",
       "      <th>docq_sentence_count</th>\n",
       "      <th>docq_lorem_ipsum_ratio</th>\n",
       "      <th>docq_curly_bracket_ratio</th>\n",
       "      <th>docq_contain_bad_word</th>\n",
       "      <th>docq_bullet_point_ratio</th>\n",
       "      <th>docq_ellipsis_line_ratio</th>\n",
       "      <th>docq_alphabet_word_ratio</th>\n",
       "      <th>docq_contain_common_en_words</th>\n",
       "      <th>embeddings</th>\n",
       "    </tr>\n",
       "  </thead>\n",
       "  <tbody>\n",
       "    <tr>\n",
       "      <th>0</th>\n",
       "      <td>=== Pakistan ===\\nPolitical leaders in Pakista...</td>\n",
       "      <td>793</td>\n",
       "      <td>5.104666</td>\n",
       "      <td>0.0</td>\n",
       "      <td>30</td>\n",
       "      <td>0.0</td>\n",
       "      <td>0.0</td>\n",
       "      <td>False</td>\n",
       "      <td>0.0</td>\n",
       "      <td>0.0</td>\n",
       "      <td>0.959647</td>\n",
       "      <td>True</td>\n",
       "      <td>[-0.038121343, -0.03633737, 0.03001021, -0.034...</td>\n",
       "    </tr>\n",
       "    <tr>\n",
       "      <th>1</th>\n",
       "      <td>== Religious views ==\\n\\n\\n=== Judaism ===\\nRa...</td>\n",
       "      <td>460</td>\n",
       "      <td>5.093478</td>\n",
       "      <td>0.0</td>\n",
       "      <td>23</td>\n",
       "      <td>0.0</td>\n",
       "      <td>0.0</td>\n",
       "      <td>False</td>\n",
       "      <td>0.0</td>\n",
       "      <td>0.0</td>\n",
       "      <td>0.952174</td>\n",
       "      <td>True</td>\n",
       "      <td>[0.0014923534, 0.04133316, 0.010005907, -0.015...</td>\n",
       "    </tr>\n",
       "    <tr>\n",
       "      <th>2</th>\n",
       "      <td>=== Islam ===\\nAccording to Ayatullah Ibrahim ...</td>\n",
       "      <td>264</td>\n",
       "      <td>7.416667</td>\n",
       "      <td>0.0</td>\n",
       "      <td>78</td>\n",
       "      <td>0.0</td>\n",
       "      <td>0.0</td>\n",
       "      <td>False</td>\n",
       "      <td>0.0</td>\n",
       "      <td>0.0</td>\n",
       "      <td>0.825758</td>\n",
       "      <td>True</td>\n",
       "      <td>[-0.048527546, 0.008751696, -0.028325684, 0.01...</td>\n",
       "    </tr>\n",
       "    <tr>\n",
       "      <th>3</th>\n",
       "      <td>== Further reading ==\\nAlmond, Ian (2003). \"De...</td>\n",
       "      <td>265</td>\n",
       "      <td>6.033962</td>\n",
       "      <td>0.0</td>\n",
       "      <td>51</td>\n",
       "      <td>0.0</td>\n",
       "      <td>0.0</td>\n",
       "      <td>False</td>\n",
       "      <td>0.0</td>\n",
       "      <td>0.0</td>\n",
       "      <td>0.852830</td>\n",
       "      <td>True</td>\n",
       "      <td>[-0.038133983, -0.007959435, 0.016050057, 0.01...</td>\n",
       "    </tr>\n",
       "  </tbody>\n",
       "</table>\n",
       "</div>"
      ],
      "text/plain": [
       "                                            contents  docq_total_words  \\\n",
       "0  === Pakistan ===\\nPolitical leaders in Pakista...               793   \n",
       "1  == Religious views ==\\n\\n\\n=== Judaism ===\\nRa...               460   \n",
       "2  === Islam ===\\nAccording to Ayatullah Ibrahim ...               264   \n",
       "3  == Further reading ==\\nAlmond, Ian (2003). \"De...               265   \n",
       "\n",
       "   docq_mean_word_len  docq_symbol_to_word_ratio  docq_sentence_count  \\\n",
       "0            5.104666                        0.0                   30   \n",
       "1            5.093478                        0.0                   23   \n",
       "2            7.416667                        0.0                   78   \n",
       "3            6.033962                        0.0                   51   \n",
       "\n",
       "   docq_lorem_ipsum_ratio  docq_curly_bracket_ratio  docq_contain_bad_word  \\\n",
       "0                     0.0                       0.0                  False   \n",
       "1                     0.0                       0.0                  False   \n",
       "2                     0.0                       0.0                  False   \n",
       "3                     0.0                       0.0                  False   \n",
       "\n",
       "   docq_bullet_point_ratio  docq_ellipsis_line_ratio  \\\n",
       "0                      0.0                       0.0   \n",
       "1                      0.0                       0.0   \n",
       "2                      0.0                       0.0   \n",
       "3                      0.0                       0.0   \n",
       "\n",
       "   docq_alphabet_word_ratio  docq_contain_common_en_words  \\\n",
       "0                  0.959647                          True   \n",
       "1                  0.952174                          True   \n",
       "2                  0.825758                          True   \n",
       "3                  0.852830                          True   \n",
       "\n",
       "                                          embeddings  \n",
       "0  [-0.038121343, -0.03633737, 0.03001021, -0.034...  \n",
       "1  [0.0014923534, 0.04133316, 0.010005907, -0.015...  \n",
       "2  [-0.048527546, 0.008751696, -0.028325684, 0.01...  \n",
       "3  [-0.038133983, -0.007959435, 0.016050057, 0.01...  "
      ]
     },
     "execution_count": 12,
     "metadata": {},
     "output_type": "execute_result"
    }
   ],
>>>>>>> 995c4dc4 (noteboos with outputs)
   "source": [
    "from my_utils import read_parquet_files_as_df\n",
    "\n",
    "output_df = read_parquet_files_as_df(output_folder+'encoding')\n",
    "\n",
    "print (\"Output data dimensions (rows x columns)= \", output_df.shape)\n",
    "\n",
    "output_df"
   ]
  },
  {
   "cell_type": "markdown",
   "id": "33cb2b23-0b63-4779-a43e-5cee14116d94",
   "metadata": {},
   "source": [
    "## Load Processed Data into Vector Database\n",
    "### ref: https://github.com/IBM/data-prep-kit/blob/dev/examples/notebooks/rag/rag_1B_load_data_into_milvus.ipynb"
   ]
  },
  {
   "cell_type": "markdown",
   "id": "7d25b2d8-9415-4ccd-8a38-1a5c0a57f2e5",
   "metadata": {},
   "source": [
    "### Load Parquet Data"
   ]
  },
  {
   "cell_type": "code",
   "execution_count": null,
   "id": "faf9b156-7ccf-48d5-9a68-a2461573dd12",
   "metadata": {},
   "outputs": [],
   "source": [
    "import pandas as pd\n",
    "import glob\n",
    "\n",
    "print ('Loading data from : ', output_folder+'encoding')\n",
    "\n",
    "data_df = read_parquet_files_as_df(output_folder+'encoding')\n",
    "\n",
    "print (f\"\\nTotal number of rows = {data_df.shape[0]}\")"
   ]
  },
  {
   "cell_type": "code",
   "execution_count": null,
   "id": "c5a6d06a-41b2-450d-b46d-90cd2510383f",
   "metadata": {},
   "outputs": [],
   "source": [
    "## Shape the data\n",
    "\n",
    "EMBEDDING_LENGTH =  len(data_df.iloc[0]['embeddings'])\n",
    "print ('embedding length: ', EMBEDDING_LENGTH)\n",
    "\n",
    "# rename 'embeddings' columns as 'vector' to match default schema\n",
    "# if 'vector' not in data_df.columns and 'embeddings' in data_df.columns:\n",
    "#     data_df = data_df.rename( columns= {'embeddings' : 'vector'})\n",
    "# if 'text' not in data_df.columns and 'contents' in data_df.columns:\n",
    "#     data_df = data_df.rename( columns= {'contents' : 'text'})\n",
    "\n",
    "data_df = data_df.rename( columns= {'embeddings' : 'vector', 'contents' : 'text'})\n",
    "\n",
    "print (data_df.info())\n",
    "data_df.head(3)"
   ]
  },
  {
   "cell_type": "markdown",
   "id": "6ab59090-b8c5-49f3-9657-15b7c69c072d",
   "metadata": {},
   "source": [
    "### Connect to Vector Database"
   ]
  },
  {
   "cell_type": "code",
   "execution_count": null,
   "id": "c87bd5e1-f96a-41cd-995a-6a8731275889",
   "metadata": {},
   "outputs": [],
   "source": [
    "%pip install -qq -U pymilvus\n",
    "%pip install -qq pymilvus[model]"
   ]
  },
  {
   "cell_type": "code",
   "execution_count": null,
   "id": "41731402-12d2-4242-aab5-757b93693e88",
   "metadata": {},
   "outputs": [],
   "source": [
    "from pymilvus import MilvusClient\n",
    "\n",
    "milvus_client = MilvusClient(\"./milvus_demo.db\")\n",
    "\n",
    "print (\"✅ Connected to Milvus instance:\", \"./milvus_demo.db\")"
   ]
  },
  {
   "cell_type": "markdown",
   "id": "a8704d95-ffb6-45de-9f51-f4202faae8c6",
   "metadata": {},
   "source": [
    "### Create A Collection"
   ]
  },
  {
   "cell_type": "code",
   "execution_count": null,
   "id": "e4cb2d19-fa72-4ab9-b83f-e45672714e86",
   "metadata": {},
   "outputs": [],
   "source": [
    "COLLECTION_NAME=\"test\"\n",
    "if milvus_client.has_collection(collection_name=COLLECTION_NAME):\n",
    "    milvus_client.drop_collection(collection_name=COLLECTION_NAME)\n",
    "    print ('✅ Cleared collection :', COLLECTION_NAME)\n",
    "\n",
    "\n",
    "milvus_client.create_collection(\n",
    "    collection_name=COLLECTION_NAME,\n",
    "    dimension=EMBEDDING_LENGTH,\n",
    "    metric_type=\"IP\",  # Inner product distance\n",
    "    consistency_level=\"Strong\",  # Strong consistency level\n",
    "    auto_id=True\n",
    ")\n",
    "print (\"✅ Created collection :\", COLLECTION_NAME)"
   ]
  },
  {
   "cell_type": "code",
   "execution_count": null,
   "id": "a577f90d-1295-4e21-8aaa-eecdc996013d",
   "metadata": {},
   "outputs": [],
   "source": [
    "res = milvus_client.insert(collection_name=COLLECTION_NAME, data=data_df.to_dict('records'))\n",
    "\n",
    "print('inserted # rows', res['insert_count'])\n",
    "\n",
    "milvus_client.get_collection_stats(COLLECTION_NAME)"
   ]
  },
  {
   "cell_type": "markdown",
   "id": "d95ca5ba-4733-4353-bfef-610a8f9535eb",
   "metadata": {},
   "source": [
    "### Close DB Connection"
   ]
  },
  {
   "cell_type": "code",
   "execution_count": null,
   "id": "e6fec788-86f6-4533-9339-bb0010e8dd10",
   "metadata": {},
   "outputs": [],
   "source": [
    "milvus_client.close()\n",
    "\n",
    "print (\"✅ SUCCESS\")"
   ]
  }
 ],
 "metadata": {
  "kernelspec": {
   "display_name": "venv",
   "language": "python",
   "name": "venv"
  },
  "language_info": {
   "codemirror_mode": {
    "name": "ipython",
    "version": 3
   },
   "file_extension": ".py",
   "mimetype": "text/x-python",
   "name": "python",
   "nbconvert_exporter": "python",
   "pygments_lexer": "ipython3",
   "version": "3.11.9"
  }
 },
 "nbformat": 4,
 "nbformat_minor": 5
}
