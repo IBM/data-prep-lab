{
 "cells": [
  {
   "cell_type": "markdown",
   "id": "841e533d-ebb3-406d-9da7-b19e2c5f5866",
   "metadata": {},
   "source": [
    "<div style=\"background-color: #04D7FD; padding: 20px; text-align: left;\">\n",
    "    <h1 style=\"color: #000000; font-size: 36px; margin: 0;\">Data Processing for RAG with Data Prep Kit (Python)</h1>\n",
    "    \n",
    "</div>\n"
   ]
  },
  {
   "cell_type": "markdown",
   "id": "b15976e3",
   "metadata": {},
   "source": [
    "## Before Running the notebook\n",
    "\n",
    "Please complete [setting up python dev environment](./setup-python-dev-env.md)"
   ]
  },
  {
   "cell_type": "markdown",
   "id": "053ecf08-5f62-4b99-9347-8a0955843d21",
   "metadata": {},
   "source": [
    "## Overview\n",
    "\n",
    "This notebook will process PDF documents as part of RAG pipeline\n",
    "\n",
    "TODO : update diagram\n",
    "\n",
    "![](media/rag-overview-2.png)\n",
    "\n",
    "This notebook will perform steps 1, 2 and 3 in RAG pipeline.\n",
    "\n",
    "Here are the processing steps:\n",
    "\n",
    "- **pdf2parquet** : Extract text (in markdown format) from PDF and store them as parquet files\n",
    "- **Exact Dedup**: Documents with exact content are filtered out\n",
    "- **Chunk documents**: Split the PDFs into 'meaningful sections' (paragraphs, sentences ..etc)\n",
    "- **Text encoder**: Convert chunks into vectors using embedding models"
   ]
  },
  {
   "cell_type": "markdown",
   "id": "e8b10be1",
   "metadata": {},
   "source": [
    "## Step-1: Configuration"
   ]
  },
  {
   "cell_type": "code",
   "execution_count": 1,
   "id": "33345487",
   "metadata": {},
   "outputs": [],
   "source": [
    "from my_config import MY_CONFIG"
   ]
  },
  {
   "cell_type": "markdown",
   "id": "facb3bbc",
   "metadata": {},
   "source": [
    "## Step-2:  Data\n",
    "\n",
    "We will use white papers  about LLMs.  \n",
    "\n",
    "- [Granite Code Models](https://arxiv.org/abs/2405.04324)\n",
    "- [Attention is all you need](https://arxiv.org/abs/1706.03762)\n",
    "\n",
    "You can of course substite your own data below"
   ]
  },
  {
   "cell_type": "markdown",
   "id": "f1fe7c0c",
   "metadata": {},
   "source": [
    "### 2.1 - Download data"
   ]
  },
  {
   "cell_type": "code",
   "execution_count": 2,
   "id": "8739b7a2",
   "metadata": {},
   "outputs": [
    {
     "name": "stdout",
     "output_type": "stream",
     "text": [
      "✅ Cleared input directory\n",
      "\n",
      "input/attention.pdf (2.22 MB) downloaded successfully.\n",
      "\n",
      "input/granite.pdf (1.27 MB) downloaded successfully.\n"
     ]
    }
   ],
   "source": [
    "import os, sys\n",
    "import shutil\n",
    "from utils import download_file\n",
    "\n",
    "shutil.rmtree(MY_CONFIG.INPUT_DATA_DIR, ignore_errors=True)\n",
    "shutil.os.makedirs(MY_CONFIG.INPUT_DATA_DIR, exist_ok=True)\n",
    "print (\"✅ Cleared input directory\")\n",
    " \n",
    "download_file (url = 'https://arxiv.org/pdf/1706.03762', local_file = os.path.join(MY_CONFIG.INPUT_DATA_DIR, 'attention.pdf' ))\n",
    "download_file (url = 'https://arxiv.org/pdf/2405.04324', local_file = os.path.join(MY_CONFIG.INPUT_DATA_DIR, 'granite.pdf' ))\n",
    "# download_file (url = 'https://arxiv.org/pdf/2405.04324', local_file = os.path.join(MY_CONFIG.INPUT_DATA_DIR, 'granite2.pdf' )) # duplicate\n"
   ]
  },
  {
   "cell_type": "markdown",
   "id": "72510ae6-48b0-4b88-9e13-a623281c3a63",
   "metadata": {},
   "source": [
    "### 2.2 - Set input/output path variables for the pipeline"
   ]
  },
  {
   "cell_type": "code",
   "execution_count": 3,
   "id": "60ac8bee-0960-4309-b225-d7a211b14262",
   "metadata": {},
   "outputs": [
    {
     "name": "stdout",
     "output_type": "stream",
     "text": [
      "✅ Cleared output directory\n"
     ]
    }
   ],
   "source": [
    "import os, sys\n",
    "import shutil\n",
    "\n",
    "if not os.path.exists(MY_CONFIG.INPUT_DATA_DIR ):\n",
    "    raise Exception (f\"❌ Input folder MY_CONFIG.INPUT_DATA_DIR = '{MY_CONFIG.INPUT_DATA_DIR}' not found\")\n",
    "\n",
    "output_parquet_dir = os.path.join (MY_CONFIG.OUTPUT_FOLDER, '01_parquet_out')\n",
    "output_exact_dedupe_dir = os.path.join (MY_CONFIG.OUTPUT_FOLDER, '02_dedupe_out')\n",
    "output_chunk_dir = os.path.join (MY_CONFIG.OUTPUT_FOLDER, '03_chunk_out')\n",
    "output_embeddings_dir = os.path.join (MY_CONFIG.OUTPUT_FOLDER, '04_embeddings_out')\n",
    "\n",
    "## clear output folder\n",
    "shutil.rmtree(MY_CONFIG.OUTPUT_FOLDER, ignore_errors=True)\n",
    "shutil.os.makedirs(MY_CONFIG.OUTPUT_FOLDER, exist_ok=True)\n",
    "\n",
    "print (\"✅ Cleared output directory\")"
   ]
  },
  {
   "cell_type": "markdown",
   "id": "2449e5c7-078c-4ad6-a2f6-21d39d4da3fb",
   "metadata": {},
   "source": [
    "## Step-3: pdf2parquet -  Convert data from PDF to Parquet\n",
    "\n",
    "This step is reading the input folder containing all PDF files and ingest them in a parquet table using the [Docling package](https://github.com/DS4SD/docling).\n",
    "The documents are converted into a JSON format which allows to easily chunk it in the later steps.\n",
    "\n"
   ]
  },
  {
   "cell_type": "markdown",
   "id": "9bb15f02-ab5c-4525-a536-cfa1fd2ba70b",
   "metadata": {},
   "source": [
    "### 3.1 - Execute "
   ]
  },
  {
   "cell_type": "code",
   "execution_count": 4,
   "id": "4b101999",
   "metadata": {},
   "outputs": [
    {
     "name": "stdout",
     "output_type": "stream",
     "text": [
      "🏃🏼 STAGE-1: Processing input='input' --> output='output/01_parquet_out'\n",
      "\n"
     ]
    },
    {
     "name": "stderr",
     "output_type": "stream",
     "text": [
      "23:46:12 INFO - pdf2parquet parameters are : {'batch_size': -1, 'artifacts_path': None, 'contents_type': <pdf2parquet_contents_types.JSON: 'application/json'>, 'do_table_structure': True, 'do_ocr': True, 'ocr_engine': <pdf2parquet_ocr_engine.EASYOCR: 'easyocr'>, 'bitmap_area_threshold': 0.05, 'pdf_backend': <pdf2parquet_pdf_backend.DLPARSE_V2: 'dlparse_v2'>, 'double_precision': 8}\n",
      "23:46:12 INFO - pipeline id pipeline_id\n",
      "23:46:12 INFO - code location None\n",
      "23:46:12 INFO - data factory data_ is using local data access: input_folder - input output_folder - output/01_parquet_out\n",
      "23:46:12 INFO - data factory data_ max_files -1, n_sample -1\n",
      "23:46:12 INFO - data factory data_ Not using data sets, checkpointing False, max files -1, random samples -1, files to use ['.pdf'], files to checkpoint ['.parquet']\n",
      "23:46:12 INFO - orchestrator pdf2parquet started at 2025-01-09 23:46:12\n",
      "23:46:12 INFO - Number of files is 2, source profile {'max_file_size': 2.112621307373047, 'min_file_size': 1.2146415710449219, 'total_file_size': 3.3272628784179688}\n",
      "23:46:12 INFO - Initializing models\n"
     ]
    },
    {
     "data": {
      "application/vnd.jupyter.widget-view+json": {
       "model_id": "e1fb1e7aa7c1431383c9bc95179c62d6",
       "version_major": 2,
       "version_minor": 0
      },
      "text/plain": [
       "Fetching 9 files:   0%|          | 0/9 [00:00<?, ?it/s]"
      ]
     },
     "metadata": {},
     "output_type": "display_data"
    },
    {
     "name": "stdout",
     "output_type": "stream",
     "text": [
      "ERR#: COULD NOT CONVERT TO RS THIS TABLE TO COMPUTE SPANS\n"
     ]
    },
    {
     "name": "stderr",
     "output_type": "stream",
     "text": [
      "23:46:31 INFO - Completed 1 files (50.0%) in 0.247 min\n",
      "23:47:00 INFO - Completed 2 files (100.0%) in 0.741 min\n",
      "23:47:00 INFO - Done processing 2 files, waiting for flush() completion.\n",
      "23:47:00 INFO - done flushing in 0.0 sec\n",
      "23:47:00 INFO - Completed execution in 0.812 min, execution result 0\n"
     ]
    },
    {
     "name": "stdout",
     "output_type": "stream",
     "text": [
      "✅ Stage:1 completed successfully\n",
      "CPU times: user 2min 4s, sys: 8.53 s, total: 2min 13s\n",
      "Wall time: 53 s\n"
     ]
    }
   ],
   "source": [
    "%%time \n",
    "\n",
    "from dpk_pdf2parquet.transform_python import Pdf2Parquet\n",
    "\n",
    "STAGE = 1 \n",
    "print (f\"🏃🏼 STAGE-{STAGE}: Processing input='{MY_CONFIG.INPUT_DATA_DIR}' --> output='{output_parquet_dir}'\\n\", flush=True)\n",
    "\n",
    "result = Pdf2Parquet(input_folder= MY_CONFIG.INPUT_DATA_DIR,\n",
    "               output_folder= output_parquet_dir,\n",
    "               data_files_to_use=['.pdf'],\n",
    "               pdf2parquet_contents_type='application/json'\n",
    "            #    pdf2parquet_contents_type='text/markdown'\n",
    "               ).transform()\n",
    "\n",
    "if result == 0:\n",
    "    print (f\"✅ Stage:{STAGE} completed successfully\")\n",
    "else:\n",
    "    raise Exception (f\"❌ Stage:{STAGE}  failed\")"
   ]
  },
  {
   "cell_type": "markdown",
   "id": "5ca790e0",
   "metadata": {},
   "source": [
    "### 3.2 -  Inspect Generated output\n",
    "\n",
    "Here we should see one entry per input file processed"
   ]
  },
  {
   "cell_type": "code",
   "execution_count": 5,
   "id": "fe59563d",
   "metadata": {},
   "outputs": [
    {
     "data": {
      "text/html": [
       "<div>\n",
       "<style scoped>\n",
       "    .dataframe tbody tr th:only-of-type {\n",
       "        vertical-align: middle;\n",
       "    }\n",
       "\n",
       "    .dataframe tbody tr th {\n",
       "        vertical-align: top;\n",
       "    }\n",
       "\n",
       "    .dataframe thead th {\n",
       "        text-align: right;\n",
       "    }\n",
       "</style>\n",
       "<table border=\"1\" class=\"dataframe\">\n",
       "  <thead>\n",
       "    <tr style=\"text-align: right;\">\n",
       "      <th></th>\n",
       "      <th>filename</th>\n",
       "      <th>contents</th>\n",
       "      <th>num_pages</th>\n",
       "      <th>num_tables</th>\n",
       "      <th>num_doc_elements</th>\n",
       "      <th>document_id</th>\n",
       "      <th>document_hash</th>\n",
       "      <th>ext</th>\n",
       "      <th>hash</th>\n",
       "      <th>size</th>\n",
       "      <th>date_acquired</th>\n",
       "      <th>pdf_convert_time</th>\n",
       "      <th>source_filename</th>\n",
       "    </tr>\n",
       "  </thead>\n",
       "  <tbody>\n",
       "    <tr>\n",
       "      <th>0</th>\n",
       "      <td>attention.pdf</td>\n",
       "      <td>{\"schema_name\":\"DoclingDocument\",\"version\":\"1....</td>\n",
       "      <td>15</td>\n",
       "      <td>6</td>\n",
       "      <td>147</td>\n",
       "      <td>6c96cda3-508a-4e78-9a75-e5c3d658eeae</td>\n",
       "      <td>2949302674760005271</td>\n",
       "      <td>pdf</td>\n",
       "      <td>d92ccac154a730b012ad65243218741b6f59dce60ae9dd...</td>\n",
       "      <td>341129</td>\n",
       "      <td>2025-01-09T23:46:31.099708</td>\n",
       "      <td>14.772966</td>\n",
       "      <td>attention.pdf</td>\n",
       "    </tr>\n",
       "    <tr>\n",
       "      <th>1</th>\n",
       "      <td>granite.pdf</td>\n",
       "      <td>{\"schema_name\":\"DoclingDocument\",\"version\":\"1....</td>\n",
       "      <td>28</td>\n",
       "      <td>19</td>\n",
       "      <td>295</td>\n",
       "      <td>26ccd99d-04a3-441f-b4a4-2c8717932dcd</td>\n",
       "      <td>3127757990743433032</td>\n",
       "      <td>pdf</td>\n",
       "      <td>ce45cd417581ff3e94d57b1a7253e301dbebd8f2deeabc...</td>\n",
       "      <td>1860416</td>\n",
       "      <td>2025-01-09T23:47:00.726998</td>\n",
       "      <td>29.563914</td>\n",
       "      <td>granite.pdf</td>\n",
       "    </tr>\n",
       "  </tbody>\n",
       "</table>\n",
       "</div>"
      ],
      "text/plain": [
       "        filename                                           contents  \\\n",
       "0  attention.pdf  {\"schema_name\":\"DoclingDocument\",\"version\":\"1....   \n",
       "1    granite.pdf  {\"schema_name\":\"DoclingDocument\",\"version\":\"1....   \n",
       "\n",
       "   num_pages  num_tables  num_doc_elements  \\\n",
       "0         15           6               147   \n",
       "1         28          19               295   \n",
       "\n",
       "                            document_id        document_hash  ext  \\\n",
       "0  6c96cda3-508a-4e78-9a75-e5c3d658eeae  2949302674760005271  pdf   \n",
       "1  26ccd99d-04a3-441f-b4a4-2c8717932dcd  3127757990743433032  pdf   \n",
       "\n",
       "                                                hash     size  \\\n",
       "0  d92ccac154a730b012ad65243218741b6f59dce60ae9dd...   341129   \n",
       "1  ce45cd417581ff3e94d57b1a7253e301dbebd8f2deeabc...  1860416   \n",
       "\n",
       "                date_acquired  pdf_convert_time source_filename  \n",
       "0  2025-01-09T23:46:31.099708         14.772966   attention.pdf  \n",
       "1  2025-01-09T23:47:00.726998         29.563914     granite.pdf  "
      ]
     },
     "execution_count": 5,
     "metadata": {},
     "output_type": "execute_result"
    }
   ],
   "source": [
    "from utils import read_parquet_files_as_df\n",
    "\n",
    "output_df = read_parquet_files_as_df(output_parquet_dir)\n",
    "\n",
    "# print (\"Output dimensions (rows x columns)= \", output_df.shape)\n",
    "\n",
    "output_df.head(5)\n",
    "\n",
    "## To display certain columns\n",
    "#parquet_df[['column1', 'column2', 'column3']].head(5)"
   ]
  },
  {
   "cell_type": "markdown",
   "id": "3f900753",
   "metadata": {},
   "source": [
    "## Step-4: Eliminate Duplicate Documents\n",
    "\n",
    "We have 2 duplicate documnets here : `granite.pdf` and `granite2.pdf`.\n",
    "\n",
    "Note how the `hash` for these documents are same.\n",
    "\n",
    "We are going to perform **de-dupe**\n",
    "\n",
    "On the content of each document, a SHA256 hash is computed, followed by de-duplication of record having identical hashes.\n",
    "\n",
    "[Dedupe transform documentation](https://github.com/IBM/data-prep-kit/blob/dev/transforms/universal/ededup/README.md)"
   ]
  },
  {
   "cell_type": "markdown",
   "id": "2ef93831",
   "metadata": {},
   "source": [
    "### 4.1 - Execute "
   ]
  },
  {
   "cell_type": "code",
   "execution_count": 6,
   "id": "1901b4a1",
   "metadata": {},
   "outputs": [
    {
     "name": "stdout",
     "output_type": "stream",
     "text": [
      "🏃🏼 STAGE-2: Processing input='output/01_parquet_out' --> output='output/02_dedupe_out'\n",
      "\n"
     ]
    },
    {
     "name": "stderr",
     "output_type": "stream",
     "text": [
      "23:47:00 INFO - exact dedup params are {'doc_column': 'contents', 'doc_id_column': 'hash', 'use_snapshot': False, 'snapshot_directory': None}\n",
      "23:47:00 INFO - pipeline id pipeline_id\n",
      "23:47:00 INFO - code location None\n",
      "23:47:00 INFO - data factory data_ is using local data access: input_folder - output/01_parquet_out output_folder - output/02_dedupe_out\n",
      "23:47:00 INFO - data factory data_ max_files -1, n_sample -1\n",
      "23:47:00 INFO - data factory data_ Not using data sets, checkpointing False, max files -1, random samples -1, files to use ['.parquet'], files to checkpoint ['.parquet']\n",
      "23:47:00 INFO - orchestrator ededup started at 2025-01-09 23:47:00\n",
      "23:47:00 INFO - Number of files is 2, source profile {'max_file_size': 0.13184070587158203, 'min_file_size': 0.03802204132080078, 'total_file_size': 0.1698627471923828}\n",
      "23:47:00 INFO - Starting from the beginning\n",
      "23:47:00 INFO - Completed 1 files (50.0%) in 0.0 min\n",
      "23:47:00 INFO - Completed 2 files (100.0%) in 0.0 min\n",
      "23:47:00 INFO - Done processing 2 files, waiting for flush() completion.\n",
      "23:47:00 INFO - done flushing in 0.0 sec\n",
      "23:47:00 INFO - Completed execution in 0.001 min, execution result 0\n"
     ]
    },
    {
     "name": "stdout",
     "output_type": "stream",
     "text": [
      "✅ Stage:2 completed successfully\n",
      "CPU times: user 41.1 ms, sys: 9.31 ms, total: 50.4 ms\n",
      "Wall time: 50.6 ms\n"
     ]
    }
   ],
   "source": [
    "%%time \n",
    "\n",
    "from dpk_ededup.transform_python import Ededup\n",
    "\n",
    "STAGE = 2\n",
    "input_df = read_parquet_files_as_df(output_parquet_dir)  ## for debug purposes\n",
    "print (f\"🏃🏼 STAGE-{STAGE}: Processing input='{output_parquet_dir}' --> output='{output_exact_dedupe_dir}'\\n\", flush=True)\n",
    "\n",
    "result = Ededup(input_folder=output_parquet_dir,\n",
    "    output_folder=output_exact_dedupe_dir,\n",
    "    ededup_doc_column=\"contents\",\n",
    "    ededup_doc_id_column=\"hash\"\n",
    "    ).transform()\n",
    "\n",
    "if result == 0:\n",
    "    print (f\"✅ Stage:{STAGE} completed successfully\")\n",
    "else:\n",
    "    raise Exception (f\"❌ Stage:{STAGE}  failed\")"
   ]
  },
  {
   "cell_type": "markdown",
   "id": "c45a59d2",
   "metadata": {},
   "source": [
    "### 4.2 - Inspect Generated output\n",
    "\n",
    "We would see 2 documents: `attention.pdf`  and `granite.pdf`.  The duplicate `granite.pdf` has been filtered out!"
   ]
  },
  {
   "cell_type": "code",
   "execution_count": 7,
   "id": "0691f08e",
   "metadata": {},
   "outputs": [
    {
     "name": "stdout",
     "output_type": "stream",
     "text": [
      "Input files before exact dedupe : 2\n",
      "Output files after exact dedupe : 2\n",
      "Duplicate files removed :   0\n"
     ]
    },
    {
     "data": {
      "text/html": [
       "<div>\n",
       "<style scoped>\n",
       "    .dataframe tbody tr th:only-of-type {\n",
       "        vertical-align: middle;\n",
       "    }\n",
       "\n",
       "    .dataframe tbody tr th {\n",
       "        vertical-align: top;\n",
       "    }\n",
       "\n",
       "    .dataframe thead th {\n",
       "        text-align: right;\n",
       "    }\n",
       "</style>\n",
       "<table border=\"1\" class=\"dataframe\">\n",
       "  <thead>\n",
       "    <tr style=\"text-align: right;\">\n",
       "      <th></th>\n",
       "      <th>filename</th>\n",
       "      <th>contents</th>\n",
       "      <th>num_pages</th>\n",
       "      <th>num_tables</th>\n",
       "      <th>num_doc_elements</th>\n",
       "      <th>document_id</th>\n",
       "      <th>document_hash</th>\n",
       "      <th>ext</th>\n",
       "      <th>hash</th>\n",
       "      <th>size</th>\n",
       "      <th>date_acquired</th>\n",
       "      <th>pdf_convert_time</th>\n",
       "      <th>source_filename</th>\n",
       "      <th>removed</th>\n",
       "    </tr>\n",
       "  </thead>\n",
       "  <tbody>\n",
       "    <tr>\n",
       "      <th>1</th>\n",
       "      <td>granite.pdf</td>\n",
       "      <td>{\"schema_name\":\"DoclingDocument\",\"version\":\"1....</td>\n",
       "      <td>28</td>\n",
       "      <td>19</td>\n",
       "      <td>295</td>\n",
       "      <td>26ccd99d-04a3-441f-b4a4-2c8717932dcd</td>\n",
       "      <td>3127757990743433032</td>\n",
       "      <td>pdf</td>\n",
       "      <td>ce45cd417581ff3e94d57b1a7253e301dbebd8f2deeabc...</td>\n",
       "      <td>1860416</td>\n",
       "      <td>2025-01-09T23:47:00.726998</td>\n",
       "      <td>29.563914</td>\n",
       "      <td>granite.pdf</td>\n",
       "      <td>[]</td>\n",
       "    </tr>\n",
       "    <tr>\n",
       "      <th>0</th>\n",
       "      <td>attention.pdf</td>\n",
       "      <td>{\"schema_name\":\"DoclingDocument\",\"version\":\"1....</td>\n",
       "      <td>15</td>\n",
       "      <td>6</td>\n",
       "      <td>147</td>\n",
       "      <td>6c96cda3-508a-4e78-9a75-e5c3d658eeae</td>\n",
       "      <td>2949302674760005271</td>\n",
       "      <td>pdf</td>\n",
       "      <td>d92ccac154a730b012ad65243218741b6f59dce60ae9dd...</td>\n",
       "      <td>341129</td>\n",
       "      <td>2025-01-09T23:46:31.099708</td>\n",
       "      <td>14.772966</td>\n",
       "      <td>attention.pdf</td>\n",
       "      <td>[]</td>\n",
       "    </tr>\n",
       "  </tbody>\n",
       "</table>\n",
       "</div>"
      ],
      "text/plain": [
       "        filename                                           contents  \\\n",
       "1    granite.pdf  {\"schema_name\":\"DoclingDocument\",\"version\":\"1....   \n",
       "0  attention.pdf  {\"schema_name\":\"DoclingDocument\",\"version\":\"1....   \n",
       "\n",
       "   num_pages  num_tables  num_doc_elements  \\\n",
       "1         28          19               295   \n",
       "0         15           6               147   \n",
       "\n",
       "                            document_id        document_hash  ext  \\\n",
       "1  26ccd99d-04a3-441f-b4a4-2c8717932dcd  3127757990743433032  pdf   \n",
       "0  6c96cda3-508a-4e78-9a75-e5c3d658eeae  2949302674760005271  pdf   \n",
       "\n",
       "                                                hash     size  \\\n",
       "1  ce45cd417581ff3e94d57b1a7253e301dbebd8f2deeabc...  1860416   \n",
       "0  d92ccac154a730b012ad65243218741b6f59dce60ae9dd...   341129   \n",
       "\n",
       "                date_acquired  pdf_convert_time source_filename removed  \n",
       "1  2025-01-09T23:47:00.726998         29.563914     granite.pdf      []  \n",
       "0  2025-01-09T23:46:31.099708         14.772966   attention.pdf      []  "
      ]
     },
     "execution_count": 7,
     "metadata": {},
     "output_type": "execute_result"
    }
   ],
   "source": [
    "from utils import read_parquet_files_as_df\n",
    "\n",
    "output_df = read_parquet_files_as_df(output_exact_dedupe_dir)\n",
    "\n",
    "# print (\"Input data dimensions (rows x columns)= \", input_df.shape)\n",
    "# print (\"Output data dimensions (rows x columns)= \", output_df.shape)\n",
    "print (f\"Input files before exact dedupe : {input_df.shape[0]:,}\")\n",
    "print (f\"Output files after exact dedupe : {output_df.shape[0]:,}\")\n",
    "print (\"Duplicate files removed :  \", (input_df.shape[0] - output_df.shape[0]))\n",
    "\n",
    "output_df.sample(min(3, output_df.shape[0]))"
   ]
  },
  {
   "cell_type": "markdown",
   "id": "72274586",
   "metadata": {},
   "source": [
    "##  Step-5: Doc chunks\n",
    "\n",
    "Split the documents in chunks.\n",
    "\n",
    "[Chunking transform documentation](https://github.com/IBM/data-prep-kit/blob/dev/transforms/language/doc_chunk/README.md)"
   ]
  },
  {
   "cell_type": "markdown",
   "id": "369f2cd1",
   "metadata": {},
   "source": [
    "### 5.1 - Execute "
   ]
  },
  {
   "cell_type": "code",
   "execution_count": 8,
   "id": "2cfbf532",
   "metadata": {},
   "outputs": [
    {
     "name": "stdout",
     "output_type": "stream",
     "text": [
      "🏃🏼 STAGE-3: Processing input='output/02_dedupe_out' --> output='output/03_chunk_out'\n",
      "\n"
     ]
    },
    {
     "name": "stderr",
     "output_type": "stream",
     "text": [
      "23:47:02 INFO - doc_chunk parameters are : {'chunking_type': 'dl_json', 'content_column_name': 'contents', 'doc_id_column_name': 'document_id', 'output_chunk_column_name': 'contents', 'output_source_doc_id_column_name': 'source_document_id', 'output_jsonpath_column_name': 'doc_jsonpath', 'output_pageno_column_name': 'page_number', 'output_bbox_column_name': 'bbox', 'chunk_size_tokens': 128, 'chunk_overlap_tokens': 30, 'dl_min_chunk_len': None}\n",
      "23:47:02 INFO - pipeline id pipeline_id\n",
      "23:47:02 INFO - code location None\n",
      "23:47:02 INFO - data factory data_ is using local data access: input_folder - output/02_dedupe_out output_folder - output/03_chunk_out\n",
      "23:47:02 INFO - data factory data_ max_files -1, n_sample -1\n",
      "23:47:02 INFO - data factory data_ Not using data sets, checkpointing False, max files -1, random samples -1, files to use ['.parquet'], files to checkpoint ['.parquet']\n",
      "23:47:02 INFO - orchestrator doc_chunk started at 2025-01-09 23:47:02\n",
      "23:47:02 INFO - Number of files is 2, source profile {'max_file_size': 0.13219642639160156, 'min_file_size': 0.03837776184082031, 'total_file_size': 0.17057418823242188}\n",
      "23:47:02 INFO - Completed 1 files (50.0%) in 0.001 min\n",
      "23:47:02 INFO - Completed 2 files (100.0%) in 0.003 min\n",
      "23:47:02 INFO - Done processing 2 files, waiting for flush() completion.\n",
      "23:47:02 INFO - done flushing in 0.0 sec\n",
      "23:47:02 INFO - Completed execution in 0.003 min, execution result 0\n"
     ]
    },
    {
     "name": "stdout",
     "output_type": "stream",
     "text": [
      "✅ Stage:3 completed successfully\n",
      "CPU times: user 1.22 s, sys: 183 ms, total: 1.4 s\n",
      "Wall time: 1.74 s\n"
     ]
    }
   ],
   "source": [
    "%%time\n",
    "\n",
    "from dpk_doc_chunk.transform_python import DocChunk\n",
    "\n",
    "STAGE = 3\n",
    "input_df = read_parquet_files_as_df(output_exact_dedupe_dir)  ## for debug purposes\n",
    "print (f\"🏃🏼 STAGE-{STAGE}: Processing input='{output_exact_dedupe_dir}' --> output='{output_chunk_dir}'\\n\", flush=True)\n",
    "\n",
    "\n",
    "result = DocChunk(input_folder=output_exact_dedupe_dir,\n",
    "        output_folder=output_chunk_dir,\n",
    "        # doc_chunk_chunking_type= \"li_markdown\",\n",
    "        doc_chunk_chunking_type= \"dl_json\",\n",
    "        doc_chunk_chunk_size_tokens = 256,\n",
    "        doc_chunk_chunk_overlap_tokens=20\n",
    "        ).transform()\n",
    "\n",
    "if result == 0:\n",
    "    print (f\"✅ Stage:{STAGE} completed successfully\")\n",
    "else:\n",
    "    raise Exception (f\"❌ Stage:{STAGE}  failed\")"
   ]
  },
  {
   "cell_type": "markdown",
   "id": "213afdf6",
   "metadata": {},
   "source": [
    "### 5.2 - Inspect Generated output\n",
    "\n",
    "We would see documents are split into many chunks"
   ]
  },
  {
   "cell_type": "code",
   "execution_count": 9,
   "id": "d8138d43",
   "metadata": {},
   "outputs": [
    {
     "name": "stdout",
     "output_type": "stream",
     "text": [
      "Files processed : 2\n",
      "Chunks created : 390\n"
     ]
    },
    {
     "data": {
      "text/html": [
       "<div>\n",
       "<style scoped>\n",
       "    .dataframe tbody tr th:only-of-type {\n",
       "        vertical-align: middle;\n",
       "    }\n",
       "\n",
       "    .dataframe tbody tr th {\n",
       "        vertical-align: top;\n",
       "    }\n",
       "\n",
       "    .dataframe thead th {\n",
       "        text-align: right;\n",
       "    }\n",
       "</style>\n",
       "<table border=\"1\" class=\"dataframe\">\n",
       "  <thead>\n",
       "    <tr style=\"text-align: right;\">\n",
       "      <th></th>\n",
       "      <th>filename</th>\n",
       "      <th>num_pages</th>\n",
       "      <th>num_tables</th>\n",
       "      <th>num_doc_elements</th>\n",
       "      <th>document_hash</th>\n",
       "      <th>ext</th>\n",
       "      <th>hash</th>\n",
       "      <th>size</th>\n",
       "      <th>date_acquired</th>\n",
       "      <th>pdf_convert_time</th>\n",
       "      <th>source_filename</th>\n",
       "      <th>removed</th>\n",
       "      <th>source_document_id</th>\n",
       "      <th>contents</th>\n",
       "      <th>doc_jsonpath</th>\n",
       "      <th>page_number</th>\n",
       "      <th>bbox</th>\n",
       "      <th>document_id</th>\n",
       "    </tr>\n",
       "  </thead>\n",
       "  <tbody>\n",
       "    <tr>\n",
       "      <th>153</th>\n",
       "      <td>granite.pdf</td>\n",
       "      <td>28</td>\n",
       "      <td>19</td>\n",
       "      <td>295</td>\n",
       "      <td>3127757990743433032</td>\n",
       "      <td>pdf</td>\n",
       "      <td>ce45cd417581ff3e94d57b1a7253e301dbebd8f2deeabc...</td>\n",
       "      <td>1860416</td>\n",
       "      <td>2025-01-09T23:47:00.726998</td>\n",
       "      <td>29.563914</td>\n",
       "      <td>granite.pdf</td>\n",
       "      <td>[]</td>\n",
       "      <td>26ccd99d-04a3-441f-b4a4-2c8717932dcd</td>\n",
       "      <td>The pretraining code data was sourced from a c...</td>\n",
       "      <td>#/texts/40</td>\n",
       "      <td>4</td>\n",
       "      <td>[107.2206955, 373.6947937, 505.50299072, 550.2...</td>\n",
       "      <td>299b90813718972af9e698c8d96b547ea70b5ceab70b41...</td>\n",
       "    </tr>\n",
       "    <tr>\n",
       "      <th>306</th>\n",
       "      <td>granite.pdf</td>\n",
       "      <td>28</td>\n",
       "      <td>19</td>\n",
       "      <td>295</td>\n",
       "      <td>3127757990743433032</td>\n",
       "      <td>pdf</td>\n",
       "      <td>ce45cd417581ff3e94d57b1a7253e301dbebd8f2deeabc...</td>\n",
       "      <td>1860416</td>\n",
       "      <td>2025-01-09T23:47:00.726998</td>\n",
       "      <td>29.563914</td>\n",
       "      <td>granite.pdf</td>\n",
       "      <td>[]</td>\n",
       "      <td>26ccd99d-04a3-441f-b4a4-2c8717932dcd</td>\n",
       "      <td>· MATH+Py solving MATH task by writing a Pytho...</td>\n",
       "      <td>#/texts/205</td>\n",
       "      <td>19</td>\n",
       "      <td>[132.84700012, 218.51342773, 504.05380249, 251...</td>\n",
       "      <td>49af5631f23b3c372f170bf9155c9f50da690a247e803f...</td>\n",
       "    </tr>\n",
       "    <tr>\n",
       "      <th>301</th>\n",
       "      <td>granite.pdf</td>\n",
       "      <td>28</td>\n",
       "      <td>19</td>\n",
       "      <td>295</td>\n",
       "      <td>3127757990743433032</td>\n",
       "      <td>pdf</td>\n",
       "      <td>ce45cd417581ff3e94d57b1a7253e301dbebd8f2deeabc...</td>\n",
       "      <td>1860416</td>\n",
       "      <td>2025-01-09T23:47:00.726998</td>\n",
       "      <td>29.563914</td>\n",
       "      <td>granite.pdf</td>\n",
       "      <td>[]</td>\n",
       "      <td>26ccd99d-04a3-441f-b4a4-2c8717932dcd</td>\n",
       "      <td>Table 15: Performance on 4 chain-of-thought ma...</td>\n",
       "      <td>#/texts/201</td>\n",
       "      <td>19</td>\n",
       "      <td>[118.96057129, 699.65802002, 492.17700195, 710...</td>\n",
       "      <td>d5ce3a0057d0e6e0013faeb51661999feb845688f002bf...</td>\n",
       "    </tr>\n",
       "  </tbody>\n",
       "</table>\n",
       "</div>"
      ],
      "text/plain": [
       "        filename  num_pages  num_tables  num_doc_elements  \\\n",
       "153  granite.pdf         28          19               295   \n",
       "306  granite.pdf         28          19               295   \n",
       "301  granite.pdf         28          19               295   \n",
       "\n",
       "           document_hash  ext  \\\n",
       "153  3127757990743433032  pdf   \n",
       "306  3127757990743433032  pdf   \n",
       "301  3127757990743433032  pdf   \n",
       "\n",
       "                                                  hash     size  \\\n",
       "153  ce45cd417581ff3e94d57b1a7253e301dbebd8f2deeabc...  1860416   \n",
       "306  ce45cd417581ff3e94d57b1a7253e301dbebd8f2deeabc...  1860416   \n",
       "301  ce45cd417581ff3e94d57b1a7253e301dbebd8f2deeabc...  1860416   \n",
       "\n",
       "                  date_acquired  pdf_convert_time source_filename removed  \\\n",
       "153  2025-01-09T23:47:00.726998         29.563914     granite.pdf      []   \n",
       "306  2025-01-09T23:47:00.726998         29.563914     granite.pdf      []   \n",
       "301  2025-01-09T23:47:00.726998         29.563914     granite.pdf      []   \n",
       "\n",
       "                       source_document_id  \\\n",
       "153  26ccd99d-04a3-441f-b4a4-2c8717932dcd   \n",
       "306  26ccd99d-04a3-441f-b4a4-2c8717932dcd   \n",
       "301  26ccd99d-04a3-441f-b4a4-2c8717932dcd   \n",
       "\n",
       "                                              contents doc_jsonpath  \\\n",
       "153  The pretraining code data was sourced from a c...   #/texts/40   \n",
       "306  · MATH+Py solving MATH task by writing a Pytho...  #/texts/205   \n",
       "301  Table 15: Performance on 4 chain-of-thought ma...  #/texts/201   \n",
       "\n",
       "     page_number                                               bbox  \\\n",
       "153            4  [107.2206955, 373.6947937, 505.50299072, 550.2...   \n",
       "306           19  [132.84700012, 218.51342773, 504.05380249, 251...   \n",
       "301           19  [118.96057129, 699.65802002, 492.17700195, 710...   \n",
       "\n",
       "                                           document_id  \n",
       "153  299b90813718972af9e698c8d96b547ea70b5ceab70b41...  \n",
       "306  49af5631f23b3c372f170bf9155c9f50da690a247e803f...  \n",
       "301  d5ce3a0057d0e6e0013faeb51661999feb845688f002bf...  "
      ]
     },
     "execution_count": 9,
     "metadata": {},
     "output_type": "execute_result"
    }
   ],
   "source": [
    "from utils import read_parquet_files_as_df\n",
    "\n",
    "output_df = read_parquet_files_as_df(output_chunk_dir)\n",
    "\n",
    "print (f\"Files processed : {input_df.shape[0]:,}\")\n",
    "print (f\"Chunks created : {output_df.shape[0]:,}\")\n",
    "\n",
    "# print (\"Input data dimensions (rows x columns)= \", input_df.shape)\n",
    "# print (\"Output data dimensions (rows x columns)= \", output_df.shape)\n",
    "\n",
    "output_df.sample(min(3, output_df.shape[0]))"
   ]
  },
  {
   "cell_type": "markdown",
   "id": "5370950a-2a3a-4143-8218-f9b4808099ba",
   "metadata": {},
   "source": [
    "## Step-6:   Calculate Embeddings for Chunks\n",
    "\n",
    "we will calculate embeddings for each chunk using an open source embedding model\n",
    "\n",
    "[Embeddings / Text Encoder documentation](https://github.com/IBM/data-prep-kit/blob/dev/transforms/language/text_encoder/README.md)"
   ]
  },
  {
   "cell_type": "markdown",
   "id": "b9112479",
   "metadata": {},
   "source": [
    "### 6.1 - Execute"
   ]
  },
  {
   "cell_type": "code",
   "execution_count": 10,
   "id": "23e8b858",
   "metadata": {},
   "outputs": [
    {
     "name": "stdout",
     "output_type": "stream",
     "text": [
      "🏃🏼 STAGE-4: Processing input='output/03_chunk_out' --> output='output/04_embeddings_out'\n",
      "\n"
     ]
    },
    {
     "name": "stderr",
     "output_type": "stream",
     "text": [
      "23:47:03 INFO - text_encoder parameters are : {'content_column_name': 'contents', 'output_embeddings_column_name': 'embeddings', 'model_name': 'sentence-transformers/all-MiniLM-L6-v2'}\n",
      "23:47:03 INFO - pipeline id pipeline_id\n",
      "23:47:03 INFO - code location None\n",
      "23:47:03 INFO - data factory data_ is using local data access: input_folder - output/03_chunk_out output_folder - output/04_embeddings_out\n",
      "23:47:03 INFO - data factory data_ max_files -1, n_sample -1\n",
      "23:47:03 INFO - data factory data_ Not using data sets, checkpointing False, max files -1, random samples -1, files to use ['.parquet'], files to checkpoint ['.parquet']\n",
      "23:47:03 INFO - orchestrator text_encoder started at 2025-01-09 23:47:03\n",
      "23:47:03 INFO - Number of files is 2, source profile {'max_file_size': 0.06411361694335938, 'min_file_size': 0.03104114532470703, 'total_file_size': 0.0951547622680664}\n",
      "23:47:06 INFO - Completed 1 files (50.0%) in 0.009 min\n",
      "23:47:07 INFO - Completed 2 files (100.0%) in 0.03 min\n",
      "23:47:07 INFO - Done processing 2 files, waiting for flush() completion.\n",
      "23:47:07 INFO - done flushing in 0.0 sec\n",
      "23:47:07 INFO - Completed execution in 0.072 min, execution result 0\n"
     ]
    },
    {
     "name": "stdout",
     "output_type": "stream",
     "text": [
      "✅ Stage:4 completed successfully\n",
      "CPU times: user 2.51 s, sys: 315 ms, total: 2.83 s\n",
      "Wall time: 5.04 s\n"
     ]
    }
   ],
   "source": [
    "%%time \n",
    "\n",
    "from dpk_text_encoder.transform_python import TextEncoder\n",
    "\n",
    "STAGE  = 4\n",
    "input_df = read_parquet_files_as_df(output_chunk_dir)  ## for debug purposes\n",
    "print (f\"🏃🏼 STAGE-{STAGE}: Processing input='{output_chunk_dir}' --> output='{output_embeddings_dir}'\\n\", flush=True)\n",
    "\n",
    "\n",
    "result = TextEncoder(input_folder= output_chunk_dir, \n",
    "               output_folder= output_embeddings_dir, \n",
    "               text_encoder_model_name = MY_CONFIG.EMBEDDING_MODEL\n",
    "               ).transform()\n",
    "if result == 0:\n",
    "    print (f\"✅ Stage:{STAGE} completed successfully\")\n",
    "else:\n",
    "    raise Exception (f\"❌ Stage:{STAGE}  failed\")"
   ]
  },
  {
   "cell_type": "markdown",
   "id": "b734852c",
   "metadata": {},
   "source": [
    "### 6.2 - Inspect Generated output"
   ]
  },
  {
   "cell_type": "code",
   "execution_count": 11,
   "id": "7b1c1d09",
   "metadata": {},
   "outputs": [
    {
     "name": "stdout",
     "output_type": "stream",
     "text": [
      "Input data dimensions (rows x columns)=  (390, 18)\n",
      "Output data dimensions (rows x columns)=  (390, 19)\n"
     ]
    },
    {
     "data": {
      "text/html": [
       "<div>\n",
       "<style scoped>\n",
       "    .dataframe tbody tr th:only-of-type {\n",
       "        vertical-align: middle;\n",
       "    }\n",
       "\n",
       "    .dataframe tbody tr th {\n",
       "        vertical-align: top;\n",
       "    }\n",
       "\n",
       "    .dataframe thead th {\n",
       "        text-align: right;\n",
       "    }\n",
       "</style>\n",
       "<table border=\"1\" class=\"dataframe\">\n",
       "  <thead>\n",
       "    <tr style=\"text-align: right;\">\n",
       "      <th></th>\n",
       "      <th>filename</th>\n",
       "      <th>num_pages</th>\n",
       "      <th>num_tables</th>\n",
       "      <th>num_doc_elements</th>\n",
       "      <th>document_hash</th>\n",
       "      <th>ext</th>\n",
       "      <th>hash</th>\n",
       "      <th>size</th>\n",
       "      <th>date_acquired</th>\n",
       "      <th>pdf_convert_time</th>\n",
       "      <th>source_filename</th>\n",
       "      <th>removed</th>\n",
       "      <th>source_document_id</th>\n",
       "      <th>contents</th>\n",
       "      <th>doc_jsonpath</th>\n",
       "      <th>page_number</th>\n",
       "      <th>bbox</th>\n",
       "      <th>document_id</th>\n",
       "      <th>embeddings</th>\n",
       "    </tr>\n",
       "  </thead>\n",
       "  <tbody>\n",
       "    <tr>\n",
       "      <th>188</th>\n",
       "      <td>granite.pdf</td>\n",
       "      <td>28</td>\n",
       "      <td>19</td>\n",
       "      <td>295</td>\n",
       "      <td>3127757990743433032</td>\n",
       "      <td>pdf</td>\n",
       "      <td>ce45cd417581ff3e94d57b1a7253e301dbebd8f2deeabc...</td>\n",
       "      <td>1860416</td>\n",
       "      <td>2025-01-09T23:47:00.726998</td>\n",
       "      <td>29.563914</td>\n",
       "      <td>granite.pdf</td>\n",
       "      <td>[]</td>\n",
       "      <td>26ccd99d-04a3-441f-b4a4-2c8717932dcd</td>\n",
       "      <td>We use AdamW optimizer (Kingma &amp; Ba, 2017) wit...</td>\n",
       "      <td>#/texts/83</td>\n",
       "      <td>7</td>\n",
       "      <td>[107.10358429, 569.9118042, 504.39199829, 651....</td>\n",
       "      <td>6e5757149716cad61caac3bcb92b0e53df860f4b313b8f...</td>\n",
       "      <td>[-0.06271278, -0.024036769, 0.019579308, 0.036...</td>\n",
       "    </tr>\n",
       "    <tr>\n",
       "      <th>286</th>\n",
       "      <td>granite.pdf</td>\n",
       "      <td>28</td>\n",
       "      <td>19</td>\n",
       "      <td>295</td>\n",
       "      <td>3127757990743433032</td>\n",
       "      <td>pdf</td>\n",
       "      <td>ce45cd417581ff3e94d57b1a7253e301dbebd8f2deeabc...</td>\n",
       "      <td>1860416</td>\n",
       "      <td>2025-01-09T23:47:00.726998</td>\n",
       "      <td>29.563914</td>\n",
       "      <td>granite.pdf</td>\n",
       "      <td>[]</td>\n",
       "      <td>26ccd99d-04a3-441f-b4a4-2c8717932dcd</td>\n",
       "      <td>From Table 12, we make the following observati...</td>\n",
       "      <td>#/texts/182</td>\n",
       "      <td>17</td>\n",
       "      <td>[107.07395935, 356.62701416, 505.74499512, 411...</td>\n",
       "      <td>0a7ccb8e35838ffedcb5ce7e0737fe7b0866d65f02dcc5...</td>\n",
       "      <td>[-0.056604, -0.02220467, -0.04024029, -0.03403...</td>\n",
       "    </tr>\n",
       "    <tr>\n",
       "      <th>86</th>\n",
       "      <td>attention.pdf</td>\n",
       "      <td>15</td>\n",
       "      <td>6</td>\n",
       "      <td>147</td>\n",
       "      <td>2949302674760005271</td>\n",
       "      <td>pdf</td>\n",
       "      <td>d92ccac154a730b012ad65243218741b6f59dce60ae9dd...</td>\n",
       "      <td>341129</td>\n",
       "      <td>2025-01-09T23:46:31.099708</td>\n",
       "      <td>14.772966</td>\n",
       "      <td>attention.pdf</td>\n",
       "      <td>[]</td>\n",
       "      <td>6c96cda3-508a-4e78-9a75-e5c3d658eeae</td>\n",
       "      <td>To evaluate the importance of different compon...</td>\n",
       "      <td>#/texts/108</td>\n",
       "      <td>8</td>\n",
       "      <td>[107.07932281, 91.68579102, 504.0, 113.67138672]</td>\n",
       "      <td>f878a8524f8524bbfd5dd01bfdddeda9e6de18abdfd848...</td>\n",
       "      <td>[-0.020042712, -0.00294097, -0.003946473, -0.0...</td>\n",
       "    </tr>\n",
       "  </tbody>\n",
       "</table>\n",
       "</div>"
      ],
      "text/plain": [
       "          filename  num_pages  num_tables  num_doc_elements  \\\n",
       "188    granite.pdf         28          19               295   \n",
       "286    granite.pdf         28          19               295   \n",
       "86   attention.pdf         15           6               147   \n",
       "\n",
       "           document_hash  ext  \\\n",
       "188  3127757990743433032  pdf   \n",
       "286  3127757990743433032  pdf   \n",
       "86   2949302674760005271  pdf   \n",
       "\n",
       "                                                  hash     size  \\\n",
       "188  ce45cd417581ff3e94d57b1a7253e301dbebd8f2deeabc...  1860416   \n",
       "286  ce45cd417581ff3e94d57b1a7253e301dbebd8f2deeabc...  1860416   \n",
       "86   d92ccac154a730b012ad65243218741b6f59dce60ae9dd...   341129   \n",
       "\n",
       "                  date_acquired  pdf_convert_time source_filename removed  \\\n",
       "188  2025-01-09T23:47:00.726998         29.563914     granite.pdf      []   \n",
       "286  2025-01-09T23:47:00.726998         29.563914     granite.pdf      []   \n",
       "86   2025-01-09T23:46:31.099708         14.772966   attention.pdf      []   \n",
       "\n",
       "                       source_document_id  \\\n",
       "188  26ccd99d-04a3-441f-b4a4-2c8717932dcd   \n",
       "286  26ccd99d-04a3-441f-b4a4-2c8717932dcd   \n",
       "86   6c96cda3-508a-4e78-9a75-e5c3d658eeae   \n",
       "\n",
       "                                              contents doc_jsonpath  \\\n",
       "188  We use AdamW optimizer (Kingma & Ba, 2017) wit...   #/texts/83   \n",
       "286  From Table 12, we make the following observati...  #/texts/182   \n",
       "86   To evaluate the importance of different compon...  #/texts/108   \n",
       "\n",
       "     page_number                                               bbox  \\\n",
       "188            7  [107.10358429, 569.9118042, 504.39199829, 651....   \n",
       "286           17  [107.07395935, 356.62701416, 505.74499512, 411...   \n",
       "86             8   [107.07932281, 91.68579102, 504.0, 113.67138672]   \n",
       "\n",
       "                                           document_id  \\\n",
       "188  6e5757149716cad61caac3bcb92b0e53df860f4b313b8f...   \n",
       "286  0a7ccb8e35838ffedcb5ce7e0737fe7b0866d65f02dcc5...   \n",
       "86   f878a8524f8524bbfd5dd01bfdddeda9e6de18abdfd848...   \n",
       "\n",
       "                                            embeddings  \n",
       "188  [-0.06271278, -0.024036769, 0.019579308, 0.036...  \n",
       "286  [-0.056604, -0.02220467, -0.04024029, -0.03403...  \n",
       "86   [-0.020042712, -0.00294097, -0.003946473, -0.0...  "
      ]
     },
     "execution_count": 11,
     "metadata": {},
     "output_type": "execute_result"
    }
   ],
   "source": [
    "from utils import read_parquet_files_as_df\n",
    "\n",
    "output_df = read_parquet_files_as_df(output_embeddings_dir)\n",
    "\n",
    "print (\"Input data dimensions (rows x columns)= \", input_df.shape)\n",
    "print (\"Output data dimensions (rows x columns)= \", output_df.shape)\n",
    "\n",
    "output_df.sample(min(3, output_df.shape[0]))"
   ]
  },
  {
   "cell_type": "markdown",
   "id": "f5e12630-be6b-4188-a925-77117155617b",
   "metadata": {},
   "source": [
    "## Step-7: Copy output to final output dir"
   ]
  },
  {
   "cell_type": "code",
   "execution_count": 12,
   "id": "16dee3b8-31dc-4168-8adb-f2a0a0b5e207",
   "metadata": {},
   "outputs": [
    {
     "name": "stdout",
     "output_type": "stream",
     "text": [
      "✅ Copied output from 'output/04_embeddings_out' --> 'output/output_final'\n"
     ]
    }
   ],
   "source": [
    "import shutil\n",
    "\n",
    "shutil.rmtree(MY_CONFIG.OUTPUT_FOLDER_FINAL, ignore_errors=True)\n",
    "shutil.copytree(src=output_embeddings_dir, dst=MY_CONFIG.OUTPUT_FOLDER_FINAL)\n",
    "\n",
    "print (f\"✅ Copied output from '{output_embeddings_dir}' --> '{MY_CONFIG.OUTPUT_FOLDER_FINAL}'\")"
   ]
  }
 ],
 "metadata": {
  "kernelspec": {
   "display_name": "dpk-10-r1.0.0a3-py3.11",
   "language": "python",
   "name": "python3"
  },
  "language_info": {
   "codemirror_mode": {
    "name": "ipython",
    "version": 3
   },
   "file_extension": ".py",
   "mimetype": "text/x-python",
   "name": "python",
   "nbconvert_exporter": "python",
   "pygments_lexer": "ipython3",
   "version": "3.11.11"
  }
 },
 "nbformat": 4,
 "nbformat_minor": 5
}
