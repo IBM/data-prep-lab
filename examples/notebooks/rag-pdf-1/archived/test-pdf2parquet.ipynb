{
 "cells": [
  {
   "cell_type": "markdown",
   "metadata": {},
   "source": [
    "# Test RAY version of PDF2Parquet"
   ]
  },
  {
   "cell_type": "code",
   "execution_count": 1,
   "metadata": {},
   "outputs": [],
   "source": [
    "## Setup env\n",
    "## we are installing 1.0.0.a4\n",
    "\n",
    "#!pip install data-prep-toolkit-transforms[ray,all]==1.0.0a4"
   ]
  },
  {
   "cell_type": "code",
   "execution_count": 2,
   "metadata": {},
   "outputs": [
    {
     "name": "stdout",
     "output_type": "stream",
     "text": [
      "--2025-01-19 22:20:32--  https://arxiv.org/pdf/1706.03762\n",
      "Resolving arxiv.org (arxiv.org)... 151.101.131.42, 151.101.195.42, 151.101.3.42, ...\n",
      "Connecting to arxiv.org (arxiv.org)|151.101.131.42|:443... connected.\n",
      "HTTP request sent, awaiting response... 200 OK\n",
      "Length: 2215244 (2.1M) [application/pdf]\n",
      "Saving to: ‘input2/attention.pdf’\n",
      "\n",
      "input2/attention.pd 100%[===================>]   2.11M  1.79MB/s    in 1.2s    \n",
      "\n",
      "2025-01-19 22:20:34 (1.79 MB/s) - ‘input2/attention.pdf’ saved [2215244/2215244]\n",
      "\n",
      "--2025-01-19 22:20:34--  https://arxiv.org/pdf/2405.04324\n",
      "Resolving arxiv.org (arxiv.org)... 151.101.3.42, 151.101.195.42, 151.101.131.42, ...\n",
      "Connecting to arxiv.org (arxiv.org)|151.101.3.42|:443... connected.\n",
      "HTTP request sent, awaiting response... 200 OK\n",
      "Length: 1273644 (1.2M) [application/pdf]\n",
      "Saving to: ‘input2/granite.pdf’\n",
      "\n",
      "input2/granite.pdf  100%[===================>]   1.21M  2.21MB/s    in 0.5s    \n",
      "\n",
      "2025-01-19 22:20:35 (2.21 MB/s) - ‘input2/granite.pdf’ saved [1273644/1273644]\n",
      "\n",
      "--2025-01-19 22:20:36--  https://arxiv.org/pdf/2405.04324\n",
      "Resolving arxiv.org (arxiv.org)... 151.101.131.42, 151.101.67.42, 151.101.3.42, ...\n",
      "Connecting to arxiv.org (arxiv.org)|151.101.131.42|:443... connected.\n",
      "HTTP request sent, awaiting response... 200 OK\n",
      "Length: 1273644 (1.2M) [application/pdf]\n",
      "Saving to: ‘input2/granite2.pdf’\n",
      "\n",
      "input2/granite2.pdf 100%[===================>]   1.21M  1.38MB/s    in 0.9s    \n",
      "\n",
      "2025-01-19 22:20:37 (1.38 MB/s) - ‘input2/granite2.pdf’ saved [1273644/1273644]\n",
      "\n"
     ]
    }
   ],
   "source": [
    "## download files\n",
    "\n",
    "INPUT_DIR = 'input2'\n",
    "\n",
    "import shutil\n",
    "shutil.os.makedirs( INPUT_DIR, exist_ok=True)\n",
    "\n",
    "!wget 'https://arxiv.org/pdf/1706.03762' -O '{INPUT_DIR}/attention.pdf'\n",
    "!wget 'https://arxiv.org/pdf/2405.04324'  -O '{INPUT_DIR}/granite.pdf'\n",
    "!wget 'https://arxiv.org/pdf/2405.04324'  -O '{INPUT_DIR}/granite2.pdf'"
   ]
  },
  {
   "cell_type": "code",
   "execution_count": 3,
   "metadata": {},
   "outputs": [
    {
     "name": "stderr",
     "output_type": "stream",
     "text": [
      "22:20:41 INFO - pdf2parquet parameters are : {'batch_size': -1, 'artifacts_path': None, 'contents_type': <pdf2parquet_contents_types.MARKDOWN: 'text/markdown'>, 'do_table_structure': True, 'do_ocr': True, 'ocr_engine': <pdf2parquet_ocr_engine.EASYOCR: 'easyocr'>, 'bitmap_area_threshold': 0.05, 'pdf_backend': <pdf2parquet_pdf_backend.DLPARSE_V2: 'dlparse_v2'>, 'double_precision': 8}\n",
      "22:20:41 INFO - pipeline id pipeline_id\n",
      "22:20:41 INFO - code location None\n",
      "22:20:41 INFO - number of workers 2 worker options {'num_cpus': 0.5, 'memory': 2147483648, 'max_restarts': -1}\n",
      "22:20:41 INFO - actor creation delay 0\n",
      "22:20:41 INFO - job details {'job category': 'preprocessing', 'job name': 'pdf2parquet', 'job type': 'ray', 'job id': 'job_id'}\n",
      "22:20:41 INFO - data factory data_ is using local data access: input_folder - input2 output_folder - output_pdf2pq\n",
      "22:20:41 INFO - data factory data_ max_files -1, n_sample -1\n",
      "22:20:41 INFO - data factory data_ Not using data sets, checkpointing False, max files -1, random samples -1, files to use ['.pdf'], files to checkpoint ['.parquet']\n",
      "22:20:41 INFO - Running locally\n",
      "2025-01-19 22:20:42,159\tINFO worker.py:1777 -- Started a local Ray instance. View the dashboard at \u001b[1m\u001b[32mhttp://127.0.0.1:8265 \u001b[39m\u001b[22m\n",
      "\u001b[36m(orchestrate pid=1145981)\u001b[0m 22:20:46 INFO - orchestrator started at 2025-01-19 22:20:46\n",
      "\u001b[36m(orchestrate pid=1145981)\u001b[0m 22:20:46 INFO - Number of files is 3, source profile {'max_file_size': 2.112621307373047, 'min_file_size': 1.2146415710449219, 'total_file_size': 4.541904449462891}\n",
      "\u001b[36m(orchestrate pid=1145981)\u001b[0m 22:20:46 INFO - Cluster resources: {'cpus': 16, 'gpus': 1, 'memory': 7.036772919818759, 'object_store': 3.518386458978057}\n",
      "\u001b[36m(orchestrate pid=1145981)\u001b[0m 22:20:46 INFO - Number of workers - 2 with {'num_cpus': 0.5, 'memory': 2147483648, 'max_restarts': -1} each\n",
      "\u001b[36m(RayTransformFileProcessor pid=1146871)\u001b[0m 22:20:49 INFO - Initializing models\n",
      "Fetching 9 files: 100%|██████████| 9/9 [00:00<00:00, 33054.94it/s]\n",
      "\u001b[36m(RayTransformFileProcessor pid=1146871)\u001b[0m Neither CUDA nor MPS are available - defaulting to CPU. Note: This module is much faster with a GPU.\n"
     ]
    },
    {
     "name": "stdout",
     "output_type": "stream",
     "text": [
      "\u001b[36m(RayTransformFileProcessor pid=1146872)\u001b[0m ERR#: COULD NOT CONVERT TO RS THIS TABLE TO COMPUTE SPANS\n"
     ]
    },
    {
     "name": "stderr",
     "output_type": "stream",
     "text": [
      "\u001b[36m(orchestrate pid=1145981)\u001b[0m 22:21:45 INFO - Completed 1 files in 0.813 min\n",
      "\u001b[36m(orchestrate pid=1145981)\u001b[0m 22:21:45 INFO - Completed 1 files (33.333%)  in 0.813 min. Waiting for completion\n",
      "\u001b[36m(RayTransformFileProcessor pid=1146872)\u001b[0m 22:20:49 INFO - Initializing models\n",
      "Fetching 9 files: 100%|██████████| 9/9 [00:00<00:00, 62914.56it/s]\n",
      "\u001b[36m(RayTransformFileProcessor pid=1146872)\u001b[0m Neither CUDA nor MPS are available - defaulting to CPU. Note: This module is much faster with a GPU.\n",
      "\u001b[36m(orchestrate pid=1145981)\u001b[0m 22:24:28 INFO - Completed processing 3 files in 3.53 min\n",
      "\u001b[36m(orchestrate pid=1145981)\u001b[0m 22:24:28 INFO - done flushing in 0.001 sec\n",
      "22:24:38 INFO - Completed execution in 3.957 min, execution result 0\n"
     ]
    },
    {
     "name": "stdout",
     "output_type": "stream",
     "text": [
      "✅ Completed successfully\n",
      "CPU times: user 4.98 s, sys: 1.37 s, total: 6.35 s\n",
      "Wall time: 4min 2s\n"
     ]
    }
   ],
   "source": [
    "%%time \n",
    "\n",
    "from dpk_pdf2parquet.ray.transform import Pdf2Parquet\n",
    "from data_processing.utils import GB\n",
    "from dpk_pdf2parquet.transform import pdf2parquet_contents_types\n",
    "\n",
    "\n",
    "result = Pdf2Parquet(input_folder= INPUT_DIR,\n",
    "                    output_folder= \"output_pdf2pq\", \n",
    "                    data_files_to_use=['.pdf'],\n",
    "                    pdf2parquet_contents_type=pdf2parquet_contents_types.MARKDOWN,\n",
    "                    # pdf2parquet_contents_type=pdf2parquet_contents_types.JSON,\n",
    "                    \n",
    "                    ## runtime options\n",
    "                    run_locally= True,\n",
    "                    num_cpus=  0.5, \n",
    "                    memory= 2 * GB, \n",
    "                    runtime_num_workers = 2, ## Note: has to be one for this particular job, to prevent race condition when downloading models!\n",
    "               ).transform()\n",
    "\n",
    "if result == 0:\n",
    "    print (f\"✅ Completed successfully\")\n",
    "else:\n",
    "    raise Exception (f\"❌ Failed\")"
   ]
  }
 ],
 "metadata": {
  "kernelspec": {
   "display_name": "dpk-1-rag-pdf-r1.0.0.a4-py3.11",
   "language": "python",
   "name": "python3"
  },
  "language_info": {
   "codemirror_mode": {
    "name": "ipython",
    "version": 3
   },
   "file_extension": ".py",
   "mimetype": "text/x-python",
   "name": "python",
   "nbconvert_exporter": "python",
   "pygments_lexer": "ipython3",
   "version": "3.11.11"
  }
 },
 "nbformat": 4,
 "nbformat_minor": 2
}
