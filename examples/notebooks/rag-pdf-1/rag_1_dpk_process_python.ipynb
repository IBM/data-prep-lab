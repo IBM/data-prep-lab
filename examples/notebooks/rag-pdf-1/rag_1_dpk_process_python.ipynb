{
 "cells": [
  {
   "cell_type": "markdown",
   "id": "841e533d-ebb3-406d-9da7-b19e2c5f5866",
   "metadata": {},
   "source": [
    "<div style=\"background-color: #04D7FD; padding: 20px; text-align: left;\">\n",
    "    <h1 style=\"color: #000000; font-size: 36px; margin: 0;\">Data Processing for RAG with Data Prep Kit (Python)</h1>\n",
    "    \n",
    "</div>\n"
   ]
  },
  {
   "cell_type": "markdown",
   "id": "b15976e3",
   "metadata": {},
   "source": [
    "## Before Running the notebook\n",
    "\n",
    "Please complete [setting up python dev environment](./setup-python-dev-env.md)"
   ]
  },
  {
   "cell_type": "markdown",
   "id": "053ecf08-5f62-4b99-9347-8a0955843d21",
   "metadata": {},
   "source": [
    "## Overview\n",
    "\n",
    "This notebook will process PDF documents as part of RAG pipeline\n",
    "\n",
    "TODO : update diagram\n",
    "\n",
    "![](media/rag-overview-2.png)\n",
    "\n",
    "This notebook will perform steps 1, 2, 3 and 4 in RAG pipeline.\n",
    "\n",
    "Here are the processing steps:\n",
    "\n",
    "- **pdf2parquet** : Extract text (in markdown format) from PDF and store them as parquet files\n",
    "- **Exact Dedup**: Documents with exact content are filtered out\n",
    "- **Chunk documents**: Split the PDFs into 'meaningful sections' (paragraphs, sentences ..etc)\n",
    "- **Text encoder**: Convert chunks into vectors using embedding models"
   ]
  },
  {
   "cell_type": "markdown",
   "id": "e8b10be1",
   "metadata": {},
   "source": [
    "## Step-1: Configuration"
   ]
  },
  {
   "cell_type": "code",
   "execution_count": 13,
   "id": "33345487",
   "metadata": {},
   "outputs": [],
   "source": [
    "from my_config import MY_CONFIG"
   ]
  },
  {
   "cell_type": "markdown",
   "id": "facb3bbc",
   "metadata": {},
   "source": [
    "## Step-2:  Data\n",
    "\n",
    "We will use white papers  about LLMs.  \n",
    "\n",
    "- [Granite Code Models](https://arxiv.org/abs/2405.04324)\n",
    "- [Attention is all you need](https://arxiv.org/abs/1706.03762)\n",
    "\n",
    "You can of course substite your own data below"
   ]
  },
  {
   "cell_type": "markdown",
   "id": "f1fe7c0c",
   "metadata": {},
   "source": [
    "### 2.1 - Download data"
   ]
  },
  {
   "cell_type": "code",
   "execution_count": 14,
   "id": "8739b7a2",
   "metadata": {},
   "outputs": [
    {
     "name": "stdout",
     "output_type": "stream",
     "text": [
      "✅ Cleared input directory\n",
      "\n",
      "input/attention.pdf (2.22 MB) downloaded successfully.\n",
      "\n",
      "input/granite.pdf (1.27 MB) downloaded successfully.\n",
      "\n",
      "input/granite2.pdf (1.27 MB) downloaded successfully.\n"
     ]
    }
   ],
   "source": [
    "import os, sys\n",
    "import shutil\n",
    "from utils import download_file\n",
    "\n",
    "shutil.rmtree(MY_CONFIG.INPUT_DATA_DIR, ignore_errors=True)\n",
    "shutil.os.makedirs(MY_CONFIG.INPUT_DATA_DIR, exist_ok=True)\n",
    "print (\"✅ Cleared input directory\")\n",
    " \n",
    "download_file (url = 'https://arxiv.org/pdf/1706.03762', local_file = os.path.join(MY_CONFIG.INPUT_DATA_DIR, 'attention.pdf' ))\n",
    "download_file (url = 'https://arxiv.org/pdf/2405.04324', local_file = os.path.join(MY_CONFIG.INPUT_DATA_DIR, 'granite.pdf' ))\n",
    "download_file (url = 'https://arxiv.org/pdf/2405.04324', local_file = os.path.join(MY_CONFIG.INPUT_DATA_DIR, 'granite2.pdf' )) # duplicate\n"
   ]
  },
  {
   "cell_type": "markdown",
   "id": "72510ae6-48b0-4b88-9e13-a623281c3a63",
   "metadata": {},
   "source": [
    "### 2.2 - Set input/output path variables for the pipeline"
   ]
  },
  {
   "cell_type": "code",
   "execution_count": 15,
   "id": "60ac8bee-0960-4309-b225-d7a211b14262",
   "metadata": {},
   "outputs": [
    {
     "name": "stdout",
     "output_type": "stream",
     "text": [
      "✅ Cleared output directory\n"
     ]
    }
   ],
   "source": [
    "import os, sys\n",
    "import shutil\n",
    "\n",
    "if not os.path.exists(MY_CONFIG.INPUT_DATA_DIR ):\n",
    "    raise Exception (f\"❌ Input folder MY_CONFIG.INPUT_DATA_DIR = '{MY_CONFIG.INPUT_DATA_DIR}' not found\")\n",
    "\n",
    "output_parquet_dir = os.path.join (MY_CONFIG.OUTPUT_FOLDER, '01_parquet_out')\n",
    "output_exact_dedupe_dir = os.path.join (MY_CONFIG.OUTPUT_FOLDER, '02_dedupe_out')\n",
    "output_chunk_dir = os.path.join (MY_CONFIG.OUTPUT_FOLDER, '03_chunk_out')\n",
    "output_embeddings_dir = os.path.join (MY_CONFIG.OUTPUT_FOLDER, '04_embeddings_out')\n",
    "\n",
    "## clear output folder\n",
    "shutil.rmtree(MY_CONFIG.OUTPUT_FOLDER, ignore_errors=True)\n",
    "shutil.os.makedirs(MY_CONFIG.OUTPUT_FOLDER, exist_ok=True)\n",
    "\n",
    "print (\"✅ Cleared output directory\")"
   ]
  },
  {
   "cell_type": "markdown",
   "id": "2449e5c7-078c-4ad6-a2f6-21d39d4da3fb",
   "metadata": {},
   "source": [
    "## Step-3: pdf2parquet -  Convert data from PDF to Parquet\n",
    "\n",
    "This step is reading the input folder containing all PDF files and ingest them in a parquet table using the [Docling package](https://github.com/DS4SD/docling).\n",
    "The documents are converted into a JSON format which allows to easily chunk it in the later steps.\n",
    "\n"
   ]
  },
  {
   "cell_type": "markdown",
   "id": "9bb15f02-ab5c-4525-a536-cfa1fd2ba70b",
   "metadata": {},
   "source": [
    "### 3.1 - Execute "
   ]
  },
  {
   "cell_type": "code",
   "execution_count": 16,
   "id": "4b101999",
   "metadata": {},
   "outputs": [
    {
     "name": "stdout",
     "output_type": "stream",
     "text": [
      "🏃🏼 STAGE-1: Processing input='input' --> output='output/01_parquet_out'\n",
      "\n"
     ]
    },
    {
     "name": "stderr",
     "output_type": "stream",
     "text": [
      "22:01:12 INFO - pdf2parquet parameters are : {'batch_size': -1, 'artifacts_path': None, 'contents_type': <pdf2parquet_contents_types.MARKDOWN: 'text/markdown'>, 'do_table_structure': True, 'do_ocr': True, 'ocr_engine': <pdf2parquet_ocr_engine.EASYOCR: 'easyocr'>, 'bitmap_area_threshold': 0.05, 'pdf_backend': <pdf2parquet_pdf_backend.DLPARSE_V2: 'dlparse_v2'>, 'double_precision': 8}\n",
      "22:01:12 INFO - pipeline id pipeline_id\n",
      "22:01:12 INFO - code location None\n",
      "22:01:12 INFO - data factory data_ is using local data access: input_folder - input output_folder - output/01_parquet_out\n",
      "22:01:12 INFO - data factory data_ max_files -1, n_sample -1\n",
      "22:01:12 INFO - data factory data_ Not using data sets, checkpointing False, max files -1, random samples -1, files to use ['.pdf'], files to checkpoint ['.parquet']\n",
      "22:01:12 INFO - orchestrator pdf2parquet started at 2025-01-12 22:01:12\n",
      "22:01:12 INFO - Number of files is 3, source profile {'max_file_size': 2.112621307373047, 'min_file_size': 1.2146415710449219, 'total_file_size': 4.541904449462891}\n",
      "22:01:12 INFO - Initializing models\n"
     ]
    },
    {
     "data": {
      "application/vnd.jupyter.widget-view+json": {
       "model_id": "f82e93f887cb4306a2806f885fa68786",
       "version_major": 2,
       "version_minor": 0
      },
      "text/plain": [
       "Fetching 9 files:   0%|          | 0/9 [00:00<?, ?it/s]"
      ]
     },
     "metadata": {},
     "output_type": "display_data"
    },
    {
     "name": "stdout",
     "output_type": "stream",
     "text": [
      "ERR#: COULD NOT CONVERT TO RS THIS TABLE TO COMPUTE SPANS\n"
     ]
    },
    {
     "name": "stderr",
     "output_type": "stream",
     "text": [
      "22:01:29 INFO - Completed 1 files (33.33%) in 0.222 min\n",
      "22:01:58 INFO - Completed 2 files (66.67%) in 0.713 min\n",
      "22:02:27 INFO - Completed 3 files (100.0%) in 1.205 min\n",
      "22:02:27 INFO - Done processing 3 files, waiting for flush() completion.\n",
      "22:02:27 INFO - done flushing in 0.0 sec\n",
      "22:02:28 INFO - Completed execution in 1.258 min, execution result 0\n"
     ]
    },
    {
     "name": "stdout",
     "output_type": "stream",
     "text": [
      "✅ Stage:1 completed successfully\n",
      "CPU times: user 3min 16s, sys: 11.2 s, total: 3min 27s\n",
      "Wall time: 1min 15s\n"
     ]
    }
   ],
   "source": [
    "%%time \n",
    "\n",
    "from dpk_pdf2parquet.transform_python import Pdf2Parquet\n",
    "\n",
    "STAGE = 1 \n",
    "print (f\"🏃🏼 STAGE-{STAGE}: Processing input='{MY_CONFIG.INPUT_DATA_DIR}' --> output='{output_parquet_dir}'\\n\", flush=True)\n",
    "\n",
    "result = Pdf2Parquet(input_folder= MY_CONFIG.INPUT_DATA_DIR,\n",
    "               output_folder= output_parquet_dir,\n",
    "               data_files_to_use=['.pdf'],\n",
    "               #pdf2parquet_contents_type='application/json'\n",
    "               pdf2parquet_contents_type='text/markdown'\n",
    "               ).transform()\n",
    "\n",
    "if result == 0:\n",
    "    print (f\"✅ Stage:{STAGE} completed successfully\")\n",
    "else:\n",
    "    raise Exception (f\"❌ Stage:{STAGE}  failed\")"
   ]
  },
  {
   "cell_type": "markdown",
   "id": "5ca790e0",
   "metadata": {},
   "source": [
    "### 3.2 -  Inspect Generated output\n",
    "\n",
    "Here we should see one entry per input file processed"
   ]
  },
  {
   "cell_type": "code",
   "execution_count": 17,
   "id": "fe59563d",
   "metadata": {},
   "outputs": [
    {
     "data": {
      "text/html": [
       "<div>\n",
       "<style scoped>\n",
       "    .dataframe tbody tr th:only-of-type {\n",
       "        vertical-align: middle;\n",
       "    }\n",
       "\n",
       "    .dataframe tbody tr th {\n",
       "        vertical-align: top;\n",
       "    }\n",
       "\n",
       "    .dataframe thead th {\n",
       "        text-align: right;\n",
       "    }\n",
       "</style>\n",
       "<table border=\"1\" class=\"dataframe\">\n",
       "  <thead>\n",
       "    <tr style=\"text-align: right;\">\n",
       "      <th></th>\n",
       "      <th>filename</th>\n",
       "      <th>contents</th>\n",
       "      <th>num_pages</th>\n",
       "      <th>num_tables</th>\n",
       "      <th>num_doc_elements</th>\n",
       "      <th>document_id</th>\n",
       "      <th>document_hash</th>\n",
       "      <th>ext</th>\n",
       "      <th>hash</th>\n",
       "      <th>size</th>\n",
       "      <th>date_acquired</th>\n",
       "      <th>pdf_convert_time</th>\n",
       "      <th>source_filename</th>\n",
       "    </tr>\n",
       "  </thead>\n",
       "  <tbody>\n",
       "    <tr>\n",
       "      <th>0</th>\n",
       "      <td>attention.pdf</td>\n",
       "      <td>Provided proper attribution is provided, Googl...</td>\n",
       "      <td>15</td>\n",
       "      <td>6</td>\n",
       "      <td>147</td>\n",
       "      <td>47e22c7b-4fcb-49ce-a8fb-1a25f8d92d34</td>\n",
       "      <td>2949302674760005271</td>\n",
       "      <td>pdf</td>\n",
       "      <td>f1f600333e46c5d7e23f5a110a903ee38aab0bf7047eca...</td>\n",
       "      <td>46040</td>\n",
       "      <td>2025-01-12T22:01:29.018346</td>\n",
       "      <td>13.329675</td>\n",
       "      <td>attention.pdf</td>\n",
       "    </tr>\n",
       "    <tr>\n",
       "      <th>1</th>\n",
       "      <td>granite2.pdf</td>\n",
       "      <td>## Granite Code Models: A Family of Open Found...</td>\n",
       "      <td>28</td>\n",
       "      <td>19</td>\n",
       "      <td>295</td>\n",
       "      <td>098802e4-cd13-4724-b334-3aabfd78d410</td>\n",
       "      <td>3127757990743433032</td>\n",
       "      <td>pdf</td>\n",
       "      <td>0534b6a29ab9cedf21c3f6cf756cf0252d19a8e9135a41...</td>\n",
       "      <td>127678</td>\n",
       "      <td>2025-01-12T22:02:27.942004</td>\n",
       "      <td>29.464984</td>\n",
       "      <td>granite2.pdf</td>\n",
       "    </tr>\n",
       "    <tr>\n",
       "      <th>2</th>\n",
       "      <td>granite.pdf</td>\n",
       "      <td>## Granite Code Models: A Family of Open Found...</td>\n",
       "      <td>28</td>\n",
       "      <td>19</td>\n",
       "      <td>295</td>\n",
       "      <td>122f1edf-ed60-40c2-83e4-4b3b9ae732ef</td>\n",
       "      <td>3127757990743433032</td>\n",
       "      <td>pdf</td>\n",
       "      <td>0534b6a29ab9cedf21c3f6cf756cf0252d19a8e9135a41...</td>\n",
       "      <td>127678</td>\n",
       "      <td>2025-01-12T22:01:58.425782</td>\n",
       "      <td>29.370334</td>\n",
       "      <td>granite.pdf</td>\n",
       "    </tr>\n",
       "  </tbody>\n",
       "</table>\n",
       "</div>"
      ],
      "text/plain": [
       "        filename                                           contents  \\\n",
       "0  attention.pdf  Provided proper attribution is provided, Googl...   \n",
       "1   granite2.pdf  ## Granite Code Models: A Family of Open Found...   \n",
       "2    granite.pdf  ## Granite Code Models: A Family of Open Found...   \n",
       "\n",
       "   num_pages  num_tables  num_doc_elements  \\\n",
       "0         15           6               147   \n",
       "1         28          19               295   \n",
       "2         28          19               295   \n",
       "\n",
       "                            document_id        document_hash  ext  \\\n",
       "0  47e22c7b-4fcb-49ce-a8fb-1a25f8d92d34  2949302674760005271  pdf   \n",
       "1  098802e4-cd13-4724-b334-3aabfd78d410  3127757990743433032  pdf   \n",
       "2  122f1edf-ed60-40c2-83e4-4b3b9ae732ef  3127757990743433032  pdf   \n",
       "\n",
       "                                                hash    size  \\\n",
       "0  f1f600333e46c5d7e23f5a110a903ee38aab0bf7047eca...   46040   \n",
       "1  0534b6a29ab9cedf21c3f6cf756cf0252d19a8e9135a41...  127678   \n",
       "2  0534b6a29ab9cedf21c3f6cf756cf0252d19a8e9135a41...  127678   \n",
       "\n",
       "                date_acquired  pdf_convert_time source_filename  \n",
       "0  2025-01-12T22:01:29.018346         13.329675   attention.pdf  \n",
       "1  2025-01-12T22:02:27.942004         29.464984    granite2.pdf  \n",
       "2  2025-01-12T22:01:58.425782         29.370334     granite.pdf  "
      ]
     },
     "execution_count": 17,
     "metadata": {},
     "output_type": "execute_result"
    }
   ],
   "source": [
    "from utils import read_parquet_files_as_df\n",
    "\n",
    "output_df = read_parquet_files_as_df(output_parquet_dir)\n",
    "\n",
    "# print (\"Output dimensions (rows x columns)= \", output_df.shape)\n",
    "\n",
    "output_df.head(5)\n",
    "\n",
    "## To display certain columns\n",
    "#parquet_df[['column1', 'column2', 'column3']].head(5)"
   ]
  },
  {
   "cell_type": "markdown",
   "id": "3f900753",
   "metadata": {},
   "source": [
    "## Step-4: Eliminate Duplicate Documents\n",
    "\n",
    "We have 2 duplicate documnets here : `granite.pdf` and `granite2.pdf`.\n",
    "\n",
    "Note how the `hash` for these documents are same.\n",
    "\n",
    "We are going to perform **de-dupe**\n",
    "\n",
    "On the content of each document, a SHA256 hash is computed, followed by de-duplication of record having identical hashes.\n",
    "\n",
    "[Dedupe transform documentation](https://github.com/IBM/data-prep-kit/blob/dev/transforms/universal/ededup/README.md)"
   ]
  },
  {
   "cell_type": "markdown",
   "id": "2ef93831",
   "metadata": {},
   "source": [
    "### 4.1 - Execute "
   ]
  },
  {
   "cell_type": "code",
   "execution_count": 18,
   "id": "1901b4a1",
   "metadata": {},
   "outputs": [
    {
     "name": "stdout",
     "output_type": "stream",
     "text": [
      "🏃🏼 STAGE-2: Processing input='output/01_parquet_out' --> output='output/02_dedupe_out'\n",
      "\n"
     ]
    },
    {
     "name": "stderr",
     "output_type": "stream",
     "text": [
      "22:02:28 INFO - exact dedup params are {'doc_column': 'contents', 'doc_id_column': 'hash', 'use_snapshot': False, 'snapshot_directory': None}\n",
      "22:02:28 INFO - pipeline id pipeline_id\n",
      "22:02:28 INFO - code location None\n",
      "22:02:28 INFO - data factory data_ is using local data access: input_folder - output/01_parquet_out output_folder - output/02_dedupe_out\n",
      "22:02:28 INFO - data factory data_ max_files -1, n_sample -1\n",
      "22:02:28 INFO - data factory data_ Not using data sets, checkpointing False, max files -1, random samples -1, files to use ['.parquet'], files to checkpoint ['.parquet']\n",
      "22:02:28 INFO - orchestrator ededup started at 2025-01-12 22:02:28\n",
      "22:02:28 INFO - Number of files is 3, source profile {'max_file_size': 0.04436779022216797, 'min_file_size': 0.02082538604736328, 'total_file_size': 0.10954761505126953}\n",
      "22:02:28 INFO - Starting from the beginning\n",
      "22:02:28 INFO - Completed 1 files (33.33%) in 0.0 min\n",
      "22:02:28 INFO - Completed 2 files (66.67%) in 0.0 min\n",
      "22:02:28 INFO - Completed 3 files (100.0%) in 0.001 min\n",
      "22:02:28 INFO - Done processing 3 files, waiting for flush() completion.\n",
      "22:02:28 INFO - done flushing in 0.0 sec\n",
      "22:02:28 INFO - Completed execution in 0.001 min, execution result 0\n"
     ]
    },
    {
     "name": "stdout",
     "output_type": "stream",
     "text": [
      "✅ Stage:2 completed successfully\n",
      "CPU times: user 45 ms, sys: 6.63 ms, total: 51.6 ms\n",
      "Wall time: 44.6 ms\n"
     ]
    }
   ],
   "source": [
    "%%time \n",
    "\n",
    "from dpk_ededup.transform_python import Ededup\n",
    "\n",
    "STAGE = 2\n",
    "input_df = read_parquet_files_as_df(output_parquet_dir)  ## for debug purposes\n",
    "print (f\"🏃🏼 STAGE-{STAGE}: Processing input='{output_parquet_dir}' --> output='{output_exact_dedupe_dir}'\\n\", flush=True)\n",
    "\n",
    "result = Ededup(input_folder=output_parquet_dir,\n",
    "    output_folder=output_exact_dedupe_dir,\n",
    "    ededup_doc_column=\"contents\",\n",
    "    ededup_doc_id_column=\"hash\"\n",
    "    ).transform()\n",
    "\n",
    "if result == 0:\n",
    "    print (f\"✅ Stage:{STAGE} completed successfully\")\n",
    "else:\n",
    "    raise Exception (f\"❌ Stage:{STAGE}  failed\")"
   ]
  },
  {
   "cell_type": "markdown",
   "id": "c45a59d2",
   "metadata": {},
   "source": [
    "### 4.2 - Inspect Generated output\n",
    "\n",
    "We would see 2 documents: `attention.pdf`  and `granite.pdf`.  The duplicate `granite.pdf` has been filtered out!"
   ]
  },
  {
   "cell_type": "code",
   "execution_count": 19,
   "id": "0691f08e",
   "metadata": {},
   "outputs": [
    {
     "name": "stdout",
     "output_type": "stream",
     "text": [
      "Input files before exact dedupe : 3\n",
      "Output files after exact dedupe : 2\n",
      "Duplicate files removed :   1\n"
     ]
    },
    {
     "data": {
      "text/html": [
       "<div>\n",
       "<style scoped>\n",
       "    .dataframe tbody tr th:only-of-type {\n",
       "        vertical-align: middle;\n",
       "    }\n",
       "\n",
       "    .dataframe tbody tr th {\n",
       "        vertical-align: top;\n",
       "    }\n",
       "\n",
       "    .dataframe thead th {\n",
       "        text-align: right;\n",
       "    }\n",
       "</style>\n",
       "<table border=\"1\" class=\"dataframe\">\n",
       "  <thead>\n",
       "    <tr style=\"text-align: right;\">\n",
       "      <th></th>\n",
       "      <th>filename</th>\n",
       "      <th>contents</th>\n",
       "      <th>num_pages</th>\n",
       "      <th>num_tables</th>\n",
       "      <th>num_doc_elements</th>\n",
       "      <th>document_id</th>\n",
       "      <th>document_hash</th>\n",
       "      <th>ext</th>\n",
       "      <th>hash</th>\n",
       "      <th>size</th>\n",
       "      <th>date_acquired</th>\n",
       "      <th>pdf_convert_time</th>\n",
       "      <th>source_filename</th>\n",
       "      <th>removed</th>\n",
       "    </tr>\n",
       "  </thead>\n",
       "  <tbody>\n",
       "    <tr>\n",
       "      <th>1</th>\n",
       "      <td>granite.pdf</td>\n",
       "      <td>## Granite Code Models: A Family of Open Found...</td>\n",
       "      <td>28</td>\n",
       "      <td>19</td>\n",
       "      <td>295</td>\n",
       "      <td>122f1edf-ed60-40c2-83e4-4b3b9ae732ef</td>\n",
       "      <td>3127757990743433032</td>\n",
       "      <td>pdf</td>\n",
       "      <td>0534b6a29ab9cedf21c3f6cf756cf0252d19a8e9135a41...</td>\n",
       "      <td>127678</td>\n",
       "      <td>2025-01-12T22:01:58.425782</td>\n",
       "      <td>29.370334</td>\n",
       "      <td>granite.pdf</td>\n",
       "      <td>[]</td>\n",
       "    </tr>\n",
       "    <tr>\n",
       "      <th>0</th>\n",
       "      <td>attention.pdf</td>\n",
       "      <td>Provided proper attribution is provided, Googl...</td>\n",
       "      <td>15</td>\n",
       "      <td>6</td>\n",
       "      <td>147</td>\n",
       "      <td>47e22c7b-4fcb-49ce-a8fb-1a25f8d92d34</td>\n",
       "      <td>2949302674760005271</td>\n",
       "      <td>pdf</td>\n",
       "      <td>f1f600333e46c5d7e23f5a110a903ee38aab0bf7047eca...</td>\n",
       "      <td>46040</td>\n",
       "      <td>2025-01-12T22:01:29.018346</td>\n",
       "      <td>13.329675</td>\n",
       "      <td>attention.pdf</td>\n",
       "      <td>[]</td>\n",
       "    </tr>\n",
       "  </tbody>\n",
       "</table>\n",
       "</div>"
      ],
      "text/plain": [
       "        filename                                           contents  \\\n",
       "1    granite.pdf  ## Granite Code Models: A Family of Open Found...   \n",
       "0  attention.pdf  Provided proper attribution is provided, Googl...   \n",
       "\n",
       "   num_pages  num_tables  num_doc_elements  \\\n",
       "1         28          19               295   \n",
       "0         15           6               147   \n",
       "\n",
       "                            document_id        document_hash  ext  \\\n",
       "1  122f1edf-ed60-40c2-83e4-4b3b9ae732ef  3127757990743433032  pdf   \n",
       "0  47e22c7b-4fcb-49ce-a8fb-1a25f8d92d34  2949302674760005271  pdf   \n",
       "\n",
       "                                                hash    size  \\\n",
       "1  0534b6a29ab9cedf21c3f6cf756cf0252d19a8e9135a41...  127678   \n",
       "0  f1f600333e46c5d7e23f5a110a903ee38aab0bf7047eca...   46040   \n",
       "\n",
       "                date_acquired  pdf_convert_time source_filename removed  \n",
       "1  2025-01-12T22:01:58.425782         29.370334     granite.pdf      []  \n",
       "0  2025-01-12T22:01:29.018346         13.329675   attention.pdf      []  "
      ]
     },
     "execution_count": 19,
     "metadata": {},
     "output_type": "execute_result"
    }
   ],
   "source": [
    "from utils import read_parquet_files_as_df\n",
    "\n",
    "output_df = read_parquet_files_as_df(output_exact_dedupe_dir)\n",
    "\n",
    "# print (\"Input data dimensions (rows x columns)= \", input_df.shape)\n",
    "# print (\"Output data dimensions (rows x columns)= \", output_df.shape)\n",
    "print (f\"Input files before exact dedupe : {input_df.shape[0]:,}\")\n",
    "print (f\"Output files after exact dedupe : {output_df.shape[0]:,}\")\n",
    "print (\"Duplicate files removed :  \", (input_df.shape[0] - output_df.shape[0]))\n",
    "\n",
    "output_df.sample(min(3, output_df.shape[0]))"
   ]
  },
  {
   "cell_type": "markdown",
   "id": "72274586",
   "metadata": {},
   "source": [
    "##  Step-5: Doc chunks\n",
    "\n",
    "Split the documents in chunks.\n",
    "\n",
    "[Chunking transform documentation](https://github.com/IBM/data-prep-kit/blob/dev/transforms/language/doc_chunk/README.md)\n",
    "\n",
    "**Experiment with chunking size to find the setting that works best for your documents**"
   ]
  },
  {
   "cell_type": "markdown",
   "id": "369f2cd1",
   "metadata": {},
   "source": [
    "### 5.1 - Execute "
   ]
  },
  {
   "cell_type": "code",
   "execution_count": 20,
   "id": "2cfbf532",
   "metadata": {},
   "outputs": [
    {
     "name": "stdout",
     "output_type": "stream",
     "text": [
      "🏃🏼 STAGE-3: Processing input='output/02_dedupe_out' --> output='output/03_chunk_out'\n",
      "\n"
     ]
    },
    {
     "name": "stderr",
     "output_type": "stream",
     "text": [
      "22:02:28 INFO - doc_chunk parameters are : {'chunking_type': 'li_markdown', 'content_column_name': 'contents', 'doc_id_column_name': 'document_id', 'output_chunk_column_name': 'contents', 'output_source_doc_id_column_name': 'source_document_id', 'output_jsonpath_column_name': 'doc_jsonpath', 'output_pageno_column_name': 'page_number', 'output_bbox_column_name': 'bbox', 'chunk_size_tokens': 128, 'chunk_overlap_tokens': 30, 'dl_min_chunk_len': None}\n",
      "22:02:28 INFO - pipeline id pipeline_id\n",
      "22:02:28 INFO - code location None\n",
      "22:02:28 INFO - data factory data_ is using local data access: input_folder - output/02_dedupe_out output_folder - output/03_chunk_out\n",
      "22:02:28 INFO - data factory data_ max_files -1, n_sample -1\n",
      "22:02:28 INFO - data factory data_ Not using data sets, checkpointing False, max files -1, random samples -1, files to use ['.parquet'], files to checkpoint ['.parquet']\n",
      "22:02:28 INFO - orchestrator doc_chunk started at 2025-01-12 22:02:28\n",
      "22:02:28 INFO - Number of files is 3, source profile {'max_file_size': 0.04471015930175781, 'min_file_size': 0.0028095245361328125, 'total_file_size': 0.06870079040527344}\n",
      "22:02:28 INFO - Completed 1 files (33.33%) in 0.0 min\n",
      "22:02:28 INFO - Completed 2 files (66.67%) in 0.001 min\n",
      "22:02:28 WARNING - table is empty, skipping processing\n",
      "22:02:28 INFO - Completed 3 files (100.0%) in 0.001 min\n",
      "22:02:28 INFO - Done processing 3 files, waiting for flush() completion.\n",
      "22:02:28 INFO - done flushing in 0.0 sec\n",
      "22:02:28 INFO - Completed execution in 0.001 min, execution result 0\n"
     ]
    },
    {
     "name": "stdout",
     "output_type": "stream",
     "text": [
      "✅ Stage:3 completed successfully\n",
      "CPU times: user 55.3 ms, sys: 1.12 ms, total: 56.4 ms\n",
      "Wall time: 49.4 ms\n"
     ]
    }
   ],
   "source": [
    "%%time\n",
    "\n",
    "from dpk_doc_chunk.transform_python import DocChunk\n",
    "\n",
    "STAGE = 3\n",
    "input_df = read_parquet_files_as_df(output_exact_dedupe_dir)  ## for debug purposes\n",
    "print (f\"🏃🏼 STAGE-{STAGE}: Processing input='{output_exact_dedupe_dir}' --> output='{output_chunk_dir}'\\n\", flush=True)\n",
    "\n",
    "\n",
    "result = DocChunk(input_folder=output_exact_dedupe_dir,\n",
    "        output_folder=output_chunk_dir,\n",
    "        doc_chunk_chunking_type= \"li_markdown\",\n",
    "        # doc_chunk_chunking_type= \"dl_json\",\n",
    "        doc_chunk_chunk_size_tokens = 128,  # default 128\n",
    "        doc_chunk_chunk_overlap_tokens=30   # default 30\n",
    "        ).transform()\n",
    "\n",
    "if result == 0:\n",
    "    print (f\"✅ Stage:{STAGE} completed successfully\")\n",
    "else:\n",
    "    raise Exception (f\"❌ Stage:{STAGE}  failed\")"
   ]
  },
  {
   "cell_type": "markdown",
   "id": "213afdf6",
   "metadata": {},
   "source": [
    "### 5.2 - Inspect Generated output\n",
    "\n",
    "We would see documents are split into many chunks"
   ]
  },
  {
   "cell_type": "code",
   "execution_count": 21,
   "id": "d8138d43",
   "metadata": {},
   "outputs": [
    {
     "name": "stdout",
     "output_type": "stream",
     "text": [
      "Files processed : 2\n",
      "Chunks created : 60\n"
     ]
    },
    {
     "data": {
      "text/html": [
       "<div>\n",
       "<style scoped>\n",
       "    .dataframe tbody tr th:only-of-type {\n",
       "        vertical-align: middle;\n",
       "    }\n",
       "\n",
       "    .dataframe tbody tr th {\n",
       "        vertical-align: top;\n",
       "    }\n",
       "\n",
       "    .dataframe thead th {\n",
       "        text-align: right;\n",
       "    }\n",
       "</style>\n",
       "<table border=\"1\" class=\"dataframe\">\n",
       "  <thead>\n",
       "    <tr style=\"text-align: right;\">\n",
       "      <th></th>\n",
       "      <th>filename</th>\n",
       "      <th>num_pages</th>\n",
       "      <th>num_tables</th>\n",
       "      <th>num_doc_elements</th>\n",
       "      <th>document_hash</th>\n",
       "      <th>ext</th>\n",
       "      <th>hash</th>\n",
       "      <th>size</th>\n",
       "      <th>date_acquired</th>\n",
       "      <th>pdf_convert_time</th>\n",
       "      <th>source_filename</th>\n",
       "      <th>removed</th>\n",
       "      <th>source_document_id</th>\n",
       "      <th>contents</th>\n",
       "      <th>document_id</th>\n",
       "    </tr>\n",
       "  </thead>\n",
       "  <tbody>\n",
       "    <tr>\n",
       "      <th>39</th>\n",
       "      <td>granite.pdf</td>\n",
       "      <td>28</td>\n",
       "      <td>19</td>\n",
       "      <td>295</td>\n",
       "      <td>3127757990743433032</td>\n",
       "      <td>pdf</td>\n",
       "      <td>0534b6a29ab9cedf21c3f6cf756cf0252d19a8e9135a41...</td>\n",
       "      <td>127678</td>\n",
       "      <td>2025-01-12T22:01:58.425782</td>\n",
       "      <td>29.370334</td>\n",
       "      <td>granite.pdf</td>\n",
       "      <td>[]</td>\n",
       "      <td>122f1edf-ed60-40c2-83e4-4b3b9ae732ef</td>\n",
       "      <td>## 4.3 Optimization\\n\\nWe use AdamW optimizer ...</td>\n",
       "      <td>c45f847235c42841ae094834f1eb950f774e314f46566e...</td>\n",
       "    </tr>\n",
       "    <tr>\n",
       "      <th>53</th>\n",
       "      <td>granite.pdf</td>\n",
       "      <td>28</td>\n",
       "      <td>19</td>\n",
       "      <td>295</td>\n",
       "      <td>3127757990743433032</td>\n",
       "      <td>pdf</td>\n",
       "      <td>0534b6a29ab9cedf21c3f6cf756cf0252d19a8e9135a41...</td>\n",
       "      <td>127678</td>\n",
       "      <td>2025-01-12T22:01:58.425782</td>\n",
       "      <td>29.370334</td>\n",
       "      <td>granite.pdf</td>\n",
       "      <td>[]</td>\n",
       "      <td>122f1edf-ed60-40c2-83e4-4b3b9ae732ef</td>\n",
       "      <td>## 6.5 Math Reasoning\\n\\nWe use the following ...</td>\n",
       "      <td>cc28f6c0c14fda7a2f3c36b0874a5082e20c6e4e57d0f3...</td>\n",
       "    </tr>\n",
       "    <tr>\n",
       "      <th>29</th>\n",
       "      <td>granite.pdf</td>\n",
       "      <td>28</td>\n",
       "      <td>19</td>\n",
       "      <td>295</td>\n",
       "      <td>3127757990743433032</td>\n",
       "      <td>pdf</td>\n",
       "      <td>0534b6a29ab9cedf21c3f6cf756cf0252d19a8e9135a41...</td>\n",
       "      <td>127678</td>\n",
       "      <td>2025-01-12T22:01:58.425782</td>\n",
       "      <td>29.370334</td>\n",
       "      <td>granite.pdf</td>\n",
       "      <td>[]</td>\n",
       "      <td>122f1edf-ed60-40c2-83e4-4b3b9ae732ef</td>\n",
       "      <td>## 1 Introduction\\n\\nOver the last several dec...</td>\n",
       "      <td>716c16eb39724cce53c0fffc485b7ef8e3963534087fc3...</td>\n",
       "    </tr>\n",
       "  </tbody>\n",
       "</table>\n",
       "</div>"
      ],
      "text/plain": [
       "       filename  num_pages  num_tables  num_doc_elements        document_hash  \\\n",
       "39  granite.pdf         28          19               295  3127757990743433032   \n",
       "53  granite.pdf         28          19               295  3127757990743433032   \n",
       "29  granite.pdf         28          19               295  3127757990743433032   \n",
       "\n",
       "    ext                                               hash    size  \\\n",
       "39  pdf  0534b6a29ab9cedf21c3f6cf756cf0252d19a8e9135a41...  127678   \n",
       "53  pdf  0534b6a29ab9cedf21c3f6cf756cf0252d19a8e9135a41...  127678   \n",
       "29  pdf  0534b6a29ab9cedf21c3f6cf756cf0252d19a8e9135a41...  127678   \n",
       "\n",
       "                 date_acquired  pdf_convert_time source_filename removed  \\\n",
       "39  2025-01-12T22:01:58.425782         29.370334     granite.pdf      []   \n",
       "53  2025-01-12T22:01:58.425782         29.370334     granite.pdf      []   \n",
       "29  2025-01-12T22:01:58.425782         29.370334     granite.pdf      []   \n",
       "\n",
       "                      source_document_id  \\\n",
       "39  122f1edf-ed60-40c2-83e4-4b3b9ae732ef   \n",
       "53  122f1edf-ed60-40c2-83e4-4b3b9ae732ef   \n",
       "29  122f1edf-ed60-40c2-83e4-4b3b9ae732ef   \n",
       "\n",
       "                                             contents  \\\n",
       "39  ## 4.3 Optimization\\n\\nWe use AdamW optimizer ...   \n",
       "53  ## 6.5 Math Reasoning\\n\\nWe use the following ...   \n",
       "29  ## 1 Introduction\\n\\nOver the last several dec...   \n",
       "\n",
       "                                          document_id  \n",
       "39  c45f847235c42841ae094834f1eb950f774e314f46566e...  \n",
       "53  cc28f6c0c14fda7a2f3c36b0874a5082e20c6e4e57d0f3...  \n",
       "29  716c16eb39724cce53c0fffc485b7ef8e3963534087fc3...  "
      ]
     },
     "execution_count": 21,
     "metadata": {},
     "output_type": "execute_result"
    }
   ],
   "source": [
    "from utils import read_parquet_files_as_df\n",
    "\n",
    "output_df = read_parquet_files_as_df(output_chunk_dir)\n",
    "\n",
    "print (f\"Files processed : {input_df.shape[0]:,}\")\n",
    "print (f\"Chunks created : {output_df.shape[0]:,}\")\n",
    "\n",
    "# print (\"Input data dimensions (rows x columns)= \", input_df.shape)\n",
    "# print (\"Output data dimensions (rows x columns)= \", output_df.shape)\n",
    "\n",
    "output_df.sample(min(3, output_df.shape[0]))"
   ]
  },
  {
   "cell_type": "markdown",
   "id": "5370950a-2a3a-4143-8218-f9b4808099ba",
   "metadata": {},
   "source": [
    "## Step-6:   Calculate Embeddings for Chunks\n",
    "\n",
    "we will calculate embeddings for each chunk using an open source embedding model\n",
    "\n",
    "[Embeddings / Text Encoder documentation](https://github.com/IBM/data-prep-kit/blob/dev/transforms/language/text_encoder/README.md)"
   ]
  },
  {
   "cell_type": "markdown",
   "id": "b9112479",
   "metadata": {},
   "source": [
    "### 6.1 - Execute"
   ]
  },
  {
   "cell_type": "code",
   "execution_count": 22,
   "id": "23e8b858",
   "metadata": {},
   "outputs": [
    {
     "name": "stdout",
     "output_type": "stream",
     "text": [
      "🏃🏼 STAGE-4: Processing input='output/03_chunk_out' --> output='output/04_embeddings_out'\n",
      "\n"
     ]
    },
    {
     "name": "stderr",
     "output_type": "stream",
     "text": [
      "22:02:28 INFO - text_encoder parameters are : {'content_column_name': 'contents', 'output_embeddings_column_name': 'embeddings', 'model_name': 'sentence-transformers/all-MiniLM-L6-v2'}\n",
      "22:02:28 INFO - pipeline id pipeline_id\n",
      "22:02:28 INFO - code location None\n",
      "22:02:28 INFO - data factory data_ is using local data access: input_folder - output/03_chunk_out output_folder - output/04_embeddings_out\n",
      "22:02:28 INFO - data factory data_ max_files -1, n_sample -1\n",
      "22:02:28 INFO - data factory data_ Not using data sets, checkpointing False, max files -1, random samples -1, files to use ['.parquet'], files to checkpoint ['.parquet']\n",
      "22:02:28 INFO - orchestrator text_encoder started at 2025-01-12 22:02:28\n",
      "22:02:28 INFO - Number of files is 2, source profile {'max_file_size': 0.04669189453125, 'min_file_size': 0.02893352508544922, 'total_file_size': 0.07562541961669922}\n",
      "22:02:30 INFO - Completed 1 files (50.0%) in 0.002 min\n",
      "22:02:30 INFO - Completed 2 files (100.0%) in 0.006 min\n",
      "22:02:30 INFO - Done processing 2 files, waiting for flush() completion.\n",
      "22:02:30 INFO - done flushing in 0.0 sec\n",
      "22:02:30 INFO - Completed execution in 0.042 min, execution result 0\n"
     ]
    },
    {
     "name": "stdout",
     "output_type": "stream",
     "text": [
      "✅ Stage:4 completed successfully\n",
      "CPU times: user 540 ms, sys: 50.4 ms, total: 591 ms\n",
      "Wall time: 2.54 s\n"
     ]
    }
   ],
   "source": [
    "%%time \n",
    "\n",
    "from dpk_text_encoder.transform_python import TextEncoder\n",
    "\n",
    "STAGE  = 4\n",
    "input_df = read_parquet_files_as_df(output_chunk_dir)  ## for debug purposes\n",
    "print (f\"🏃🏼 STAGE-{STAGE}: Processing input='{output_chunk_dir}' --> output='{output_embeddings_dir}'\\n\", flush=True)\n",
    "\n",
    "\n",
    "result = TextEncoder(input_folder= output_chunk_dir, \n",
    "               output_folder= output_embeddings_dir, \n",
    "               text_encoder_model_name = MY_CONFIG.EMBEDDING_MODEL\n",
    "               ).transform()\n",
    "if result == 0:\n",
    "    print (f\"✅ Stage:{STAGE} completed successfully\")\n",
    "else:\n",
    "    raise Exception (f\"❌ Stage:{STAGE}  failed\")"
   ]
  },
  {
   "cell_type": "markdown",
   "id": "b734852c",
   "metadata": {},
   "source": [
    "### 6.2 - Inspect Generated output"
   ]
  },
  {
   "cell_type": "code",
   "execution_count": 23,
   "id": "7b1c1d09",
   "metadata": {},
   "outputs": [
    {
     "name": "stdout",
     "output_type": "stream",
     "text": [
      "Input data dimensions (rows x columns)=  (60, 15)\n",
      "Output data dimensions (rows x columns)=  (60, 16)\n"
     ]
    },
    {
     "data": {
      "text/html": [
       "<div>\n",
       "<style scoped>\n",
       "    .dataframe tbody tr th:only-of-type {\n",
       "        vertical-align: middle;\n",
       "    }\n",
       "\n",
       "    .dataframe tbody tr th {\n",
       "        vertical-align: top;\n",
       "    }\n",
       "\n",
       "    .dataframe thead th {\n",
       "        text-align: right;\n",
       "    }\n",
       "</style>\n",
       "<table border=\"1\" class=\"dataframe\">\n",
       "  <thead>\n",
       "    <tr style=\"text-align: right;\">\n",
       "      <th></th>\n",
       "      <th>filename</th>\n",
       "      <th>num_pages</th>\n",
       "      <th>num_tables</th>\n",
       "      <th>num_doc_elements</th>\n",
       "      <th>document_hash</th>\n",
       "      <th>ext</th>\n",
       "      <th>hash</th>\n",
       "      <th>size</th>\n",
       "      <th>date_acquired</th>\n",
       "      <th>pdf_convert_time</th>\n",
       "      <th>source_filename</th>\n",
       "      <th>removed</th>\n",
       "      <th>source_document_id</th>\n",
       "      <th>contents</th>\n",
       "      <th>document_id</th>\n",
       "      <th>embeddings</th>\n",
       "    </tr>\n",
       "  </thead>\n",
       "  <tbody>\n",
       "    <tr>\n",
       "      <th>4</th>\n",
       "      <td>attention.pdf</td>\n",
       "      <td>15</td>\n",
       "      <td>6</td>\n",
       "      <td>147</td>\n",
       "      <td>2949302674760005271</td>\n",
       "      <td>pdf</td>\n",
       "      <td>f1f600333e46c5d7e23f5a110a903ee38aab0bf7047eca...</td>\n",
       "      <td>46040</td>\n",
       "      <td>2025-01-12T22:01:29.018346</td>\n",
       "      <td>13.329675</td>\n",
       "      <td>attention.pdf</td>\n",
       "      <td>[]</td>\n",
       "      <td>47e22c7b-4fcb-49ce-a8fb-1a25f8d92d34</td>\n",
       "      <td>## 2 Background\\n\\nThe goal of reducing sequen...</td>\n",
       "      <td>8092df4b65063ad84b121780ba3570ef985a2b6bd04782...</td>\n",
       "      <td>[-0.09019503, -0.03779276, 0.0051401607, -0.04...</td>\n",
       "    </tr>\n",
       "    <tr>\n",
       "      <th>34</th>\n",
       "      <td>granite.pdf</td>\n",
       "      <td>28</td>\n",
       "      <td>19</td>\n",
       "      <td>295</td>\n",
       "      <td>3127757990743433032</td>\n",
       "      <td>pdf</td>\n",
       "      <td>0534b6a29ab9cedf21c3f6cf756cf0252d19a8e9135a41...</td>\n",
       "      <td>127678</td>\n",
       "      <td>2025-01-12T22:01:58.425782</td>\n",
       "      <td>29.370334</td>\n",
       "      <td>granite.pdf</td>\n",
       "      <td>[]</td>\n",
       "      <td>122f1edf-ed60-40c2-83e4-4b3b9ae732ef</td>\n",
       "      <td>## 2.4 Natural Language Datasets\\n\\nIn additio...</td>\n",
       "      <td>1289d564d558c095b4d4ba62c845f33bf6c666ea8d9a13...</td>\n",
       "      <td>[-0.05261178, -0.082296796, 0.03544874, 0.0172...</td>\n",
       "    </tr>\n",
       "    <tr>\n",
       "      <th>3</th>\n",
       "      <td>attention.pdf</td>\n",
       "      <td>15</td>\n",
       "      <td>6</td>\n",
       "      <td>147</td>\n",
       "      <td>2949302674760005271</td>\n",
       "      <td>pdf</td>\n",
       "      <td>f1f600333e46c5d7e23f5a110a903ee38aab0bf7047eca...</td>\n",
       "      <td>46040</td>\n",
       "      <td>2025-01-12T22:01:29.018346</td>\n",
       "      <td>13.329675</td>\n",
       "      <td>attention.pdf</td>\n",
       "      <td>[]</td>\n",
       "      <td>47e22c7b-4fcb-49ce-a8fb-1a25f8d92d34</td>\n",
       "      <td>## 1 Introduction\\n\\nRecurrent neural networks...</td>\n",
       "      <td>2ea59b12da7c45067147586b86dc913164b68c7da14680...</td>\n",
       "      <td>[-0.04227975, -0.0830809, 0.02563228, 0.018819...</td>\n",
       "    </tr>\n",
       "  </tbody>\n",
       "</table>\n",
       "</div>"
      ],
      "text/plain": [
       "         filename  num_pages  num_tables  num_doc_elements  \\\n",
       "4   attention.pdf         15           6               147   \n",
       "34    granite.pdf         28          19               295   \n",
       "3   attention.pdf         15           6               147   \n",
       "\n",
       "          document_hash  ext  \\\n",
       "4   2949302674760005271  pdf   \n",
       "34  3127757990743433032  pdf   \n",
       "3   2949302674760005271  pdf   \n",
       "\n",
       "                                                 hash    size  \\\n",
       "4   f1f600333e46c5d7e23f5a110a903ee38aab0bf7047eca...   46040   \n",
       "34  0534b6a29ab9cedf21c3f6cf756cf0252d19a8e9135a41...  127678   \n",
       "3   f1f600333e46c5d7e23f5a110a903ee38aab0bf7047eca...   46040   \n",
       "\n",
       "                 date_acquired  pdf_convert_time source_filename removed  \\\n",
       "4   2025-01-12T22:01:29.018346         13.329675   attention.pdf      []   \n",
       "34  2025-01-12T22:01:58.425782         29.370334     granite.pdf      []   \n",
       "3   2025-01-12T22:01:29.018346         13.329675   attention.pdf      []   \n",
       "\n",
       "                      source_document_id  \\\n",
       "4   47e22c7b-4fcb-49ce-a8fb-1a25f8d92d34   \n",
       "34  122f1edf-ed60-40c2-83e4-4b3b9ae732ef   \n",
       "3   47e22c7b-4fcb-49ce-a8fb-1a25f8d92d34   \n",
       "\n",
       "                                             contents  \\\n",
       "4   ## 2 Background\\n\\nThe goal of reducing sequen...   \n",
       "34  ## 2.4 Natural Language Datasets\\n\\nIn additio...   \n",
       "3   ## 1 Introduction\\n\\nRecurrent neural networks...   \n",
       "\n",
       "                                          document_id  \\\n",
       "4   8092df4b65063ad84b121780ba3570ef985a2b6bd04782...   \n",
       "34  1289d564d558c095b4d4ba62c845f33bf6c666ea8d9a13...   \n",
       "3   2ea59b12da7c45067147586b86dc913164b68c7da14680...   \n",
       "\n",
       "                                           embeddings  \n",
       "4   [-0.09019503, -0.03779276, 0.0051401607, -0.04...  \n",
       "34  [-0.05261178, -0.082296796, 0.03544874, 0.0172...  \n",
       "3   [-0.04227975, -0.0830809, 0.02563228, 0.018819...  "
      ]
     },
     "execution_count": 23,
     "metadata": {},
     "output_type": "execute_result"
    }
   ],
   "source": [
    "from utils import read_parquet_files_as_df\n",
    "\n",
    "output_df = read_parquet_files_as_df(output_embeddings_dir)\n",
    "\n",
    "print (\"Input data dimensions (rows x columns)= \", input_df.shape)\n",
    "print (\"Output data dimensions (rows x columns)= \", output_df.shape)\n",
    "\n",
    "output_df.sample(min(3, output_df.shape[0]))"
   ]
  },
  {
   "cell_type": "markdown",
   "id": "f5e12630-be6b-4188-a925-77117155617b",
   "metadata": {},
   "source": [
    "## Step-7: Copy output to final output dir"
   ]
  },
  {
   "cell_type": "code",
   "execution_count": 24,
   "id": "16dee3b8-31dc-4168-8adb-f2a0a0b5e207",
   "metadata": {},
   "outputs": [
    {
     "name": "stdout",
     "output_type": "stream",
     "text": [
      "✅ Copied output from 'output/04_embeddings_out' --> 'output/output_final'\n"
     ]
    }
   ],
   "source": [
    "import shutil\n",
    "\n",
    "shutil.rmtree(MY_CONFIG.OUTPUT_FOLDER_FINAL, ignore_errors=True)\n",
    "shutil.copytree(src=output_embeddings_dir, dst=MY_CONFIG.OUTPUT_FOLDER_FINAL)\n",
    "\n",
    "print (f\"✅ Copied output from '{output_embeddings_dir}' --> '{MY_CONFIG.OUTPUT_FOLDER_FINAL}'\")"
   ]
  }
 ],
 "metadata": {
  "kernelspec": {
   "display_name": "dpk-10-r1.0.0a3-py3.11",
   "language": "python",
   "name": "python3"
  },
  "language_info": {
   "codemirror_mode": {
    "name": "ipython",
    "version": 3
   },
   "file_extension": ".py",
   "mimetype": "text/x-python",
   "name": "python",
   "nbconvert_exporter": "python",
   "pygments_lexer": "ipython3",
   "version": "3.11.11"
  }
 },
 "nbformat": 4,
 "nbformat_minor": 5
}
