{
 "cells": [
  {
   "cell_type": "code",
   "execution_count": 1,
   "id": "c4f9c952-cb3b-40f1-bfb5-00d9a43a5715",
   "metadata": {
    "scrolled": true
   },
   "outputs": [],
   "source": [
    "%%capture\n",
    "!pip install 'data-prep-toolkit-transforms[pdf2parquet]==1.0.0a0'\n",
    "!pip install pandas\n",
    "!pip install -U ipywidgets"
   ]
  },
  {
   "cell_type": "code",
   "execution_count": 2,
   "id": "76469c87-cfd0-4acd-b57f-36edc52018ff",
   "metadata": {},
   "outputs": [],
   "source": [
    "from dpk_pdf2parquet.transform_python import Pdf2Parquet\n",
    "from data_processing.utils import GB\n",
    "from dpk_pdf2parquet.transform import pdf2parquet_contents_types"
   ]
  },
  {
   "cell_type": "code",
   "execution_count": 3,
   "id": "90277e74-f223-434d-b256-94079bd6c5bc",
   "metadata": {
    "scrolled": true
   },
   "outputs": [
    {
     "name": "stderr",
     "output_type": "stream",
     "text": [
      "21:23:54 INFO - pdf2parquet parameters are : {'batch_size': -1, 'artifacts_path': None, 'contents_type': <pdf2parquet_contents_types.MARKDOWN: 'text/markdown'>, 'do_table_structure': True, 'do_ocr': True, 'ocr_engine': <pdf2parquet_ocr_engine.EASYOCR: 'easyocr'>, 'bitmap_area_threshold': 0.05, 'pdf_backend': <pdf2parquet_pdf_backend.DLPARSE_V2: 'dlparse_v2'>, 'double_precision': 8}\n",
      "21:23:54 INFO - pipeline id pipeline_id\n",
      "21:23:54 INFO - code location None\n",
      "21:23:54 INFO - data factory data_ is using local data access: input_folder - downloads output_folder - pdf2parquet-files\n",
      "21:23:54 INFO - data factory data_ max_files -1, n_sample -1\n",
      "21:23:54 INFO - data factory data_ Not using data sets, checkpointing False, max files -1, random samples -1, files to use ['.pdf'], files to checkpoint ['.parquet']\n",
      "21:23:54 INFO - orchestrator pdf2parquet started at 2024-12-13 21:23:54\n",
      "21:23:54 INFO - Number of files is 1, source profile {'max_file_size': 5.308699607849121, 'min_file_size': 5.308699607849121, 'total_file_size': 5.308699607849121}\n",
      "21:23:54 INFO - Initializing models\n",
      "21:28:14 INFO - Completed 1 files (100.0%) in 0.692 min\n",
      "21:28:14 INFO - Done processing 1 files, waiting for flush() completion.\n",
      "21:28:14 INFO - done flushing in 0.0 sec\n",
      "21:28:15 INFO - Completed execution in 4.344 min, execution result 0\n"
     ]
    }
   ],
   "source": [
    "%%capture\n",
    "Pdf2Parquet(input_folder= \"downloads\", \n",
    "               output_folder= \"pdf2parquet-files\", \n",
    "               data_files_to_use=['.pdf'],\n",
    "               pdf2parquet_contents_type='text/markdown').transform()"
   ]
  },
  {
   "cell_type": "code",
   "execution_count": 4,
   "id": "e2bee8da-c566-4e45-bca1-354dfd04b0df",
   "metadata": {},
   "outputs": [
    {
     "data": {
      "text/html": [
       "<div>\n",
       "<style scoped>\n",
       "    .dataframe tbody tr th:only-of-type {\n",
       "        vertical-align: middle;\n",
       "    }\n",
       "\n",
       "    .dataframe tbody tr th {\n",
       "        vertical-align: top;\n",
       "    }\n",
       "\n",
       "    .dataframe thead th {\n",
       "        text-align: right;\n",
       "    }\n",
       "</style>\n",
       "<table border=\"1\" class=\"dataframe\">\n",
       "  <thead>\n",
       "    <tr style=\"text-align: right;\">\n",
       "      <th></th>\n",
       "      <th>filename</th>\n",
       "      <th>contents</th>\n",
       "      <th>num_pages</th>\n",
       "      <th>num_tables</th>\n",
       "      <th>num_doc_elements</th>\n",
       "      <th>document_id</th>\n",
       "      <th>document_hash</th>\n",
       "      <th>ext</th>\n",
       "      <th>hash</th>\n",
       "      <th>size</th>\n",
       "      <th>date_acquired</th>\n",
       "      <th>pdf_convert_time</th>\n",
       "      <th>source_filename</th>\n",
       "    </tr>\n",
       "  </thead>\n",
       "  <tbody>\n",
       "    <tr>\n",
       "      <th>0</th>\n",
       "      <td>arxiv_org_2408.09869v5.pdf_application.pdf</td>\n",
       "      <td>&lt;!-- image --&gt;\\n\\n## Docling Technical Report\\...</td>\n",
       "      <td>9</td>\n",
       "      <td>4</td>\n",
       "      <td>151</td>\n",
       "      <td>0ffcff99-20a7-4b91-867e-22e39b267682</td>\n",
       "      <td>11465328351749295394</td>\n",
       "      <td>pdf</td>\n",
       "      <td>36680897c65afe572c38bac40d01669f3a00e47f821e47...</td>\n",
       "      <td>43545</td>\n",
       "      <td>2024-12-13T21:28:14.960202</td>\n",
       "      <td>41.48039</td>\n",
       "      <td>arxiv_org_2408.09869v5.pdf_application.pdf</td>\n",
       "    </tr>\n",
       "  </tbody>\n",
       "</table>\n",
       "</div>"
      ],
      "text/plain": [
       "                                     filename  \\\n",
       "0  arxiv_org_2408.09869v5.pdf_application.pdf   \n",
       "\n",
       "                                            contents  num_pages  num_tables  \\\n",
       "0  <!-- image -->\\n\\n## Docling Technical Report\\...          9           4   \n",
       "\n",
       "   num_doc_elements                           document_id  \\\n",
       "0               151  0ffcff99-20a7-4b91-867e-22e39b267682   \n",
       "\n",
       "          document_hash  ext  \\\n",
       "0  11465328351749295394  pdf   \n",
       "\n",
       "                                                hash   size  \\\n",
       "0  36680897c65afe572c38bac40d01669f3a00e47f821e47...  43545   \n",
       "\n",
       "                date_acquired  pdf_convert_time  \\\n",
       "0  2024-12-13T21:28:14.960202          41.48039   \n",
       "\n",
       "                              source_filename  \n",
       "0  arxiv_org_2408.09869v5.pdf_application.pdf  "
      ]
     },
     "execution_count": 4,
     "metadata": {},
     "output_type": "execute_result"
    }
   ],
   "source": [
    "import pyarrow.parquet as pq\n",
    "import pandas as pd\n",
    "table = pq.read_table('pdf2parquet-files/arxiv_org_2408.09869v5.pdf_application.parquet')\n",
    "table.to_pandas()"
   ]
  },
  {
   "cell_type": "code",
   "execution_count": null,
   "id": "a5eaaadd-fefb-4b98-b933-b3f37945792e",
   "metadata": {},
   "outputs": [],
   "source": []
  }
 ],
 "metadata": {
  "kernelspec": {
   "display_name": "Python 3 (ipykernel)",
   "language": "python",
   "name": "python3"
  },
  "language_info": {
   "codemirror_mode": {
    "name": "ipython",
    "version": 3
   },
   "file_extension": ".py",
   "mimetype": "text/x-python",
   "name": "python",
   "nbconvert_exporter": "python",
   "pygments_lexer": "ipython3",
   "version": "3.11.10"
  }
 },
 "nbformat": 4,
 "nbformat_minor": 5
}
