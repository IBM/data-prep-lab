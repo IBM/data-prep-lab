{
 "cells": [
  {
   "cell_type": "markdown",
   "id": "afd55886-5f5b-4794-838e-ef8179fb0394",
   "metadata": {},
   "source": [
    "##### **** These pip install need to be adapted to use the appropriate release level. Currently used for testing alpha release of transforms 1.0"
   ]
  },
  {
   "cell_type": "code",
   "execution_count": 38,
   "id": "4c45c3c6-e4d7-4e61-8de6-32d61f2ce695",
   "metadata": {},
   "outputs": [],
   "source": [
    "%%capture\n",
    "!pip install 'data-prep-toolkit-transforms[language]==1.0.0a0'\n",
    "import pyarrow.parquet as pq\n",
    "import pandas as pd"
   ]
  },
  {
   "cell_type": "markdown",
   "id": "c276c60e",
   "metadata": {},
   "source": [
    "configur and run web2parquet"
   ]
  },
  {
   "cell_type": "code",
   "execution_count": 39,
   "id": "b6c89ac7-6824-4d99-8120-7d5b150bd683",
   "metadata": {},
   "outputs": [],
   "source": [
    "# Must enable nested asynchronous io in a notebook as the crawler uses coroutine to speed up acquisition and downloads\n",
    "import nest_asyncio\n",
    "nest_asyncio.apply()"
   ]
  },
  {
   "cell_type": "code",
   "execution_count": 40,
   "id": "c2a12abc-9460-4e45-8961-873b48a9ab19",
   "metadata": {},
   "outputs": [],
   "source": [
    "%%capture\n",
    "from dpk_web2parquet.transform import Web2Parquet\n",
    "Web2Parquet(urls= ['https://arxiv.org/pdf/2408.09869'],\n",
    "                    depth=2, \n",
    "                    downloads=10,\n",
    "                    folder='downloads').transform()\n"
   ]
  },
  {
   "cell_type": "code",
   "execution_count": 25,
   "id": "c3df5adf-4717-4a03-864d-9151cd3f134b",
   "metadata": {},
   "outputs": [],
   "source": [
    "##### **** The specified downloads folder will include the downloaded file(s).\n",
    "#import glob\n",
    "#glob.glob(\"downloads/*\") "
   ]
  },
  {
   "cell_type": "markdown",
   "id": "bd71fe8a",
   "metadata": {},
   "source": [
    "Configure and run Pdf2Parquet"
   ]
  },
  {
   "cell_type": "code",
   "execution_count": null,
   "id": "7276fe84-6512-4605-ab65-747351e13a7c",
   "metadata": {},
   "outputs": [],
   "source": [
    "from dpk_pdf2parquet.transform_python import Pdf2Parquet\n",
    "Pdf2Parquet(input_folder= \"downloads\", \n",
    "               output_folder= \"pdf2parquet-files\", \n",
    "               data_files_to_use=['.pdf'],\n",
    "               pdf2parquet_contents_type='text/markdown').transform()"
   ]
  },
  {
   "cell_type": "code",
   "execution_count": 29,
   "id": "fef6667e-71ed-4054-9382-55c6bb3fda70",
   "metadata": {},
   "outputs": [],
   "source": [
    "##### **** To explote the output from pdf2parquet, run the code below\n",
    "#table = pq.read_table('pdf2parquet-files/arxiv_org_2408.09869v5.pdf_application.parquet')\n",
    "#table.to_pandas()"
   ]
  },
  {
   "cell_type": "markdown",
   "id": "54cba5c4",
   "metadata": {},
   "source": [
    "Configure and Run DocChunk"
   ]
  },
  {
   "cell_type": "code",
   "execution_count": null,
   "id": "fe8bf1bc",
   "metadata": {},
   "outputs": [],
   "source": [
    "%%capture\n",
    "from dpk_doc_chunk.transform_python import DocChunk\n",
    "DocChunk(input_folder='pdf2parquet-files',\n",
    "        output_folder='doc-chunk-files',\n",
    "        doc_chunk_chunking_type= \"li_markdown\").transform()"
   ]
  },
  {
   "cell_type": "code",
   "execution_count": 31,
   "id": "9d4f7bfc",
   "metadata": {},
   "outputs": [],
   "source": [
    "##### **** To explote the output from doc-chunk, run the code below\n",
    "#table = pq.read_table('doc-chunk-files/arxiv_org_2408.09869v5.pdf_application.parquet')\n",
    "#table.to_pandas()"
   ]
  },
  {
   "cell_type": "markdown",
   "id": "349cf6ff",
   "metadata": {},
   "source": [
    "Configure and Run Exact dedup"
   ]
  },
  {
   "cell_type": "code",
   "execution_count": null,
   "id": "38480cd5",
   "metadata": {},
   "outputs": [],
   "source": [
    "from dpk_ededup.transform_python import Ededup\n",
    "Ededup(input_folder=\"doc-chunk-files\",\n",
    "    output_folder=\"dedup-files\",\n",
    "    ededup_doc_column=\"contents\",\n",
    "    ededup_doc_id_column=\"document_id\").transform()"
   ]
  },
  {
   "cell_type": "code",
   "execution_count": 33,
   "id": "27e36a8e",
   "metadata": {},
   "outputs": [],
   "source": [
    "##### **** To explote the output from eDedup, run the code below\n",
    "#table = pq.read_table('dedup-files/arxiv_org_2408.09869v5.pdf_application.parquet')\n",
    "#table.to_pandas()"
   ]
  },
  {
   "cell_type": "markdown",
   "id": "318bc520",
   "metadata": {},
   "source": [
    "Configure and run Land Id"
   ]
  },
  {
   "cell_type": "code",
   "execution_count": null,
   "id": "ad27a462",
   "metadata": {},
   "outputs": [],
   "source": [
    "from dpk_lang_id.transform_python import LangId\n",
    "LangId(input_folder= \"dedup-files\",\n",
    "        output_folder= \"langId-files\",\n",
    "        lang_id_model_credential= \"PUT YOUR OWN HUGGINGFACE CREDENTIAL\",\n",
    "        lang_id_model_kind= \"fasttext\",\n",
    "        lang_id_model_url= \"facebook/fasttext-language-identification\",\n",
    "        lang_id_content_column_name= \"contents\").transform()"
   ]
  },
  {
   "cell_type": "code",
   "execution_count": 35,
   "id": "c35cab2e",
   "metadata": {},
   "outputs": [],
   "source": [
    "##### **** To explote the output from langId, run the code below\n",
    "#table = pq.read_table('langId-files/arxiv_org_2408.09869v5.pdf_application.parquet')\n",
    "#table.to_pandas()"
   ]
  },
  {
   "cell_type": "markdown",
   "id": "a968dbb4",
   "metadata": {},
   "source": [
    "Configure and run Doc Quality"
   ]
  },
  {
   "cell_type": "code",
   "execution_count": null,
   "id": "4e84ce78",
   "metadata": {},
   "outputs": [],
   "source": [
    "%%capture\n",
    "from dpk_doc_quality.transform_python import DocQuality\n",
    "DocQuality(input_folder='dedup-files',\n",
    "            output_folder= 'doc-quality-files',\n",
    "            docq_text_lang = \"en\",\n",
    "            docq_doc_content_column =\"contents\").transform()"
   ]
  },
  {
   "cell_type": "code",
   "execution_count": 37,
   "id": "d98b854f",
   "metadata": {},
   "outputs": [],
   "source": [
    "##### **** To explote the output from Doc Quality, run the code below\n",
    "#table = pq.read_table('doc-quality-files/arxiv_org_2408.09869v5.pdf_application.parquet')\n",
    "#table.to_pandas()"
   ]
  }
 ],
 "metadata": {
  "kernelspec": {
   "display_name": "Python 3",
   "language": "python",
   "name": "python3"
  },
  "language_info": {
   "codemirror_mode": {
    "name": "ipython",
    "version": 3
   },
   "file_extension": ".py",
   "mimetype": "text/x-python",
   "name": "python",
   "nbconvert_exporter": "python",
   "pygments_lexer": "ipython3",
   "version": "3.11.10"
  }
 },
 "nbformat": 4,
 "nbformat_minor": 5
}
