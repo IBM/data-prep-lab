{
 "cells": [
  {
   "cell_type": "markdown",
   "id": "605a0ae1-62ec-418c-a29b-b0cf24e01407",
   "metadata": {},
   "source": [
    "**** These pip installs need to be adapted to use the appropriate release level. Alternatively, The venv running the jupyter lab could be pre-configured with a requirement file that includes the right release. Example for transform developers working from git clone:\n",
    "```\n",
    "    make venv \n",
    "    source venv/bin/activate \n",
    "    pip install jupyterlab\n",
    "```"
   ]
  },
  {
   "cell_type": "code",
   "execution_count": 3,
   "id": "a517b15a-759a-4758-87dc-d92431defd68",
   "metadata": {},
   "outputs": [],
   "source": [
    "%%capture\n",
    "## This is here as a reference only\n",
    "# Users and application developers must use the right tag for the latest from pypi\n",
    "%pip install data-prep-toolkit\n",
    "%pip install 'data-prep-toolkit-transforms[bloom]'"
   ]
  },
  {
   "cell_type": "markdown",
   "id": "dce85474-5fc8-4aab-9265-65c5fe5bc228",
   "metadata": {},
   "source": [
    "**** Configure the transform parameters. The set of dictionary keys holding BloomTransform configuration for values are as follows:\n",
    " - model_name_or_path - specify the GneissWeb Bloom filter model, which should be sourced from HuggingFace. The default is the test Bloom filter model.\n",
    " - annotation_column - the column name containing binary score in the output .parquet file. Defaults to is_in_GneissWeb.\n",
    " - doc_text_column - the column name containing the document text in the input .parquet file. Defaults to contents.\n",
    " - batch_size - modify it based on the infrastructure capacity. Defaults to 1000.\n",
    "\n",
    "***** Import required classes and modules"
   ]
  },
  {
   "cell_type": "code",
   "execution_count": 5,
   "id": "c2a77f37-147a-401b-8007-4ce1c6f44c60",
   "metadata": {},
   "outputs": [],
   "source": [
    "from dpk_bloom.transform_python import BLOOM"
   ]
  },
  {
   "cell_type": "markdown",
   "id": "950cc5c4-117e-4bd2-8299-3de0be8072fe",
   "metadata": {},
   "source": [
    "***** Setup runtime parameters for this transform and invoke transform"
   ]
  },
  {
   "cell_type": "code",
   "execution_count": 8,
   "id": "acf28558-dcd0-4b58-989b-65175eeacc07",
   "metadata": {},
   "outputs": [
    {
     "name": "stderr",
     "output_type": "stream",
     "text": [
      "21:39:41 INFO - bloom params are {'model_name_or_path': './bf.bloom', 'annotation_column': 'is_in_GneissWeb', 'doc_text_column': 'contents', 'inference_engine': 'CPU', 'batch_size': 1000} \n",
      "21:39:41 INFO - pipeline id pipeline_id\n",
      "21:39:41 INFO - code location None\n",
      "21:39:41 INFO - data factory data_ is using local data access: input_folder - test-data/input output_folder - output\n",
      "21:39:41 INFO - data factory data_ max_files -1, n_sample -1\n",
      "21:39:41 INFO - data factory data_ Not using data sets, checkpointing False, max files -1, random samples -1, files to use ['.parquet'], files to checkpoint ['.parquet']\n",
      "21:39:41 INFO - orchestrator bloom started at 2025-01-28 21:39:41\n",
      "21:39:41 INFO - Number of files is 1, source profile {'max_file_size': 18.615995407104492, 'min_file_size': 18.615995407104492, 'total_file_size': 18.615995407104492}\n",
      "21:39:41 INFO - Completed 1 files (100.0%) in 0.004 min\n",
      "21:39:41 INFO - Done processing 1 files, waiting for flush() completion.\n",
      "21:39:41 INFO - done flushing in 0.0 sec\n",
      "21:39:41 INFO - Completed execution in 0.004 min, execution result 0\n"
     ]
    },
    {
     "name": "stdout",
     "output_type": "stream",
     "text": [
      "Processing batch: 0/10\n",
      "Processing batch: 1/10\n",
      "Processing batch: 2/10\n",
      "Processing batch: 3/10\n",
      "Processing batch: 4/10\n",
      "Processing batch: 5/10\n",
      "Processing batch: 6/10\n",
      "Processing batch: 7/10\n",
      "Processing batch: 8/10\n",
      "Processing batch: 9/10\n",
      "Processing batch: 10/10\n",
      "                                                   id  \\\n",
      "0     <urn:uuid:39147604-bfbe-4ed5-b19c-54105f8ae8a7>   \n",
      "1     <urn:uuid:ba819eb7-e6e6-415a-87f4-0347b6a4f017>   \n",
      "2     <urn:uuid:07b8e00d-b445-4736-a593-cd1c147dce21>   \n",
      "3     <urn:uuid:c970d9a2-a5ce-4050-9ea3-58d7bbd609a8>   \n",
      "4     <urn:uuid:5c2cac9e-2fda-4194-959b-6ede0668ad2a>   \n",
      "...                                               ...   \n",
      "9995  <urn:uuid:fdfbbb66-e36f-4947-b94d-b668c404bcb9>   \n",
      "9996  <urn:uuid:e8f9150b-7905-46fe-8314-2bd64ceb63c6>   \n",
      "9997  <urn:uuid:2b9043a4-9fc2-42cb-9b68-f2e9af07785b>   \n",
      "9998  <urn:uuid:7f5cdee3-a2b7-4a09-8d2d-1cf11220a2c6>   \n",
      "9999  <urn:uuid:17f142df-ab81-496f-923a-a5afe0e3de75>   \n",
      "\n",
      "                                               contents  is_in_GneissWeb  \n",
      "0     |Viewing Single Post From: Spoilers for the We...                0  \n",
      "1     *sigh* Fundamentalist community, let me pass o...                1  \n",
      "2     A novel two-step immunotherapy approach has sh...                1  \n",
      "3     Free the Cans! Working Together to Reduce Wast...                1  \n",
      "4     ORLANDO, Fla. — While the Rapid Recall Exchang...                0  \n",
      "...                                                 ...              ...  \n",
      "9995  Services Provided at Root Cause Medical Clinic...                0  \n",
      "9996  Angles of incidence and squirts are important ...                0  \n",
      "9997  : Two New Studies Show the Power of Gratitude ...                0  \n",
      "9998  PAIR Graduate: Pendeza\\nAfter living in a refu...                0  \n",
      "9999  1 Southwark Bridge London\\nSeptember 3, 2015\\n...                0  \n",
      "\n",
      "[10000 rows x 3 columns]\n"
     ]
    },
    {
     "data": {
      "text/plain": [
       "0"
      ]
     },
     "execution_count": 8,
     "metadata": {},
     "output_type": "execute_result"
    }
   ],
   "source": [
    "# create parameters\n",
    "BLOOM(input_folder=\"test-data/input\",\n",
    "        output_folder=\"output\",\n",
    "        model_name_or_path= './bf.bloom',\n",
    "        annotation_column= \"is_in_GneissWeb\",\n",
    "        doc_text_column= \"contents\",\n",
    "        inference_engine= \"CPU\",\n",
    "        batch_size= 1000,\n",
    "        ).transform()"
   ]
  },
  {
   "cell_type": "markdown",
   "id": "f933e2d4-f9e0-4c92-8560-214e9ff5d724",
   "metadata": {},
   "source": [
    "**** The specified folder will include the transformed parquet files."
   ]
  },
  {
   "cell_type": "code",
   "execution_count": 9,
   "id": "4ca0d2ea-7b2f-4628-a787-fd94dbf3704d",
   "metadata": {},
   "outputs": [
    {
     "data": {
      "text/plain": [
       "['output/metadata.json', 'output/test1.parquet']"
      ]
     },
     "execution_count": 9,
     "metadata": {},
     "output_type": "execute_result"
    }
   ],
   "source": [
    "# the outputs will be located in the following folders\n",
    "import glob\n",
    "glob.glob(\"output/*\")"
   ]
  },
  {
   "cell_type": "code",
   "execution_count": null,
   "id": "9988bba8-b0bb-478a-b057-68fb42519b98",
   "metadata": {},
   "outputs": [],
   "source": []
  }
 ],
 "metadata": {
  "kernelspec": {
   "display_name": "Python 3 (ipykernel)",
   "language": "python",
   "name": "python3"
  },
  "language_info": {
   "codemirror_mode": {
    "name": "ipython",
    "version": 3
   },
   "file_extension": ".py",
   "mimetype": "text/x-python",
   "name": "python",
   "nbconvert_exporter": "python",
   "pygments_lexer": "ipython3",
   "version": "3.11.0"
  }
 },
 "nbformat": 4,
 "nbformat_minor": 5
}
