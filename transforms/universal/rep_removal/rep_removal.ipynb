{
 "cells": [
  {
   "cell_type": "markdown",
   "id": "63e0484e",
   "metadata": {},
   "source": [
    "# Prerequisites\n",
    "\n",
    "***Rust*** is required to be installed on the system locally in order to run. To install, review here: https://www.rust-lang.org/tools/install"
   ]
  },
  {
   "cell_type": "markdown",
   "id": "702be7fc",
   "metadata": {},
   "source": [
    "## Pip installations\n",
    "These pip installs need to be adapted to use the appropriate release level. Alternatively, The venv running the jupyter lab could be pre-configured with a requirement file that includes the right release. \n",
    "\n",
    "##### Example for transform developers working from git clone:\n",
    "\n",
    "make venv \n",
    "\n",
    "source venv/bin/activate \n",
    "\n",
    "pip install jupyterlab\n",
    "\n"
   ]
  },
  {
   "cell_type": "markdown",
   "id": "0c8a4f8d",
   "metadata": {},
   "source": [
    "## Import required classes and modules\n"
   ]
  },
  {
   "cell_type": "code",
   "execution_count": 1,
   "id": "be791e3c",
   "metadata": {},
   "outputs": [
    {
     "name": "stderr",
     "output_type": "stream",
     "text": [
      "None of PyTorch, TensorFlow >= 2.0, or Flax have been found. Models won't be available and only tokenizers, configuration and file/data utilities can be used.\n"
     ]
    }
   ],
   "source": [
    "from dpk_rep_removal.runtime import RepRemoval"
   ]
  },
  {
   "cell_type": "markdown",
   "id": "d065b6c3",
   "metadata": {},
   "source": [
    "## Setup runtime parameters for this transform and invoke the transform"
   ]
  },
  {
   "cell_type": "code",
   "execution_count": 3,
   "id": "6d6a5f8b",
   "metadata": {},
   "outputs": [
    {
     "name": "stderr",
     "output_type": "stream",
     "text": [
      "17:45:45 INFO - pipeline id pipeline_id\n",
      "17:45:45 INFO - code location None\n",
      "17:45:45 INFO - data factory data_ is using local data access: input_folder - test-data/input output_folder - test-data/output\n",
      "17:45:45 INFO - data factory data_ max_files -1, n_sample -1\n",
      "17:45:45 INFO - data factory data_ Not using data sets, checkpointing False, max files -1, random samples -1, files to use ['.parquet'], files to checkpoint ['.parquet']\n",
      "17:45:45 INFO - orchestrator rep_removal started at 2025-01-16 17:45:45\n",
      "17:45:45 INFO - Number of files is 1, source profile {'max_file_size': 0.04273414611816406, 'min_file_size': 0.04273414611816406, 'total_file_size': 0.04273414611816406}\n",
      "17:45:45 INFO - Completed 1 files (100.0%) in 0.001 min\n",
      "17:45:45 INFO - Done processing 1 files, waiting for flush() completion.\n",
      "17:45:45 INFO - done flushing in 0.0 sec\n",
      "17:45:45 ERROR - Exception during execution 'processing_time': None\n",
      "17:45:45 INFO - Completed execution in 0.002 min, execution result 1\n"
     ]
    }
   ],
   "source": [
    "%%capture\n",
    "RepRemoval(input_folder=\"test-data/input\",\n",
    "            output_folder=\"test-data/output\",\n",
    "            rep_removal_contents_column_name='text', \n",
    "            rep_removal_num_threads='1',\n",
    "            ).transform()"
   ]
  },
  {
   "cell_type": "markdown",
   "id": "8ce81bef",
   "metadata": {},
   "source": [
    "\n",
    "### The specified output_folder will include the transformed parquet files."
   ]
  },
  {
   "cell_type": "markdown",
   "id": "39cf0a93",
   "metadata": {},
   "source": [
    "import glob\n",
    "glob.glob(\"output/*\")"
   ]
  }
 ],
 "metadata": {
  "kernelspec": {
   "display_name": "dpk_outer",
   "language": "python",
   "name": "dpk_outer"
  },
  "language_info": {
   "codemirror_mode": {
    "name": "ipython",
    "version": 3
   },
   "file_extension": ".py",
   "mimetype": "text/x-python",
   "name": "python",
   "nbconvert_exporter": "python",
   "pygments_lexer": "ipython3",
   "version": "3.10.16"
  }
 },
 "nbformat": 4,
 "nbformat_minor": 5
}
